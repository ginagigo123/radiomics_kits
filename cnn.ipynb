{
 "cells": [
  {
   "cell_type": "code",
   "execution_count": 45,
   "metadata": {},
   "outputs": [],
   "source": [
    "import SimpleITK as sitk\n",
    "import matplotlib.pyplot as plt\n",
    "from scipy import ndimage\n",
    "\n",
    "import numpy as np\n",
    "import os\n",
    "import json\n",
    "\n",
    "import random\n",
    "import tensorflow as tf\n",
    "\n",
    "from tensorflow import keras\n",
    "from tensorflow.keras import layers\n"
   ]
  },
  {
   "cell_type": "code",
   "execution_count": 3,
   "metadata": {},
   "outputs": [
    {
     "name": "stdout",
     "output_type": "stream",
     "text": [
      "1 Physical GPUs, 1 Logical GPUs\n"
     ]
    }
   ],
   "source": [
    "gpus = tf.config.experimental.list_physical_devices('GPU')\n",
    "if gpus:\n",
    "    try:\n",
    "        # Currently, memory growth needs to be the same across GPUs\n",
    "        for gpu in gpus:\n",
    "            tf.config.experimental.set_memory_growth(gpu, True)\n",
    "        tf.config.experimental.set_visible_devices(gpus[0], 'GPU')\n",
    "        logical_gpus = tf.config.experimental.list_logical_devices('GPU')\n",
    "        print(len(gpus), \"Physical GPUs,\", len(logical_gpus), \"Logical GPUs\")\n",
    "    except RuntimeError as e:\n",
    "        # Memory growth must be set before GPUs have been initialized\n",
    "        print(e)\n"
   ]
  },
  {
   "cell_type": "code",
   "execution_count": 4,
   "metadata": {},
   "outputs": [],
   "source": [
    "def read_nifti_file(file_path):\n",
    "    \"\"\"Read and load volume\"\"\"\n",
    "    # Read file\n",
    "    img = sitk.ReadImage(file_path)\n",
    "    # 轉為 NumPy 陣列\n",
    "    img_arr = sitk.GetArrayFromImage(img)\n",
    "\n",
    "    return img_arr\n",
    "\n",
    "def resize_volume(img):\n",
    "    \"\"\"Resize across z-axis\"\"\"\n",
    "    # Set the desired depth\n",
    "    desired_depth = 64\n",
    "    desired_width = 128\n",
    "    desired_height = 128\n",
    "    \n",
    "    # Get current depth\n",
    "    current_width = img.shape[0]\n",
    "    current_height = img.shape[1]\n",
    "    current_depth = img.shape[-1]\n",
    "    \n",
    "    # Compute depth factor\n",
    "    depth = current_depth / desired_depth\n",
    "    width = current_width / desired_width\n",
    "    height = current_height / desired_height\n",
    "    depth_factor = 1 / depth\n",
    "    width_factor = 1 / width\n",
    "    height_factor = 1 / height\n",
    "    # Rotate\n",
    "    img = ndimage.rotate(img, 90, reshape=False)\n",
    "    # Resize across z-axis\n",
    "    img = ndimage.zoom(img, (width_factor, height_factor, depth_factor), order=1)\n",
    "    return img\n",
    "\n",
    "def preprocess_img(file_path):\n",
    "    img = read_nifti_file(file_path)\n",
    "    return resize_volume(img)\n",
    "\n",
    "def show_slices(slices):\n",
    "    fig, axes = plt.subplots(1, len(slices))\n",
    "    for i, slice in enumerate(slices):\n",
    "        axes[i].imshow(slice, cmap=\"gray\", origin=\"lower\")"
   ]
  },
  {
   "cell_type": "code",
   "execution_count": 52,
   "metadata": {},
   "outputs": [],
   "source": [
    "data_dir = 'C:\\\\Users\\\\Gina\\\\Lab\\\\kidney\\\\nnUNet-1\\\\Result'\n",
    "mask_path = os.path.join(data_dir, 'case_00001.nii.gz')\n",
    "\n",
    "data = read_nifti_file(mask_path)\n",
    "resize_data = resize_volume(data)"
   ]
  },
  {
   "cell_type": "code",
   "execution_count": 53,
   "metadata": {},
   "outputs": [
    {
     "name": "stdout",
     "output_type": "stream",
     "text": [
      "original image (black): 156347323\n",
      "original image (kidney): 1446043\n",
      "original image (tumor): (array([100, 100, 101, ..., 147, 147, 147], dtype=int64), array([297, 297, 294, ..., 273, 273, 273], dtype=int64), array([339, 340, 338, ..., 263, 264, 265], dtype=int64))\n",
      "--------------------\n",
      "resize image (black): 1039098\n",
      "resize image (kidney): 9369\n",
      "resize image (tumor): 3\n"
     ]
    }
   ],
   "source": [
    "print('original image (black):', len(np.where(data == 0)[0]))\n",
    "print('original image (kidney):', len(np.where(data == 1)[-1]))\n",
    "print('original image (tumor):', np.where(data == 2))\n",
    "print('-' * 20)\n",
    "print('resize image (black):', len(np.where(resize_data == 0)[0]))\n",
    "print('resize image (kidney):', len(np.where(resize_data == 1)[-1]))\n",
    "print('resize image (tumor):', len(np.where(resize_data == 2)))"
   ]
  },
  {
   "cell_type": "code",
   "execution_count": 80,
   "metadata": {},
   "outputs": [],
   "source": [
    "def get_bounding_box(img):\n",
    "    tumor_region = np.where(img == 2)\n",
    "\n",
    "    if len(tumor_region[0]) == 0:\n",
    "        return img\n",
    "\n",
    "    l_width = min(tumor_region[0])\n",
    "    l_height = min(tumor_region[1])\n",
    "    l_depth = min(tumor_region[2])\n",
    "\n",
    "    r_width = max(tumor_region[0])\n",
    "    r_height = max(tumor_region[1])\n",
    "    r_depth = max(tumor_region[2])\n",
    "\n",
    "    # turn the kidney part to black\n",
    "    img[np.where(img == 1)] = 0\n",
    "\n",
    "    return img[l_width:r_width, l_height:r_height, l_depth:r_depth]\n",
    "\n",
    "def get_tumor_region(file_path):\n",
    "    img = read_nifti_file(file_path)\n",
    "    return get_bounding_box(img)\n"
   ]
  },
  {
   "cell_type": "code",
   "execution_count": 70,
   "metadata": {},
   "outputs": [
    {
     "name": "stdout",
     "output_type": "stream",
     "text": [
      "(array([100, 100, 101, ..., 147, 147, 147], dtype=int64), array([297, 297, 294, ..., 273, 273, 273], dtype=int64), array([339, 340, 338, ..., 263, 264, 265], dtype=int64))\n",
      "image (tumor): (array([ 0,  0,  1, ..., 46, 46, 46], dtype=int64), array([43, 43, 40, ..., 21, 21, 21], dtype=int64), array([85, 86, 84, ..., 10, 11, 12], dtype=int64))\n"
     ]
    },
    {
     "data": {
      "image/png": "[encoded data removed]",
      "text/plain": [
       "<Figure size 640x480 with 3 Axes>"
      ]
     },
     "metadata": {},
     "output_type": "display_data"
    },
    {
     "data": {
      "image/png": "[encoded data removed]",
      "text/plain": [
       "<Figure size 640x480 with 3 Axes>"
      ]
     },
     "metadata": {},
     "output_type": "display_data"
    }
   ],
   "source": [
    "# 顯示各軸切面\n",
    "b_img = get_bounding_box(data)\n",
    "print('image (tumor):', np.where(b_img == 2))\n",
    "\n",
    "show_slices([data[:, :, 187], data[:, :, 188], data[:, :, 189]])\n",
    "show_slices([b_img[:, :, 0], b_img[:, :, 1], b_img[:, :, 2]])\n",
    "# show_slices([resize_data[:, :, 29], resize_data[:, :, 30], resize_data[:, :, 48]])"
   ]
  },
  {
   "cell_type": "code",
   "execution_count": 6,
   "metadata": {},
   "outputs": [],
   "source": [
    "# import label data\n",
    "with open('C:\\\\Users\\\\Gina\\\\Lab\\\\kidney\\\\kits21\\\\kits21\\\\data\\\\kits.json') as f:\n",
    "    data = json.load(f)\n",
    "\n",
    "label = [ case['tumor_histologic_subtype'] for case in data ]"
   ]
  },
  {
   "cell_type": "code",
   "execution_count": 7,
   "metadata": {},
   "outputs": [
    {
     "name": "stdout",
     "output_type": "stream",
     "text": [
      "Useless img: [17, 18, 19, 20, 31, 42, 43, 56, 77, 82, 88, 90, 92, 104, 106, 116, 120, 133, 137, 155, 156, 176, 183, 188, 200, 202, 205, 211, 225, 228, 234, 237, 238, 249, 253, 258, 275, 277, 279, 288, 291]\n"
     ]
    }
   ],
   "source": [
    "useless_type = ['rcc_unclassified',\n",
    "                'urothelial',\n",
    "                'mest',\n",
    "                'collecting_duct_undefined',\n",
    "                'oncocytoma',\n",
    "                'clear_cell_papillary_rcc', \n",
    "                'multilocular_cystic_rcc', \n",
    "                'other', 'wilms', \n",
    "                'angiomyolipoma', 'spindle_cell_neoplasm']\n",
    "\n",
    "drop_idx_img = []\n",
    "for idx, value in enumerate(label):\n",
    "    if value in useless_type:\n",
    "        drop_idx_img.append(idx)\n",
    "\n",
    "print('Useless img:', drop_idx_img)"
   ]
  },
  {
   "cell_type": "code",
   "execution_count": 74,
   "metadata": {},
   "outputs": [],
   "source": [
    "#  input mask\n",
    "data_dir = 'C:\\\\Users\\\\Gina\\\\Lab\\\\kidney\\\\nnUNet-1\\\\Result'\n",
    "mask_path = []\n",
    "\n",
    "for file in os.listdir(data_dir):\n",
    "    if \"nii.gz\" in file:\n",
    "        if int(file[5:10]) not in drop_idx_img:\n",
    "            mask_path.append(os.path.join(data_dir, file))\n"
   ]
  },
  {
   "cell_type": "code",
   "execution_count": 81,
   "metadata": {},
   "outputs": [
    {
     "name": "stderr",
     "output_type": "stream",
     "text": [
      "C:\\Users\\Gina\\AppData\\Local\\Temp\\ipykernel_21364\\3453872739.py:1: VisibleDeprecationWarning: Creating an ndarray from ragged nested sequences (which is a list-or-tuple of lists-or-tuples-or ndarrays with different lengths or shapes) is deprecated. If you meant to do this, you must specify 'dtype=object' when creating the ndarray.\n",
      "  mask = np.array([\n"
     ]
    }
   ],
   "source": [
    "mask = np.array([\n",
    "    get_tumor_region(path) for path in mask_path\n",
    "    ])\n",
    "label = np.array(label)"
   ]
  },
  {
   "cell_type": "code",
   "execution_count": 10,
   "metadata": {},
   "outputs": [],
   "source": [
    "label = np.delete(label, drop_idx_img)"
   ]
  },
  {
   "cell_type": "code",
   "execution_count": 12,
   "metadata": {},
   "outputs": [],
   "source": [
    "import pandas as pd\n",
    "\n",
    "label_dummy = pd.get_dummies(label)"
   ]
  },
  {
   "cell_type": "code",
   "execution_count": 13,
   "metadata": {},
   "outputs": [
    {
     "data": {
      "text/html": [
       "<div>\n",
       "<style scoped>\n",
       "    .dataframe tbody tr th:only-of-type {\n",
       "        vertical-align: middle;\n",
       "    }\n",
       "\n",
       "    .dataframe tbody tr th {\n",
       "        vertical-align: top;\n",
       "    }\n",
       "\n",
       "    .dataframe thead th {\n",
       "        text-align: right;\n",
       "    }\n",
       "</style>\n",
       "<table border=\"1\" class=\"dataframe\">\n",
       "  <thead>\n",
       "    <tr style=\"text-align: right;\">\n",
       "      <th></th>\n",
       "      <th>chromophobe</th>\n",
       "      <th>clear_cell_rcc</th>\n",
       "      <th>papillary</th>\n",
       "    </tr>\n",
       "  </thead>\n",
       "  <tbody>\n",
       "    <tr>\n",
       "      <th>0</th>\n",
       "      <td>0</td>\n",
       "      <td>1</td>\n",
       "      <td>0</td>\n",
       "    </tr>\n",
       "    <tr>\n",
       "      <th>1</th>\n",
       "      <td>0</td>\n",
       "      <td>0</td>\n",
       "      <td>1</td>\n",
       "    </tr>\n",
       "    <tr>\n",
       "      <th>2</th>\n",
       "      <td>0</td>\n",
       "      <td>0</td>\n",
       "      <td>1</td>\n",
       "    </tr>\n",
       "    <tr>\n",
       "      <th>3</th>\n",
       "      <td>1</td>\n",
       "      <td>0</td>\n",
       "      <td>0</td>\n",
       "    </tr>\n",
       "    <tr>\n",
       "      <th>4</th>\n",
       "      <td>0</td>\n",
       "      <td>1</td>\n",
       "      <td>0</td>\n",
       "    </tr>\n",
       "    <tr>\n",
       "      <th>...</th>\n",
       "      <td>...</td>\n",
       "      <td>...</td>\n",
       "      <td>...</td>\n",
       "    </tr>\n",
       "    <tr>\n",
       "      <th>254</th>\n",
       "      <td>0</td>\n",
       "      <td>1</td>\n",
       "      <td>0</td>\n",
       "    </tr>\n",
       "    <tr>\n",
       "      <th>255</th>\n",
       "      <td>0</td>\n",
       "      <td>1</td>\n",
       "      <td>0</td>\n",
       "    </tr>\n",
       "    <tr>\n",
       "      <th>256</th>\n",
       "      <td>0</td>\n",
       "      <td>1</td>\n",
       "      <td>0</td>\n",
       "    </tr>\n",
       "    <tr>\n",
       "      <th>257</th>\n",
       "      <td>0</td>\n",
       "      <td>1</td>\n",
       "      <td>0</td>\n",
       "    </tr>\n",
       "    <tr>\n",
       "      <th>258</th>\n",
       "      <td>0</td>\n",
       "      <td>0</td>\n",
       "      <td>1</td>\n",
       "    </tr>\n",
       "  </tbody>\n",
       "</table>\n",
       "<p>259 rows × 3 columns</p>\n",
       "</div>"
      ],
      "text/plain": [
       "     chromophobe  clear_cell_rcc  papillary\n",
       "0              0               1          0\n",
       "1              0               0          1\n",
       "2              0               0          1\n",
       "3              1               0          0\n",
       "4              0               1          0\n",
       "..           ...             ...        ...\n",
       "254            0               1          0\n",
       "255            0               1          0\n",
       "256            0               1          0\n",
       "257            0               1          0\n",
       "258            0               0          1\n",
       "\n",
       "[259 rows x 3 columns]"
      ]
     },
     "execution_count": 13,
     "metadata": {},
     "output_type": "execute_result"
    }
   ],
   "source": [
    "label_dummy"
   ]
  },
  {
   "cell_type": "code",
   "execution_count": 20,
   "metadata": {},
   "outputs": [
    {
     "name": "stdout",
     "output_type": "stream",
     "text": [
      "Number of samples in train and validation are 207 and 52.\n"
     ]
    }
   ],
   "source": [
    "from sklearn.model_selection  import train_test_split\n",
    "\n",
    "x_train, x_val, y_train, y_val = train_test_split(mask, label_dummy, test_size = 0.2)\n",
    "\n",
    "print(\n",
    "    \"Number of samples in train and validation are %d and %d.\"\n",
    "    % (x_train.shape[0], x_val.shape[0])\n",
    ")"
   ]
  },
  {
   "cell_type": "code",
   "execution_count": 21,
   "metadata": {},
   "outputs": [
    {
     "data": {
      "text/html": [
       "<div>\n",
       "<style scoped>\n",
       "    .dataframe tbody tr th:only-of-type {\n",
       "        vertical-align: middle;\n",
       "    }\n",
       "\n",
       "    .dataframe tbody tr th {\n",
       "        vertical-align: top;\n",
       "    }\n",
       "\n",
       "    .dataframe thead th {\n",
       "        text-align: right;\n",
       "    }\n",
       "</style>\n",
       "<table border=\"1\" class=\"dataframe\">\n",
       "  <thead>\n",
       "    <tr style=\"text-align: right;\">\n",
       "      <th></th>\n",
       "      <th>chromophobe</th>\n",
       "      <th>clear_cell_rcc</th>\n",
       "      <th>papillary</th>\n",
       "    </tr>\n",
       "  </thead>\n",
       "  <tbody>\n",
       "    <tr>\n",
       "      <th>4</th>\n",
       "      <td>0</td>\n",
       "      <td>1</td>\n",
       "      <td>0</td>\n",
       "    </tr>\n",
       "    <tr>\n",
       "      <th>32</th>\n",
       "      <td>0</td>\n",
       "      <td>1</td>\n",
       "      <td>0</td>\n",
       "    </tr>\n",
       "    <tr>\n",
       "      <th>196</th>\n",
       "      <td>0</td>\n",
       "      <td>1</td>\n",
       "      <td>0</td>\n",
       "    </tr>\n",
       "    <tr>\n",
       "      <th>14</th>\n",
       "      <td>0</td>\n",
       "      <td>1</td>\n",
       "      <td>0</td>\n",
       "    </tr>\n",
       "    <tr>\n",
       "      <th>49</th>\n",
       "      <td>0</td>\n",
       "      <td>1</td>\n",
       "      <td>0</td>\n",
       "    </tr>\n",
       "    <tr>\n",
       "      <th>...</th>\n",
       "      <td>...</td>\n",
       "      <td>...</td>\n",
       "      <td>...</td>\n",
       "    </tr>\n",
       "    <tr>\n",
       "      <th>118</th>\n",
       "      <td>0</td>\n",
       "      <td>1</td>\n",
       "      <td>0</td>\n",
       "    </tr>\n",
       "    <tr>\n",
       "      <th>176</th>\n",
       "      <td>0</td>\n",
       "      <td>1</td>\n",
       "      <td>0</td>\n",
       "    </tr>\n",
       "    <tr>\n",
       "      <th>209</th>\n",
       "      <td>0</td>\n",
       "      <td>1</td>\n",
       "      <td>0</td>\n",
       "    </tr>\n",
       "    <tr>\n",
       "      <th>174</th>\n",
       "      <td>0</td>\n",
       "      <td>1</td>\n",
       "      <td>0</td>\n",
       "    </tr>\n",
       "    <tr>\n",
       "      <th>193</th>\n",
       "      <td>0</td>\n",
       "      <td>1</td>\n",
       "      <td>0</td>\n",
       "    </tr>\n",
       "  </tbody>\n",
       "</table>\n",
       "<p>207 rows × 3 columns</p>\n",
       "</div>"
      ],
      "text/plain": [
       "     chromophobe  clear_cell_rcc  papillary\n",
       "4              0               1          0\n",
       "32             0               1          0\n",
       "196            0               1          0\n",
       "14             0               1          0\n",
       "49             0               1          0\n",
       "..           ...             ...        ...\n",
       "118            0               1          0\n",
       "176            0               1          0\n",
       "209            0               1          0\n",
       "174            0               1          0\n",
       "193            0               1          0\n",
       "\n",
       "[207 rows x 3 columns]"
      ]
     },
     "execution_count": 21,
     "metadata": {},
     "output_type": "execute_result"
    }
   ],
   "source": [
    "y_train"
   ]
  },
  {
   "cell_type": "code",
   "execution_count": 22,
   "metadata": {},
   "outputs": [],
   "source": [
    "@tf.function\n",
    "def rotate(volume):\n",
    "    \"\"\"Rotate the volume by a few degrees\"\"\"\n",
    "\n",
    "    def scipy_rotate(volume):\n",
    "        # define some rotation angles\n",
    "        angles = [-20, -10, -5, 5, 10, 20]\n",
    "        # pick angles at random\n",
    "        angle = random.choice(angles)\n",
    "        # rotate volume\n",
    "        volume = ndimage.rotate(volume, angle, reshape=False)\n",
    "        volume[volume < 0] = 0.0\n",
    "        volume[volume > 1] = 1.0\n",
    "        return volume\n",
    "\n",
    "    augmented_volume = tf.numpy_function(scipy_rotate, [volume], tf.float32)\n",
    "    return augmented_volume\n",
    "\n",
    "\n",
    "def train_preprocessing(volume, label):\n",
    "    \"\"\"Process training data by rotating and adding a channel.\"\"\"\n",
    "    # Rotate volume\n",
    "    # volume = rotate(volume)\n",
    "    volume = tf.expand_dims(volume, axis=3)\n",
    "    # print(volume.get_shape())\n",
    "    label = tf.cast(label, tf.float32)\n",
    "    return volume, label\n",
    "\n",
    "\n",
    "def validation_preprocessing(volume, label):\n",
    "    \"\"\"Process validation data by only adding a channel.\"\"\"\n",
    "    volume = tf.expand_dims(volume, axis=3)\n",
    "    label = tf.cast(label, tf.float32)\n",
    "    return volume, label\n"
   ]
  },
  {
   "cell_type": "code",
   "execution_count": 23,
   "metadata": {},
   "outputs": [],
   "source": [
    "# Define data loaders.\n",
    "train_loader = tf.data.Dataset.from_tensor_slices((x_train, y_train.to_numpy()))\n",
    "validation_loader = tf.data.Dataset.from_tensor_slices((x_val, y_val.to_numpy()))\n",
    "\n",
    "batch_size = 2\n",
    "# Augment the on the fly during training.\n",
    "train_dataset = (\n",
    "    train_loader.shuffle(len(x_train))\n",
    "    .map(train_preprocessing)\n",
    "    .batch(batch_size)\n",
    "    .prefetch(2)\n",
    ")\n",
    "# Only rescale.\n",
    "validation_dataset = (\n",
    "    validation_loader.shuffle(len(x_val))\n",
    "    .map(validation_preprocessing)\n",
    "    .batch(batch_size)\n",
    "    .prefetch(2)\n",
    ")"
   ]
  },
  {
   "cell_type": "code",
   "execution_count": 24,
   "metadata": {},
   "outputs": [
    {
     "name": "stdout",
     "output_type": "stream",
     "text": [
      "Model: \"3dcnn\"\n",
      "_________________________________________________________________\n",
      "Layer (type)                 Output Shape              Param #   \n",
      "=================================================================\n",
      "input_2 (InputLayer)         [(None, 128, 128, 64, 1)] 0         \n",
      "_________________________________________________________________\n",
      "conv3d_4 (Conv3D)            (None, 126, 126, 62, 64)  1792      \n",
      "_________________________________________________________________\n",
      "max_pooling3d_4 (MaxPooling3 (None, 63, 63, 31, 64)    0         \n",
      "_________________________________________________________________\n",
      "batch_normalization_4 (Batch (None, 63, 63, 31, 64)    256       \n",
      "_________________________________________________________________\n",
      "conv3d_5 (Conv3D)            (None, 61, 61, 29, 64)    110656    \n",
      "_________________________________________________________________\n",
      "max_pooling3d_5 (MaxPooling3 (None, 30, 30, 14, 64)    0         \n",
      "_________________________________________________________________\n",
      "batch_normalization_5 (Batch (None, 30, 30, 14, 64)    256       \n",
      "_________________________________________________________________\n",
      "conv3d_6 (Conv3D)            (None, 28, 28, 12, 128)   221312    \n",
      "_________________________________________________________________\n",
      "max_pooling3d_6 (MaxPooling3 (None, 14, 14, 6, 128)    0         \n",
      "_________________________________________________________________\n",
      "batch_normalization_6 (Batch (None, 14, 14, 6, 128)    512       \n",
      "_________________________________________________________________\n",
      "conv3d_7 (Conv3D)            (None, 12, 12, 4, 256)    884992    \n",
      "_________________________________________________________________\n",
      "max_pooling3d_7 (MaxPooling3 (None, 6, 6, 2, 256)      0         \n",
      "_________________________________________________________________\n",
      "batch_normalization_7 (Batch (None, 6, 6, 2, 256)      1024      \n",
      "_________________________________________________________________\n",
      "global_average_pooling3d_1 ( (None, 256)               0         \n",
      "_________________________________________________________________\n",
      "dense_2 (Dense)              (None, 512)               131584    \n",
      "_________________________________________________________________\n",
      "dropout_1 (Dropout)          (None, 512)               0         \n",
      "_________________________________________________________________\n",
      "dense_3 (Dense)              (None, 3)                 1539      \n",
      "=================================================================\n",
      "Total params: 1,353,923\n",
      "Trainable params: 1,352,899\n",
      "Non-trainable params: 1,024\n",
      "_________________________________________________________________\n"
     ]
    }
   ],
   "source": [
    "def get_model(width=128, height=128, depth=64):\n",
    "    \"\"\"Build a 3D convolutional neural network model.\"\"\"\n",
    "\n",
    "    inputs = keras.Input((width, height, depth, 1))\n",
    "\n",
    "    x = layers.Conv3D(filters=64, kernel_size=3, activation=\"relu\")(inputs)\n",
    "    x = layers.MaxPool3D(pool_size=2)(x)\n",
    "    x = layers.BatchNormalization()(x)\n",
    "\n",
    "    x = layers.Conv3D(filters=64, kernel_size=3, activation=\"relu\")(x)\n",
    "    x = layers.MaxPool3D(pool_size=2)(x)\n",
    "    x = layers.BatchNormalization()(x)\n",
    "\n",
    "    x = layers.Conv3D(filters=128, kernel_size=3, activation=\"relu\")(x)\n",
    "    x = layers.MaxPool3D(pool_size=2)(x)\n",
    "    x = layers.BatchNormalization()(x)\n",
    "\n",
    "    x = layers.Conv3D(filters=256, kernel_size=3, activation=\"relu\")(x)\n",
    "    x = layers.MaxPool3D(pool_size=2)(x)\n",
    "    x = layers.BatchNormalization()(x)\n",
    "\n",
    "    x = layers.GlobalAveragePooling3D()(x)\n",
    "    x = layers.Dense(units=512, activation=\"relu\")(x)\n",
    "    x = layers.Dropout(0.3)(x)\n",
    "\n",
    "    outputs = layers.Dense(units=3, activation=\"softmax\")(x)\n",
    "\n",
    "    # Define the model.\n",
    "    model = keras.Model(inputs, outputs, name=\"3dcnn\")\n",
    "    return model\n",
    "\n",
    "\n",
    "# Build model.\n",
    "model = get_model(width=128, height=128, depth=64)\n",
    "model.summary()\n"
   ]
  },
  {
   "cell_type": "code",
   "execution_count": 25,
   "metadata": {},
   "outputs": [
    {
     "name": "stdout",
     "output_type": "stream",
     "text": [
      "Epoch 1/100\n",
      "104/104 - 12s - loss: 0.5103 - acc: 0.7633 - val_loss: 0.3712 - val_acc: 0.8269\n",
      "Epoch 2/100\n",
      "104/104 - 7s - loss: 0.4752 - acc: 0.7778 - val_loss: 0.3819 - val_acc: 0.8269\n",
      "Epoch 3/100\n",
      "104/104 - 7s - loss: 0.4926 - acc: 0.7778 - val_loss: 0.3741 - val_acc: 0.8269\n",
      "Epoch 4/100\n",
      "104/104 - 6s - loss: 0.4408 - acc: 0.7778 - val_loss: 0.3908 - val_acc: 0.8269\n",
      "Epoch 5/100\n",
      "104/104 - 7s - loss: 0.4407 - acc: 0.7778 - val_loss: 0.3903 - val_acc: 0.8269\n",
      "Epoch 6/100\n",
      "104/104 - 6s - loss: 0.4226 - acc: 0.7778 - val_loss: 0.3997 - val_acc: 0.8269\n",
      "Epoch 7/100\n",
      "104/104 - 6s - loss: 0.4400 - acc: 0.7778 - val_loss: 0.3924 - val_acc: 0.8269\n",
      "Epoch 8/100\n",
      "104/104 - 6s - loss: 0.4283 - acc: 0.7778 - val_loss: 0.3774 - val_acc: 0.8269\n",
      "Epoch 9/100\n",
      "104/104 - 7s - loss: 0.4325 - acc: 0.7778 - val_loss: 0.3820 - val_acc: 0.8269\n",
      "Epoch 10/100\n",
      "104/104 - 7s - loss: 0.4280 - acc: 0.7778 - val_loss: 0.3838 - val_acc: 0.8269\n",
      "Epoch 11/100\n",
      "104/104 - 7s - loss: 0.4115 - acc: 0.7778 - val_loss: 0.3958 - val_acc: 0.8269\n",
      "Epoch 12/100\n",
      "104/104 - 7s - loss: 0.3968 - acc: 0.7778 - val_loss: 0.3876 - val_acc: 0.8269\n",
      "Epoch 13/100\n",
      "104/104 - 7s - loss: 0.4198 - acc: 0.7778 - val_loss: 0.3900 - val_acc: 0.8269\n",
      "Epoch 14/100\n",
      "104/104 - 7s - loss: 0.4167 - acc: 0.7778 - val_loss: 0.3738 - val_acc: 0.8269\n",
      "Epoch 15/100\n",
      "104/104 - 7s - loss: 0.4063 - acc: 0.7778 - val_loss: 0.3688 - val_acc: 0.8269\n",
      "Epoch 16/100\n",
      "104/104 - 6s - loss: 0.3850 - acc: 0.7778 - val_loss: 0.3658 - val_acc: 0.8269\n"
     ]
    },
    {
     "data": {
      "text/plain": [
       "<tensorflow.python.keras.callbacks.History at 0x1a4cb7da880>"
      ]
     },
     "execution_count": 25,
     "metadata": {},
     "output_type": "execute_result"
    }
   ],
   "source": [
    "# Compile model.\n",
    "initial_learning_rate = 0.0001\n",
    "lr_schedule = keras.optimizers.schedules.ExponentialDecay(\n",
    "    initial_learning_rate, decay_steps=100000, decay_rate=0.96, staircase=True\n",
    ")\n",
    "model.compile(\n",
    "    loss=\"binary_crossentropy\",\n",
    "    optimizer=keras.optimizers.Adam(learning_rate=lr_schedule),\n",
    "    metrics=[\"acc\"],\n",
    ")\n",
    "\n",
    "# Define callbacks.\n",
    "checkpoint_cb = keras.callbacks.ModelCheckpoint(\n",
    "    \"3d_image_classification.h5\", save_best_only=True\n",
    ")\n",
    "early_stopping_cb = keras.callbacks.EarlyStopping(monitor=\"val_acc\", patience=15)\n",
    "\n",
    "# Train the model, doing validation at the end of each epoch\n",
    "epochs = 100\n",
    "model.fit(\n",
    "    train_dataset,\n",
    "    validation_data=validation_dataset,\n",
    "    epochs=epochs,\n",
    "    shuffle=True,\n",
    "    verbose=2,\n",
    "    callbacks=[checkpoint_cb, early_stopping_cb],\n",
    ")\n"
   ]
  },
  {
   "cell_type": "code",
   "execution_count": 30,
   "metadata": {},
   "outputs": [
    {
     "name": "stdout",
     "output_type": "stream",
     "text": [
      "0 . train: [0.7632850408554077, 0.7777777910232544, 0.7777777910232544, 0.7777777910232544, 0.7777777910232544, 0.7777777910232544, 0.7777777910232544, 0.7777777910232544, 0.7777777910232544, 0.7777777910232544, 0.7777777910232544, 0.7777777910232544, 0.7777777910232544, 0.7777777910232544, 0.7777777910232544, 0.7777777910232544]\n",
      "0 . val: [0.8269230723381042, 0.8269230723381042, 0.8269230723381042, 0.8269230723381042, 0.8269230723381042, 0.8269230723381042, 0.8269230723381042, 0.8269230723381042, 0.8269230723381042, 0.8269230723381042, 0.8269230723381042, 0.8269230723381042, 0.8269230723381042, 0.8269230723381042, 0.8269230723381042, 0.8269230723381042]\n",
      "1 . train: [0.5102962851524353, 0.4751507341861725, 0.4926392138004303, 0.44076257944107056, 0.44069966673851013, 0.42261409759521484, 0.43998831510543823, 0.42833635210990906, 0.4325442910194397, 0.4280364215373993, 0.41146647930145264, 0.39679163694381714, 0.41983562707901, 0.41670456528663635, 0.4063231647014618, 0.3850000500679016]\n",
      "1 . val: [0.37115147709846497, 0.38193413615226746, 0.37413379549980164, 0.3908488154411316, 0.3902808427810669, 0.39971810579299927, 0.3923972249031067, 0.3773631751537323, 0.3820313811302185, 0.38382911682128906, 0.3958274722099304, 0.3876244127750397, 0.39003169536590576, 0.37378689646720886, 0.3688470125198364, 0.36580413579940796]\n"
     ]
    }
   ],
   "source": [
    "# fig, ax = plt.subplots(1, 2, figsize=(20, 3))\n",
    "# ax = ax.ravel()\n",
    "\n",
    "for i, metric in enumerate([\"acc\", \"loss\"]):\n",
    "    print(i, '. train:', model.history.history[metric])\n",
    "    print(i, '. val:', model.history.history[\"val_\" + metric])\n",
    "    # ax[i].plot(model.history.history[metric])\n",
    "    # ax[i].plot(model.history.history[\"val_\" + metric])\n",
    "    # ax[i].set_title(\"Model {}\".format(metric))\n",
    "    # ax[i].set_xlabel(\"epochs\")\n",
    "    # ax[i].set_ylabel(metric)\n",
    "    # ax[i].legend([\"train\", \"val\"])\n"
   ]
  },
  {
   "cell_type": "code",
   "execution_count": 33,
   "metadata": {},
   "outputs": [
    {
     "data": {
      "text/plain": [
       "array([1, 1, 1, 1, 1, 1, 1, 1, 1, 1, 1, 1, 1, 1, 1, 1, 1, 1, 1, 1, 1, 1,\n",
       "       1, 1, 1, 1, 1, 1, 1, 1, 1, 1, 1, 1, 1, 1, 1, 1, 1, 1, 1, 1, 1, 1,\n",
       "       1, 1, 1, 1, 1, 1, 1, 1, 1, 1, 1, 1, 1, 1, 1, 1, 1, 1, 1, 1, 1, 1,\n",
       "       1, 1, 1, 1, 1, 1, 1, 1, 1, 1, 1, 1, 1, 1, 1, 1, 1, 1, 1, 1, 1, 1,\n",
       "       1, 1, 1, 1, 1, 1, 1, 1, 1, 1, 1, 1, 1, 1, 1, 1, 1, 1, 1, 1, 1, 1,\n",
       "       1, 1, 1, 1, 1, 1, 1, 1, 1, 1, 1, 1, 1, 1, 1, 1, 1, 1, 1, 1, 1, 1,\n",
       "       1, 1, 1, 1, 1, 1, 1, 1, 1, 1, 1, 1, 1, 1, 1, 1, 1, 1, 1, 1, 1, 1,\n",
       "       1, 1, 1, 1, 1, 1, 1, 1, 1, 1, 1, 1, 1, 1, 1, 1, 1, 1, 1, 1, 1, 1,\n",
       "       1, 1, 1, 1, 1, 1, 1, 1, 1, 1, 1, 1, 1, 1, 1, 1, 1, 1, 1, 1, 1, 1,\n",
       "       1, 1, 1, 1, 1, 1, 1, 1, 1], dtype=int64)"
      ]
     },
     "execution_count": 33,
     "metadata": {},
     "output_type": "execute_result"
    }
   ],
   "source": [
    "np.argmax(model.predict(train_dataset), axis=1)"
   ]
  },
  {
   "cell_type": "code",
   "execution_count": 34,
   "metadata": {},
   "outputs": [
    {
     "name": "stdout",
     "output_type": "stream",
     "text": [
      "Model: \"3dcnn\"\n",
      "_________________________________________________________________\n",
      "Layer (type)                 Output Shape              Param #   \n",
      "=================================================================\n",
      "input_3 (InputLayer)         [(None, 128, 128, 64, 1)] 0         \n",
      "_________________________________________________________________\n",
      "conv3d_8 (Conv3D)            (None, 126, 126, 62, 64)  1792      \n",
      "_________________________________________________________________\n",
      "max_pooling3d_8 (MaxPooling3 (None, 63, 63, 31, 64)    0         \n",
      "_________________________________________________________________\n",
      "batch_normalization_8 (Batch (None, 63, 63, 31, 64)    256       \n",
      "_________________________________________________________________\n",
      "conv3d_9 (Conv3D)            (None, 61, 61, 29, 128)   221312    \n",
      "_________________________________________________________________\n",
      "max_pooling3d_9 (MaxPooling3 (None, 30, 30, 14, 128)   0         \n",
      "_________________________________________________________________\n",
      "batch_normalization_9 (Batch (None, 30, 30, 14, 128)   512       \n",
      "_________________________________________________________________\n",
      "global_average_pooling3d_2 ( (None, 128)               0         \n",
      "_________________________________________________________________\n",
      "dense_4 (Dense)              (None, 256)               33024     \n",
      "_________________________________________________________________\n",
      "dropout_2 (Dropout)          (None, 256)               0         \n",
      "_________________________________________________________________\n",
      "dense_5 (Dense)              (None, 3)                 771       \n",
      "=================================================================\n",
      "Total params: 257,667\n",
      "Trainable params: 257,283\n",
      "Non-trainable params: 384\n",
      "_________________________________________________________________\n"
     ]
    }
   ],
   "source": [
    "def get_model_2(width=128, height=128, depth=64):\n",
    "    \"\"\"Build a 3D convolutional neural network model.\"\"\"\n",
    "\n",
    "    inputs = keras.Input((width, height, depth, 1))\n",
    "\n",
    "    x = layers.Conv3D(filters=64, kernel_size=3, activation=\"relu\")(inputs)\n",
    "    x = layers.MaxPool3D(pool_size=2)(x)\n",
    "    x = layers.BatchNormalization()(x)\n",
    "\n",
    "    x = layers.Conv3D(filters=128, kernel_size=3, activation=\"relu\")(x)\n",
    "    x = layers.MaxPool3D(pool_size=2)(x)\n",
    "    x = layers.BatchNormalization()(x)\n",
    "\n",
    "    x = layers.GlobalAveragePooling3D()(x)\n",
    "    x = layers.Dense(units=256, activation=\"relu\")(x)\n",
    "    x = layers.Dropout(0.3)(x)\n",
    "\n",
    "    outputs = layers.Dense(units=3, activation=\"softmax\")(x)\n",
    "\n",
    "    # Define the model.\n",
    "    model = keras.Model(inputs, outputs, name=\"3dcnn\")\n",
    "    return model\n",
    "\n",
    "\n",
    "# Build model.\n",
    "model2 = get_model_2(width=128, height=128, depth=64)\n",
    "model2.summary()\n"
   ]
  },
  {
   "cell_type": "code",
   "execution_count": 38,
   "metadata": {},
   "outputs": [
    {
     "name": "stdout",
     "output_type": "stream",
     "text": [
      "Epoch 1/100\n",
      "104/104 - 8s - loss: 1.0117 - acc: 0.7391 - auc: 0.8171 - val_loss: 0.9484 - val_acc: 0.8269 - val_auc: 0.8889\n",
      "Epoch 2/100\n",
      "104/104 - 7s - loss: 0.9038 - acc: 0.7778 - auc: 0.8262 - val_loss: 0.8526 - val_acc: 0.8269 - val_auc: 0.8614\n",
      "Epoch 3/100\n",
      "104/104 - 7s - loss: 0.8582 - acc: 0.7778 - auc: 0.8262 - val_loss: 0.6793 - val_acc: 0.8269 - val_auc: 0.8475\n",
      "Epoch 4/100\n",
      "104/104 - 7s - loss: 0.7884 - acc: 0.7778 - auc: 0.8355 - val_loss: 0.6102 - val_acc: 0.8269 - val_auc: 0.8413\n",
      "Epoch 5/100\n",
      "104/104 - 7s - loss: 0.7810 - acc: 0.7778 - auc: 0.8262 - val_loss: 0.6398 - val_acc: 0.8269 - val_auc: 0.8466\n",
      "Epoch 6/100\n",
      "104/104 - 7s - loss: 0.7367 - acc: 0.7778 - auc: 0.8428 - val_loss: 0.6476 - val_acc: 0.8269 - val_auc: 0.8476\n",
      "Epoch 7/100\n",
      "104/104 - 7s - loss: 0.7394 - acc: 0.7778 - auc: 0.8270 - val_loss: 0.6708 - val_acc: 0.8269 - val_auc: 0.8744\n",
      "Epoch 8/100\n",
      "104/104 - 7s - loss: 0.7184 - acc: 0.7778 - auc: 0.8290 - val_loss: 0.5921 - val_acc: 0.8269 - val_auc: 0.8944\n",
      "Epoch 9/100\n",
      "104/104 - 7s - loss: 0.6994 - acc: 0.7778 - auc: 0.8343 - val_loss: 0.6111 - val_acc: 0.8269 - val_auc: 0.8710\n",
      "Epoch 10/100\n",
      "104/104 - 7s - loss: 0.6940 - acc: 0.7778 - auc: 0.8416 - val_loss: 0.9259 - val_acc: 0.8269 - val_auc: 0.8807\n",
      "Epoch 11/100\n",
      "104/104 - 7s - loss: 0.6977 - acc: 0.7778 - auc: 0.8432 - val_loss: 0.7118 - val_acc: 0.8269 - val_auc: 0.8466\n",
      "Epoch 12/100\n",
      "104/104 - 7s - loss: 0.6938 - acc: 0.7778 - auc: 0.8260 - val_loss: 0.6092 - val_acc: 0.8269 - val_auc: 0.8878\n",
      "Epoch 13/100\n",
      "104/104 - 7s - loss: 0.6947 - acc: 0.7778 - auc: 0.8280 - val_loss: 0.7823 - val_acc: 0.8269 - val_auc: 0.8883\n",
      "Epoch 14/100\n",
      "104/104 - 7s - loss: 0.6787 - acc: 0.7778 - auc: 0.8557 - val_loss: 0.6771 - val_acc: 0.8269 - val_auc: 0.8975\n",
      "Epoch 15/100\n",
      "104/104 - 7s - loss: 0.6782 - acc: 0.7778 - auc: 0.8498 - val_loss: 1.1765 - val_acc: 0.8269 - val_auc: 0.8702\n",
      "Epoch 16/100\n",
      "104/104 - 7s - loss: 0.6704 - acc: 0.7778 - auc: 0.8634 - val_loss: 0.6246 - val_acc: 0.8269 - val_auc: 0.8980\n"
     ]
    },
    {
     "data": {
      "text/plain": [
       "<tensorflow.python.keras.callbacks.History at 0x1a4ef614ac0>"
      ]
     },
     "execution_count": 38,
     "metadata": {},
     "output_type": "execute_result"
    }
   ],
   "source": [
    "# Compile model.\n",
    "initial_learning_rate = 0.0001\n",
    "lr_schedule = keras.optimizers.schedules.ExponentialDecay(\n",
    "    initial_learning_rate, decay_steps=100000, decay_rate=0.96, staircase=True\n",
    ")\n",
    "model2.compile(\n",
    "    loss=tf.keras.losses.CategoricalCrossentropy(),\n",
    "    optimizer=keras.optimizers.Adam(learning_rate=lr_schedule),\n",
    "    metrics=[\"acc\", tf.keras.metrics.AUC()],\n",
    ")\n",
    "\n",
    "# Define callbacks.\n",
    "checkpoint_cb = keras.callbacks.ModelCheckpoint(\n",
    "    \"3d_image_classification_2.h5\", save_best_only=True\n",
    ")\n",
    "early_stopping_cb = keras.callbacks.EarlyStopping(monitor=\"val_acc\", patience=15)\n",
    "\n",
    "# Train the model, doing validation at the end of each epoch\n",
    "epochs = 100\n",
    "model2.fit(\n",
    "    train_dataset,\n",
    "    validation_data=validation_dataset,\n",
    "    epochs=epochs,\n",
    "    shuffle=True,\n",
    "    verbose=2,\n",
    "    callbacks=[checkpoint_cb, early_stopping_cb],\n",
    ")"
   ]
  },
  {
   "cell_type": "markdown",
   "metadata": {},
   "source": [
    "## 09/08\n",
    "* 可以改成分 Low grade, High grade，應該比較好分\n",
    "* 先把tumor這塊切出來，Cube 包起 tumor，只用這 cube，找最小的bounding box，再拉出來看"
   ]
  }
 ],
 "metadata": {
  "kernelspec": {
   "display_name": "Python 3.9.13 ('tf-gpu')",
   "language": "python",
   "name": "python3"
  },
  "language_info": {
   "codemirror_mode": {
    "name": "ipython",
    "version": 3
   },
   "file_extension": ".py",
   "mimetype": "text/x-python",
   "name": "python",
   "nbconvert_exporter": "python",
   "pygments_lexer": "ipython3",
   "version": "3.9.13"
  },
  "orig_nbformat": 4,
  "vscode": {
   "interpreter": {
    "hash": "ea397cec91cadfeba1f637b1e229fc5613e21e348c4b388b4145c8bc2692c566"
   }
  }
 },
 "nbformat": 4,
 "nbformat_minor": 2
}
