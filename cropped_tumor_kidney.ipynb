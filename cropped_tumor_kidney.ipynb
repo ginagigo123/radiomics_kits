{
 "cells": [
  {
   "cell_type": "code",
   "execution_count": 1,
   "metadata": {},
   "outputs": [],
   "source": [
    "import tensorflow as tf\n",
    "from tensorflow import keras\n",
    "\n",
    "import SimpleITK as sitk\n",
    "import numpy as np\n",
    "import pandas as pd\n",
    "import json\n",
    "\n",
    "from scipy import ndimage\n",
    "import matplotlib.pyplot as plt\n",
    "\n",
    "from sklearn.model_selection  import train_test_split\n",
    "\n",
    "from mpl_toolkits.mplot3d.art3d import Poly3DCollection\n",
    "from skimage import measure\n",
    "import math"
   ]
  },
  {
   "cell_type": "code",
   "execution_count": 2,
   "metadata": {},
   "outputs": [
    {
     "name": "stdout",
     "output_type": "stream",
     "text": [
      "1 Physical GPUs, 1 Logical GPUs\n"
     ]
    }
   ],
   "source": [
    "gpus = tf.config.experimental.list_physical_devices('GPU')\n",
    "if gpus:\n",
    "    try:\n",
    "        # Currently, memory growth needs to be the same across GPUs\n",
    "        for gpu in gpus:\n",
    "            tf.config.experimental.set_memory_growth(gpu, True)\n",
    "        tf.config.experimental.set_visible_devices(gpus[0], 'GPU')\n",
    "        logical_gpus = tf.config.experimental.list_logical_devices('GPU')\n",
    "        print(len(gpus), \"Physical GPUs,\", len(logical_gpus), \"Logical GPUs\")\n",
    "    except RuntimeError as e:\n",
    "        # Memory growth must be set before GPUs have been initialized\n",
    "        print(e)"
   ]
  },
  {
   "cell_type": "code",
   "execution_count": 3,
   "metadata": {},
   "outputs": [],
   "source": [
    "def read_nifti_file(file_path, interpolator = sitk.sitkLinear, new_spacing=[1, 1, 1]):\n",
    "    \"\"\"Read and load volume\"\"\"\n",
    "    # Read file\n",
    "    img = sitk.ReadImage(file_path)\n",
    "    # 轉為 NumPy 陣列\n",
    "    img_arr = sitk.GetArrayFromImage(img)\n",
    "\n",
    "    # ori_spacing = img.GetSpacing()\n",
    "    # ori_size = img.GetSize()\n",
    "    # new_size = [int(round(osz*ospc/nspc)) for osz, ospc nspc in zip(ori_size, ori_spacing, new_spacing)]\n",
    "\n",
    "    return img_arr\n",
    "\n",
    "def resample_image(file_path, out_spacing=[1.0, 1.0, 1.0], is_label=False):\n",
    "    # Read file\n",
    "    itk_image = sitk.ReadImage(file_path)\n",
    "    original_spacing = itk_image.GetSpacing()\n",
    "    original_size = itk_image.GetSize()\n",
    "\n",
    "    # out_size = [\n",
    "    #     int(np.round(original_size[0] * (original_spacing[0] / out_spacing[0]))),\n",
    "    #     int(np.round(original_size[1] * (original_spacing[1] / out_spacing[1]))),\n",
    "    #     int(np.round(original_size[2] * (original_spacing[2] / out_spacing[2])))\n",
    "    # ]\n",
    "    # 上述也可以直接用下面这句简写\n",
    "    out_size = [int(round(osz*ospc/nspc)) for osz,ospc,nspc in zip(original_size, original_spacing, out_spacing)]\n",
    "\n",
    "    resample = sitk.ResampleImageFilter()\n",
    "    resample.SetOutputSpacing(out_spacing)\n",
    "    resample.SetSize(out_size)\n",
    "    resample.SetOutputDirection(itk_image.GetDirection())\n",
    "    resample.SetOutputOrigin(itk_image.GetOrigin())\n",
    "    resample.SetTransform(sitk.Transform())\n",
    "    resample.SetDefaultPixelValue(itk_image.GetPixelIDValue())\n",
    "\n",
    "    if is_label: # 如果是mask图像，就选择sitkNearestNeighbor这种插值\n",
    "        resample.SetInterpolator(sitk.sitkNearestNeighbor)\n",
    "        resample.SetDefaultPixelValue(0)\n",
    "    else: # 如果是普通图像，就采用sitkBSpline插值法\n",
    "        resample.SetInterpolator(sitk.sitkBSpline)\n",
    "\n",
    "    img = resample.Execute(itk_image)\n",
    "    img = sitk.GetArrayFromImage(img)\n",
    "    # deal with rare case\n",
    "    img[:, :, -1] = 0\n",
    "\n",
    "    return img\n",
    "    # return resample.Execute(itk_image)"
   ]
  },
  {
   "cell_type": "code",
   "execution_count": 25,
   "metadata": {},
   "outputs": [],
   "source": [
    "resample_rs = resample_image(mask_path[8], out_spacing=[1.0, 1.0, 1.0], is_label=False)\n",
    "sitk.WriteImage(resample_rs,\"mask_8.nii.gz\")"
   ]
  },
  {
   "cell_type": "code",
   "execution_count": 4,
   "metadata": {},
   "outputs": [],
   "source": [
    "def dis(a_pos, b_pos):\n",
    "    return math.sqrt(pow(a_pos[0] - b_pos[0], 2) + \n",
    "                     pow(a_pos[1] - b_pos[1], 2) + \n",
    "                     pow(a_pos[2] - b_pos[2], 2) * 1.0)\n",
    "\n",
    "def find_regions(region):\n",
    "    # There might be multiple tumors\n",
    "    tumors = []\n",
    "    tumors.append([(region[0][0], region[1][0], region[2][0])])\n",
    "    tumor_idx = 1\n",
    "\n",
    "    for i in range(1, len(region[0])):\n",
    "        # (x, y, z) if x axis more than 10. -> thought to be another tumors\n",
    "        x_dis = abs(region[0][i] - tumors[tumor_idx - 1][-1][0])\n",
    "        y_dis = abs(region[1][i] - tumors[tumor_idx - 1][-1][1])\n",
    "        z_dis = abs(region[2][i] - tumors[tumor_idx - 1][-1][2])\n",
    "        \n",
    "        if x_dis >= 10:\n",
    "            tumors.append([(region[0][i], region[1][i], region[2][i])])\n",
    "            tumor_idx += 1\n",
    "        else:\n",
    "            tumors[tumor_idx - 1].append((region[0][i], region[1][i], region[2][i]))\n",
    "    return tumors\n",
    "\n",
    "def get_bounding_box(mask, loc):\n",
    "    tumor_x = [ _point[0] for _point in loc ]\n",
    "    tumor_y = [ _point[1] for _point in loc ]\n",
    "    tumor_z = [ _point[2] for _point in loc ]\n",
    "\n",
    "    l_width = max(min(tumor_x) - 5, 0)\n",
    "    l_height = max(min(tumor_y) - 5, 0)\n",
    "    l_depth = max(min(tumor_z) - 5, 0)\n",
    "\n",
    "    r_width = min(max(tumor_x) + 5, mask.shape[0])\n",
    "    r_height = min(max(tumor_y) + 5, mask.shape[1])\n",
    "    r_depth = min(max(tumor_z) + 5, mask.shape[2])\n",
    "\n",
    "    return (l_width, l_height, l_depth), (r_width, r_height, r_depth)\n",
    "\n",
    "def check_edge(kid_l, kid_r, tumor_l, tumor_r):\n",
    "    l_width = min(kid_l[0], tumor_l[0])\n",
    "    l_height = min(kid_l[1], tumor_l[1])\n",
    "    l_depth = min(kid_l[2], tumor_l[2])\n",
    "\n",
    "    r_width = max(kid_r[0], tumor_r[0])\n",
    "    r_height = max(kid_r[1], tumor_r[1])\n",
    "    r_depth = max(kid_r[2], tumor_r[2])\n",
    "\n",
    "    return (l_width, l_height, l_depth), (r_width, r_height, r_depth)\n",
    "\n",
    "\n",
    "def get_bounding_box_with_kidney(mask):\n",
    "    kidney_region = np.where(mask == 1)\n",
    "    kidneys = find_regions(kidney_region)\n",
    "\n",
    "    max_tumor, tumor_l, tumor_r = get_max_tumor(mask)\n",
    "    if len(kidneys) == 1:\n",
    "        print('----- Strange: only 1 kidney ------')\n",
    "        kid_l, kid_r = get_bounding_box(mask, kidneys[0])\n",
    "        l_box, r_box = check_edge(kid_l, kid_r, tumor_l, tumor_r)\n",
    "        return max_tumor, kidneys[0], l_box, r_box\n",
    "\n",
    "    min_dis = 66666\n",
    "    nearest_kid = kidneys[0]\n",
    "\n",
    "    for _kidney in kidneys:\n",
    "        kid_l, kid_r = get_bounding_box(mask, _kidney)\n",
    "        kid_dis = dis(kid_l, tumor_l) + dis(kid_r, tumor_r)\n",
    "\n",
    "        if kid_dis < min_dis:\n",
    "            min_dis = kid_dis\n",
    "            nearest_kid = _kidney\n",
    "\n",
    "    kid_l, kid_r = get_bounding_box(mask, nearest_kid)\n",
    "    l_box, r_box = check_edge(kid_l, kid_r, tumor_l, tumor_r)\n",
    "\n",
    "    return max_tumor, nearest_kid, l_box, r_box\n",
    "\n",
    "    # a_kid_l, a_kid_r = get_bounding_box(mask, kidneys[0])\n",
    "    # b_kid_l, b_kid_r = get_bounding_box(mask, kidneys[1])\n",
    "\n",
    "    # # print('tumor box:', tumor_l, ',', tumor_r)\n",
    "    # # print('A kidney box:', a_kid_l, ',', a_kid_r)\n",
    "    # # print('B kidney box:', b_kid_l, ',', b_kid_r)\n",
    "\n",
    "    # a_kid_dis = dis(a_kid_l, tumor_l) + dis(a_kid_r, tumor_r)\n",
    "    # b_kid_dis = dis(b_kid_l, tumor_l) + dis(b_kid_r, tumor_r)\n",
    "\n",
    "    # if a_kid_dis < b_kid_dis:\n",
    "    #     # top left and right bottom must check with tumor boudning box\n",
    "    #     l_box, r_box = check_edge(a_kid_l, a_kid_r, tumor_l, tumor_r)\n",
    "    #     return max_tumor, kidneys[0], l_box, r_box\n",
    "    # else:\n",
    "    #     l_box, r_box = check_edge(b_kid_l, b_kid_r, tumor_l, tumor_r)\n",
    "    #     return max_tumor, kidneys[1], l_box, r_box\n",
    "\n",
    "def get_max_tumor(mask):\n",
    "    tumor_region = np.where(mask == 2)\n",
    "\n",
    "    # There is no tumors in the img\n",
    "    if len(tumor_region[0]) == 0:\n",
    "        return (666, 666, 666), (0, 0, 0)\n",
    "\n",
    "    tumors = find_regions(tumor_region)\n",
    "    # sorted the tumors and get the biggest part\n",
    "    sorted(tumors, key=lambda x: len(x))\n",
    "    max_tumor = tumors[-1]\n",
    "\n",
    "    l_box, r_box= get_bounding_box(mask, max_tumor)\n",
    "    return max_tumor, l_box, r_box\n",
    "\n",
    "\n",
    "def crop_tumor(img, mask, tumor_only=False, with_kidney=False):\n",
    "    if with_kidney is True:\n",
    "        max_tumor, kidney, l_box, r_box = get_bounding_box_with_kidney(mask)    \n",
    "    else:\n",
    "        max_tumor, l_box, r_box = get_max_tumor(mask)\n",
    "\n",
    "    # turn the kidney part to black\n",
    "    img = img[l_box[0]: r_box[0], l_box[1]: r_box[1], l_box[2]: r_box[2]]\n",
    "\n",
    "    if tumor_only is True:\n",
    "        box = np.full((r_box[0] - l_box[0], r_box[1] - l_box[1], r_box[2] - l_box[2]), -1024)\n",
    "        # print(box.shape, ',', img.shape)\n",
    "        for _tumor in max_tumor:\n",
    "            x = _tumor[0] - l_box[0]\n",
    "            y = _tumor[1] - l_box[1]\n",
    "            z = _tumor[2] - l_box[2]\n",
    "            box[x][y][z] = img[x][y][z]\n",
    "\n",
    "        # for _kid in kidney:\n",
    "        #     x = _kid[0] - l_box[0]\n",
    "        #     y = _kid[1] - l_box[1]\n",
    "        #     z = _kid[2] - l_box[2]\n",
    "        #     box[x][y][z] = img[x][y][z]\n",
    "        return box\n",
    "\n",
    "    # (l_width, l_height, l_depth), (r_width, r_height, r_depth)\n",
    "    return img\n"
   ]
  },
  {
   "cell_type": "code",
   "execution_count": 110,
   "metadata": {},
   "outputs": [],
   "source": [
    "mask = read_nifti_file(mask_path[8])\n",
    "\n",
    "kidney_region = np.where(mask == 1)\n",
    "kidneys = find_regions(kidney_region)"
   ]
  },
  {
   "cell_type": "code",
   "execution_count": 144,
   "metadata": {},
   "outputs": [
    {
     "name": "stdout",
     "output_type": "stream",
     "text": [
      "(259, 187, 349) (348, 279, 477)\n"
     ]
    }
   ],
   "source": [
    "max_tumor, kid, l_b, r_b = get_bounding_box_with_kidney(mask)\n",
    "\n",
    "print(l_b, r_b)"
   ]
  },
  {
   "cell_type": "code",
   "execution_count": 143,
   "metadata": {},
   "outputs": [
    {
     "data": {
      "text/plain": [
       "(array([ 91,  91,  91, ..., 342, 343, 343], dtype=int64),\n",
       " array([239, 239, 240, ..., 224, 219, 220], dtype=int64),\n",
       " array([388, 389, 385, ..., 432, 432, 432], dtype=int64))"
      ]
     },
     "execution_count": 143,
     "metadata": {},
     "output_type": "execute_result"
    }
   ],
   "source": [
    "kidney_region = np.where(mask == 1)\n",
    "kidney_region"
   ]
  },
  {
   "cell_type": "code",
   "execution_count": 142,
   "metadata": {},
   "outputs": [],
   "source": [
    "mask[:, :, -1] = 0"
   ]
  },
  {
   "cell_type": "code",
   "execution_count": 124,
   "metadata": {},
   "outputs": [
    {
     "data": {
      "text/plain": [
       "array([[[0, 0, 0, ..., 0, 0, 0],\n",
       "        [0, 0, 0, ..., 0, 0, 0],\n",
       "        [0, 0, 0, ..., 0, 0, 0],\n",
       "        ...,\n",
       "        [0, 0, 0, ..., 0, 0, 0],\n",
       "        [0, 0, 0, ..., 0, 0, 0],\n",
       "        [0, 0, 0, ..., 0, 0, 0]],\n",
       "\n",
       "       [[0, 0, 0, ..., 0, 0, 0],\n",
       "        [0, 0, 0, ..., 0, 0, 0],\n",
       "        [0, 0, 0, ..., 0, 0, 0],\n",
       "        ...,\n",
       "        [0, 0, 0, ..., 0, 0, 0],\n",
       "        [0, 0, 0, ..., 0, 0, 0],\n",
       "        [0, 0, 0, ..., 0, 0, 0]],\n",
       "\n",
       "       [[0, 0, 0, ..., 0, 0, 0],\n",
       "        [0, 0, 0, ..., 0, 0, 0],\n",
       "        [0, 0, 0, ..., 0, 0, 0],\n",
       "        ...,\n",
       "        [0, 0, 0, ..., 0, 0, 0],\n",
       "        [0, 0, 0, ..., 0, 0, 0],\n",
       "        [0, 0, 0, ..., 0, 0, 0]],\n",
       "\n",
       "       ...,\n",
       "\n",
       "       [[0, 0, 0, ..., 0, 0, 0],\n",
       "        [0, 0, 0, ..., 0, 0, 0],\n",
       "        [0, 0, 0, ..., 0, 0, 0],\n",
       "        ...,\n",
       "        [0, 0, 0, ..., 0, 0, 0],\n",
       "        [0, 0, 0, ..., 0, 0, 0],\n",
       "        [0, 0, 0, ..., 0, 0, 0]],\n",
       "\n",
       "       [[0, 0, 0, ..., 0, 0, 0],\n",
       "        [0, 0, 0, ..., 0, 0, 0],\n",
       "        [0, 0, 0, ..., 0, 0, 0],\n",
       "        ...,\n",
       "        [0, 0, 0, ..., 0, 0, 0],\n",
       "        [0, 0, 0, ..., 0, 0, 0],\n",
       "        [0, 0, 0, ..., 0, 0, 0]],\n",
       "\n",
       "       [[0, 0, 0, ..., 0, 0, 0],\n",
       "        [0, 0, 0, ..., 0, 0, 0],\n",
       "        [0, 0, 0, ..., 0, 0, 0],\n",
       "        ...,\n",
       "        [0, 0, 0, ..., 0, 0, 0],\n",
       "        [0, 0, 0, ..., 0, 0, 0],\n",
       "        [0, 0, 0, ..., 0, 0, 0]]], dtype=uint8)"
      ]
     },
     "execution_count": 124,
     "metadata": {},
     "output_type": "execute_result"
    }
   ],
   "source": [
    "mask = read_nifti_file(mask_path[8])\n",
    "mask"
   ]
  },
  {
   "cell_type": "code",
   "execution_count": 100,
   "metadata": {},
   "outputs": [
    {
     "name": "stdout",
     "output_type": "stream",
     "text": [
      "(111, 298, 130) ,  (123, 278, 125)\n",
      "--------------------\n",
      "(134, 239, 148) ,  (237, 198, 162)\n",
      "--------------------\n",
      "(325, 299, 127) ,  (421, 270, 144)\n",
      "--------------------\n"
     ]
    }
   ],
   "source": [
    "for _kid in kidneys:\n",
    "    print(_kid[0], ', ', _kid[-1])\n",
    "    print('-'*20)"
   ]
  },
  {
   "cell_type": "code",
   "execution_count": 5,
   "metadata": {},
   "outputs": [],
   "source": [
    "#  input mask\n",
    "# data_dir = 'C:\\\\Users\\\\Gina\\\\Lab\\\\kidney\\\\nnUNet-1\\\\Result'\n",
    "data_dir = 'C:\\\\Users\\\\Gina\\\\Lab\\\\kidney\\\\nnUNet-1\\\\DataSet\\\\nnUnet_raw\\\\nnUNet_raw_data\\\\Task135_KiTS2021\\\\imagesTr'\n",
    "mask_dir = 'C:\\\\Users\\\\Gina\\\\Lab\\\\kidney\\\\nnUNet-1\\\\Result'\n",
    "\n",
    "data_path = []\n",
    "mask_path = []\n",
    "\n",
    "# append the mask files\n",
    "for file in os.listdir(mask_dir):\n",
    "    if \"nii.gz\" in file:\n",
    "        mask_path.append(os.path.join(mask_dir, file))\n",
    "\n",
    "# append the original image files\n",
    "for file in os.listdir(data_dir):\n",
    "    if \"nii.gz\" in file:\n",
    "        data_path.append(os.path.join(data_dir, file))"
   ]
  },
  {
   "cell_type": "code",
   "execution_count": 11,
   "metadata": {},
   "outputs": [
    {
     "name": "stdout",
     "output_type": "stream",
     "text": [
      "(81, 98, 223) , (81, 98, 223)\n"
     ]
    }
   ],
   "source": [
    "img = read_nifti_file(data_path[4])\n",
    "mask = read_nifti_file(mask_path[4])\n",
    "test = crop_tumor(img, mask, True, True)"
   ]
  },
  {
   "cell_type": "code",
   "execution_count": 8,
   "metadata": {},
   "outputs": [],
   "source": [
    "def plot_3d(image, threshold=0, to_show=False, title='img'):\n",
    "    p = image.transpose(2,1,0)\n",
    "    verts, faces, normals, values = measure.marching_cubes_lewiner(p, threshold)\n",
    "    fig = plt.figure(figsize=(10, 10))\n",
    "    ax = fig.add_subplot(111, projection='3d')\n",
    "    mesh = Poly3DCollection(verts[faces], alpha=0.1)\n",
    "    face_color = [0.5, 0.5, 1]\n",
    "    mesh.set_facecolor(face_color)\n",
    "    ax.add_collection3d(mesh)\n",
    "    ax.set_xlim(0, p.shape[0])\n",
    "    ax.set_ylim(0, p.shape[1])\n",
    "    ax.set_zlim(0, p.shape[2])\n",
    "\n",
    "    if to_show is True:\n",
    "        plt.savefig('resample_kidney_box_tumor//img//'+ title + '.png')\n",
    "        plt.close()\n",
    "    else:\n",
    "        plt.show()\n"
   ]
  },
  {
   "cell_type": "code",
   "execution_count": 13,
   "metadata": {},
   "outputs": [],
   "source": [
    "plot_3d(test, 0, True, 'img')"
   ]
  },
  {
   "cell_type": "code",
   "execution_count": 140,
   "metadata": {},
   "outputs": [
    {
     "name": "stdout",
     "output_type": "stream",
     "text": [
      "(418, 418, 681)\n",
      "(418, 418, 681)\n"
     ]
    }
   ],
   "source": [
    "img = resample_image(data_path[8], out_spacing=[1.0, 1.0, 1.0], is_label=False)\n",
    "print(img.shape)\n",
    "mask = resample_image(mask_path[8], out_spacing=[1.0, 1.0, 1.0], is_label=False)\n",
    "print(mask.shape)\n",
    "# img = crop_tumor(img, mask, True, True)"
   ]
  },
  {
   "cell_type": "code",
   "execution_count": 7,
   "metadata": {},
   "outputs": [],
   "source": [
    "def resize_volume(img, desired_depth=64, desired_width=128, desired_height=128):\n",
    "    \"\"\"Resize across z-axis\"\"\"\n",
    "    \n",
    "    # Get current depth\n",
    "    current_width = img.shape[0]\n",
    "    current_height = img.shape[1]\n",
    "    current_depth = img.shape[-1]\n",
    "    \n",
    "    # Compute depth factor\n",
    "    depth = current_depth / desired_depth\n",
    "    width = current_width / desired_width\n",
    "    height = current_height / desired_height\n",
    "\n",
    "    depth_factor = 1 / depth\n",
    "    width_factor = 1 / width\n",
    "    height_factor = 1 / height\n",
    "\n",
    "    # Resize across z-axis\n",
    "    img = ndimage.zoom(img, (width_factor, height_factor, depth_factor), order=1)\n",
    "    return img"
   ]
  },
  {
   "cell_type": "code",
   "execution_count": 19,
   "metadata": {},
   "outputs": [
    {
     "data": {
      "text/plain": [
       "'C:\\\\Users\\\\Gina\\\\Lab\\\\kidney\\\\nnUNet-1\\\\DataSet\\\\nnUnet_raw\\\\nnUNet_raw_data\\\\Task135_KiTS2021\\\\imagesTr\\\\case_00010_0000.nii.gz'"
      ]
     },
     "execution_count": 19,
     "metadata": {},
     "output_type": "execute_result"
    }
   ],
   "source": [
    "img_path"
   ]
  },
  {
   "cell_type": "code",
   "execution_count": 9,
   "metadata": {},
   "outputs": [
    {
     "name": "stdout",
     "output_type": "stream",
     "text": [
      "----- Strange: only 1 kidney ------\n",
      "----- Strange: only 1 kidney ------\n",
      "C:\\Users\\Gina\\Lab\\kidney\\nnUNet-1\\DataSet\\nnUnet_raw\\nnUNet_raw_data\\Task135_KiTS2021\\imagesTr\\case_00064_0000.nii.gz\n",
      "C:\\Users\\Gina\\Lab\\kidney\\nnUNet-1\\DataSet\\nnUnet_raw\\nnUNet_raw_data\\Task135_KiTS2021\\imagesTr\\case_00103_0000.nii.gz\n",
      "----- Strange: only 1 kidney ------\n",
      "----- Strange: only 1 kidney ------\n",
      "----- Strange: only 1 kidney ------\n",
      "----- Strange: only 1 kidney ------\n",
      "C:\\Users\\Gina\\Lab\\kidney\\nnUNet-1\\DataSet\\nnUnet_raw\\nnUNet_raw_data\\Task135_KiTS2021\\imagesTr\\case_00234_0000.nii.gz\n",
      "----- Strange: only 1 kidney ------\n",
      "----- Strange: only 1 kidney ------\n"
     ]
    }
   ],
   "source": [
    "idx = 0\n",
    "for img_path, mask in zip(data_path, mask_path):\n",
    "    try:\n",
    "        # img = read_nifti_file(img_path)\n",
    "        # mask = read_nifti_file(mask)\n",
    "        img = resample_image(img_path, out_spacing=[1.0, 1.0, 1.0], is_label=False)\n",
    "        # sitk.WriteImage(img, f\"resize//img_{idx}.nii.gz\")\n",
    "\n",
    "        mask = resample_image(mask, out_spacing=[1.0, 1.0, 1.0], is_label=True)\n",
    "        # sitk.WriteImage(mask, f\"resize//mask_{idx}.nii.gz\")\n",
    "\n",
    "        # size_info.append(img.shape)    \n",
    "        img = crop_tumor(img, mask, True, True)\n",
    "\n",
    "        plot_3d(img, 0, True, str(idx))\n",
    "        np.save(f\"resample_kidney_box_tumor//case_{idx}.npy\", img)\n",
    "\n",
    "        del img\n",
    "        del mask\n",
    "    except:\n",
    "        print(img_path)\n",
    "    idx += 1"
   ]
  },
  {
   "cell_type": "code",
   "execution_count": 11,
   "metadata": {},
   "outputs": [
    {
     "data": {
      "text/html": [
       "<div>\n",
       "<style scoped>\n",
       "    .dataframe tbody tr th:only-of-type {\n",
       "        vertical-align: middle;\n",
       "    }\n",
       "\n",
       "    .dataframe tbody tr th {\n",
       "        vertical-align: top;\n",
       "    }\n",
       "\n",
       "    .dataframe thead th {\n",
       "        text-align: right;\n",
       "    }\n",
       "</style>\n",
       "<table border=\"1\" class=\"dataframe\">\n",
       "  <thead>\n",
       "    <tr style=\"text-align: right;\">\n",
       "      <th></th>\n",
       "      <th>image_idx</th>\n",
       "      <th>x</th>\n",
       "      <th>y</th>\n",
       "      <th>z</th>\n",
       "      <th>volume</th>\n",
       "    </tr>\n",
       "  </thead>\n",
       "  <tbody>\n",
       "    <tr>\n",
       "      <th>0</th>\n",
       "      <td>0</td>\n",
       "      <td>75</td>\n",
       "      <td>91</td>\n",
       "      <td>116</td>\n",
       "      <td>7603</td>\n",
       "    </tr>\n",
       "    <tr>\n",
       "      <th>1</th>\n",
       "      <td>1</td>\n",
       "      <td>83</td>\n",
       "      <td>103</td>\n",
       "      <td>118</td>\n",
       "      <td>5105</td>\n",
       "    </tr>\n",
       "    <tr>\n",
       "      <th>2</th>\n",
       "      <td>2</td>\n",
       "      <td>96</td>\n",
       "      <td>96</td>\n",
       "      <td>117</td>\n",
       "      <td>37282</td>\n",
       "    </tr>\n",
       "    <tr>\n",
       "      <th>3</th>\n",
       "      <td>3</td>\n",
       "      <td>85</td>\n",
       "      <td>97</td>\n",
       "      <td>103</td>\n",
       "      <td>10784</td>\n",
       "    </tr>\n",
       "    <tr>\n",
       "      <th>4</th>\n",
       "      <td>4</td>\n",
       "      <td>100</td>\n",
       "      <td>74</td>\n",
       "      <td>129</td>\n",
       "      <td>22672</td>\n",
       "    </tr>\n",
       "  </tbody>\n",
       "</table>\n",
       "</div>"
      ],
      "text/plain": [
       "   image_idx    x    y    z  volume\n",
       "0          0   75   91  116    7603\n",
       "1          1   83  103  118    5105\n",
       "2          2   96   96  117   37282\n",
       "3          3   85   97  103   10784\n",
       "4          4  100   74  129   22672"
      ]
     },
     "execution_count": 11,
     "metadata": {},
     "output_type": "execute_result"
    }
   ],
   "source": [
    "ct_data = []\n",
    "data_info = []\n",
    "for idx in range(300):\n",
    "    if idx in [64, 103, 234]:\n",
    "        continue\n",
    "    _tumor = np.load(f\"resample_kidney_box_tumor/case_{idx}.npy\")\n",
    "    # _tumor[_tumor == -1024] = 0\n",
    "    ct_data.append(_tumor)\n",
    "    \n",
    "    row = {}\n",
    "    row['image_idx'] = idx\n",
    "    row['x'] = _tumor.shape[0]\n",
    "    row['y'] = _tumor.shape[1]\n",
    "    row['z'] = _tumor.shape[2]\n",
    "    row['volume'] = len(np.where(_tumor != -1024)[0])\n",
    "    data_info.append(row)\n",
    "\n",
    "data_info = pd.DataFrame(data_info)\n",
    "\n",
    "data_info.head(5)"
   ]
  },
  {
   "cell_type": "code",
   "execution_count": 12,
   "metadata": {},
   "outputs": [],
   "source": [
    "data_info.to_csv('output/resample_kidney.csv')"
   ]
  },
  {
   "cell_type": "code",
   "execution_count": 65,
   "metadata": {},
   "outputs": [],
   "source": [
    "ct_data = np.array(list(map(resize_volume, ct_data)))"
   ]
  },
  {
   "cell_type": "code",
   "execution_count": 116,
   "metadata": {},
   "outputs": [],
   "source": [
    "with open('C:\\\\Users\\\\Gina\\\\Lab\\\\kidney\\\\kits21\\\\kits21\\\\data\\\\kits.json') as f:\n",
    "    label = json.load(f)\n",
    "    label = pd.DataFrame(label)\n",
    "\n",
    "# drop useless img index\n",
    "drop_img = [64, 103, 234]\n",
    "label = label.drop(drop_img)\n",
    "label.index = range(len(label))"
   ]
  },
  {
   "cell_type": "code",
   "execution_count": 67,
   "metadata": {},
   "outputs": [
    {
     "data": {
      "text/plain": [
       "(130, 38)"
      ]
     },
     "execution_count": 67,
     "metadata": {},
     "output_type": "execute_result"
    }
   ],
   "source": [
    "filter_a = label['pathologic_size'] <= 4.0\n",
    "filter_b = label['malignant'] == False\n",
    "filter_c = label['pathology_t_stage'] == '1a'\n",
    "filter_d = label['pathology_t_stage'] == '1b'\n",
    "filter_e = label['pathology_t_stage'] == '3'\n",
    "\n",
    "label[(filter_a & (filter_c | filter_d | filter_e))].shape"
   ]
  },
  {
   "cell_type": "code",
   "execution_count": 121,
   "metadata": {},
   "outputs": [],
   "source": [
    "label[filter_a]['case_id'].to_csv('tumor_4mm.csv')"
   ]
  },
  {
   "cell_type": "code",
   "execution_count": 61,
   "metadata": {},
   "outputs": [
    {
     "data": {
      "text/plain": [
       "(14, 3)"
      ]
     },
     "execution_count": 61,
     "metadata": {},
     "output_type": "execute_result"
    }
   ],
   "source": [
    "tmpb = label_benign['malignant'] == False\n",
    "\n",
    "label_benign[(tmpb)].shape"
   ]
  },
  {
   "cell_type": "code",
   "execution_count": 68,
   "metadata": {},
   "outputs": [
    {
     "name": "stdout",
     "output_type": "stream",
     "text": [
      "ct shape: (119, 128, 128, 64) , label shape: (119, 3)\n"
     ]
    }
   ],
   "source": [
    "# extrace col\n",
    "label_grade = label[(filter_a & (filter_c | filter_d | filter_e))]\n",
    "drop_index = label[~(filter_a & (filter_c | filter_d | filter_e))].index\n",
    "\n",
    "label_grade = label_grade[['tumor_isup_grade', 'pathology_t_stage', 'malignant']]\n",
    "label_grade = label_grade.rename(columns={'tumor_isup_grade': 'grade', 'pathology_t_stage': 'stage'})\n",
    "\n",
    "ct_grade = np.delete(ct_data, drop_index, axis=0) \n",
    "\n",
    "label_grade.loc[ label_grade['grade'] <= 2, ['grade'] ] = 0\n",
    "label_grade.loc[ label_grade['grade'] > 2, ['grade'] ] = 1\n",
    "\n",
    "# reindex -> due to ct data\n",
    "label_grade.index = range(len(label_grade))\n",
    "drop_index = label_grade[label_grade['grade'].isna()].index.tolist()\n",
    "\n",
    "# drop for missing grade\n",
    "label_grade = label_grade.drop(index=drop_index)\n",
    "label_grade.index = range(len(label_grade))\n",
    "ct_grade = np.delete(ct_grade, drop_index, axis=0)\n",
    "\n",
    "print('ct shape:', ct_grade.shape, ', label shape:', label_grade.shape)"
   ]
  },
  {
   "cell_type": "code",
   "execution_count": 69,
   "metadata": {},
   "outputs": [
    {
     "name": "stdout",
     "output_type": "stream",
     "text": [
      "ct shape: (144, 128, 128, 64) , label shape: (144, 3)\n"
     ]
    }
   ],
   "source": [
    "label_benign = label[(filter_a & (filter_c | filter_d | filter_e | filter_b))]\n",
    "drop_index = label[~(filter_a & (filter_c | filter_d | filter_e | filter_b))].index\n",
    "\n",
    "label_benign = label_benign[['tumor_isup_grade', 'pathology_t_stage', 'malignant']]\n",
    "label_benign = label_benign.rename(columns={'tumor_isup_grade': 'grade', 'pathology_t_stage': 'stage'})\n",
    "\n",
    "ct_benign = np.delete(ct_data, drop_index, axis=0)\n",
    "\n",
    "# # reindex the label\n",
    "label_benign.index = range(len(label_benign))\n",
    "\n",
    "drop_index = label_benign[label_benign['malignant'].isna()].index.tolist()\n",
    "# print(drop_index)\n",
    "\n",
    "# drop for missing grade\n",
    "label_benign = label_benign.drop(index=drop_index)\n",
    "label_benign.index = range(len(label_benign))\n",
    "ct_benign = np.delete(ct_benign, drop_index, axis=0)\n",
    "\n",
    "print('ct shape:', ct_benign.shape, ', label shape:', label_benign.shape)"
   ]
  },
  {
   "cell_type": "code",
   "execution_count": 70,
   "metadata": {},
   "outputs": [
    {
     "name": "stdout",
     "output_type": "stream",
     "text": [
      "Model: \"3dcnn\"\n",
      "_________________________________________________________________\n",
      "Layer (type)                 Output Shape              Param #   \n",
      "=================================================================\n",
      "input_31 (InputLayer)        [(None, 128, 128, 64, 1)] 0         \n",
      "_________________________________________________________________\n",
      "conv3d_120 (Conv3D)          (None, 126, 126, 62, 32)  896       \n",
      "_________________________________________________________________\n",
      "max_pooling3d_120 (MaxPoolin (None, 63, 63, 31, 32)    0         \n",
      "_________________________________________________________________\n",
      "batch_normalization_120 (Bat (None, 63, 63, 31, 32)    128       \n",
      "_________________________________________________________________\n",
      "conv3d_121 (Conv3D)          (None, 61, 61, 29, 32)    27680     \n",
      "_________________________________________________________________\n",
      "max_pooling3d_121 (MaxPoolin (None, 30, 30, 14, 32)    0         \n",
      "_________________________________________________________________\n",
      "batch_normalization_121 (Bat (None, 30, 30, 14, 32)    128       \n",
      "_________________________________________________________________\n",
      "conv3d_122 (Conv3D)          (None, 28, 28, 12, 64)    55360     \n",
      "_________________________________________________________________\n",
      "max_pooling3d_122 (MaxPoolin (None, 14, 14, 6, 64)     0         \n",
      "_________________________________________________________________\n",
      "batch_normalization_122 (Bat (None, 14, 14, 6, 64)     256       \n",
      "_________________________________________________________________\n",
      "conv3d_123 (Conv3D)          (None, 12, 12, 4, 64)     110656    \n",
      "_________________________________________________________________\n",
      "max_pooling3d_123 (MaxPoolin (None, 6, 6, 2, 64)       0         \n",
      "_________________________________________________________________\n",
      "batch_normalization_123 (Bat (None, 6, 6, 2, 64)       256       \n",
      "_________________________________________________________________\n",
      "global_average_pooling3d_30  (None, 64)                0         \n",
      "_________________________________________________________________\n",
      "dense_60 (Dense)             (None, 128)               8320      \n",
      "_________________________________________________________________\n",
      "dense_61 (Dense)             (None, 1)                 129       \n",
      "=================================================================\n",
      "Total params: 203,809\n",
      "Trainable params: 203,425\n",
      "Non-trainable params: 384\n",
      "_________________________________________________________________\n"
     ]
    }
   ],
   "source": [
    "def get_model(width=128, height=128, depth=64):\n",
    "    \"\"\"Build a 3D convolutional neural network model.\"\"\"\n",
    "\n",
    "    inputs = keras.Input((width, height, depth, 1))\n",
    "\n",
    "    x = keras.layers.Conv3D(filters=32, kernel_size=3, activation=\"relu\")(inputs)\n",
    "    x = keras.layers.MaxPool3D(pool_size=2)(x)\n",
    "    x = keras.layers.BatchNormalization()(x)\n",
    "\n",
    "    x = keras.layers.Conv3D(filters=32, kernel_size=3, activation=\"relu\")(x)\n",
    "    x = keras.layers.MaxPool3D(pool_size=2)(x)\n",
    "    x = keras.layers.BatchNormalization()(x)\n",
    "\n",
    "    x = keras.layers.Conv3D(filters=64, kernel_size=3, activation=\"relu\")(x)\n",
    "    x = keras.layers.MaxPool3D(pool_size=2)(x)\n",
    "    x = keras.layers.BatchNormalization()(x)\n",
    "\n",
    "    x = keras.layers.Conv3D(filters=64, kernel_size=3, activation=\"relu\")(x)\n",
    "    x = keras.layers.MaxPool3D(pool_size=2)(x)\n",
    "    x = keras.layers.BatchNormalization()(x)\n",
    "\n",
    "    x = keras.layers.GlobalAveragePooling3D()(x)\n",
    "    x = keras.layers.Dense(units=128, activation=\"relu\")(x)\n",
    "    # x = keras.layers.Dropout(0.3)(x)\n",
    "\n",
    "    # outputs = keras.layers.Dense(units=2, activation=\"softmax\")(x) # type output\n",
    "    outputs = keras.layers.Dense(units=1, activation=\"sigmoid\")(x) # grade output\n",
    "\n",
    "    # Define the model.\n",
    "    model = keras.Model(inputs, outputs, name=\"3dcnn\")\n",
    "    return model\n",
    "\n",
    "\n",
    "# Build model.\n",
    "model = get_model()\n",
    "model.summary()\n"
   ]
  },
  {
   "cell_type": "code",
   "execution_count": 82,
   "metadata": {},
   "outputs": [
    {
     "name": "stdout",
     "output_type": "stream",
     "text": [
      "Epoch 1/20\n",
      "19/19 [==============================] - 3s 117ms/step - loss: 0.6426 - acc: 0.7789 - auc: 0.5623 - sensitivity: 0.5789 - specificity: 0.6974 - val_loss: 0.6568 - val_acc: 0.8750 - val_auc: 0.5159 - val_sensitivity: 0.3333 - val_specificity: 0.0952\n",
      "Epoch 2/20\n",
      "19/19 [==============================] - 2s 101ms/step - loss: 0.5742 - acc: 0.8000 - auc: 0.5963 - sensitivity: 0.5263 - specificity: 0.7237 - val_loss: 0.6064 - val_acc: 0.8750 - val_auc: 0.4286 - val_sensitivity: 0.3333 - val_specificity: 0.0000e+00\n",
      "Epoch 3/20\n",
      "19/19 [==============================] - 2s 100ms/step - loss: 0.5388 - acc: 0.8211 - auc: 0.6846 - sensitivity: 0.6842 - specificity: 0.6711 - val_loss: 0.5633 - val_acc: 0.8750 - val_auc: 0.6190 - val_sensitivity: 0.6667 - val_specificity: 0.5714\n",
      "Epoch 4/20\n",
      "19/19 [==============================] - 2s 100ms/step - loss: 0.5217 - acc: 0.8211 - auc: 0.6839 - sensitivity: 0.6842 - specificity: 0.7500 - val_loss: 0.5202 - val_acc: 0.8750 - val_auc: 0.5556 - val_sensitivity: 0.0000e+00 - val_specificity: 0.4762\n",
      "Epoch 5/20\n",
      "19/19 [==============================] - 2s 100ms/step - loss: 0.5067 - acc: 0.8000 - auc: 0.7285 - sensitivity: 0.7895 - specificity: 0.7895 - val_loss: 0.4816 - val_acc: 0.8750 - val_auc: 0.5317 - val_sensitivity: 0.0000e+00 - val_specificity: 0.4762\n",
      "Epoch 6/20\n",
      "19/19 [==============================] - 2s 99ms/step - loss: 0.5276 - acc: 0.8105 - auc: 0.6042 - sensitivity: 0.6316 - specificity: 0.5658 - val_loss: 0.4545 - val_acc: 0.8750 - val_auc: 0.5873 - val_sensitivity: 0.6667 - val_specificity: 0.5714\n",
      "Epoch 7/20\n",
      "19/19 [==============================] - 2s 100ms/step - loss: 0.5188 - acc: 0.8000 - auc: 0.6132 - sensitivity: 0.5263 - specificity: 0.6842 - val_loss: 0.4413 - val_acc: 0.8750 - val_auc: 0.5714 - val_sensitivity: 0.6667 - val_specificity: 0.5714\n",
      "Epoch 8/20\n",
      "19/19 [==============================] - 2s 101ms/step - loss: 0.4910 - acc: 0.8105 - auc: 0.6981 - sensitivity: 0.7368 - specificity: 0.7632 - val_loss: 0.4437 - val_acc: 0.8750 - val_auc: 0.6111 - val_sensitivity: 0.6667 - val_specificity: 0.7619\n",
      "Epoch 9/20\n",
      "19/19 [==============================] - 2s 100ms/step - loss: 0.4659 - acc: 0.7895 - auc: 0.7870 - sensitivity: 0.7895 - specificity: 0.8816 - val_loss: 0.4334 - val_acc: 0.8750 - val_auc: 0.6190 - val_sensitivity: 0.6667 - val_specificity: 0.7619\n",
      "Epoch 10/20\n",
      "19/19 [==============================] - 2s 100ms/step - loss: 0.4621 - acc: 0.8211 - auc: 0.7597 - sensitivity: 0.7895 - specificity: 0.9474 - val_loss: 0.4329 - val_acc: 0.8750 - val_auc: 0.6111 - val_sensitivity: 0.6667 - val_specificity: 0.7619\n",
      "Epoch 11/20\n",
      "19/19 [==============================] - 2s 100ms/step - loss: 0.4435 - acc: 0.8211 - auc: 0.8047 - sensitivity: 0.8421 - specificity: 0.9342 - val_loss: 0.4237 - val_acc: 0.8750 - val_auc: 0.6508 - val_sensitivity: 0.6667 - val_specificity: 0.6190\n",
      "Epoch 12/20\n",
      "19/19 [==============================] - 2s 100ms/step - loss: 0.4459 - acc: 0.8421 - auc: 0.8262 - sensitivity: 0.8947 - specificity: 0.9211 - val_loss: 0.4326 - val_acc: 0.8750 - val_auc: 0.6190 - val_sensitivity: 0.6667 - val_specificity: 0.7619\n",
      "Epoch 13/20\n",
      "19/19 [==============================] - 2s 100ms/step - loss: 0.4353 - acc: 0.8211 - auc: 0.8227 - sensitivity: 0.8421 - specificity: 0.9605 - val_loss: 0.4302 - val_acc: 0.8750 - val_auc: 0.6270 - val_sensitivity: 0.6667 - val_specificity: 0.8571\n",
      "Epoch 14/20\n",
      "19/19 [==============================] - 2s 102ms/step - loss: 0.4341 - acc: 0.8632 - auc: 0.8030 - sensitivity: 0.8421 - specificity: 0.8816 - val_loss: 0.4407 - val_acc: 0.8750 - val_auc: 0.6111 - val_sensitivity: 0.6667 - val_specificity: 0.8095\n",
      "Epoch 15/20\n",
      "19/19 [==============================] - 2s 101ms/step - loss: 0.4194 - acc: 0.8632 - auc: 0.8393 - sensitivity: 0.8421 - specificity: 0.9868 - val_loss: 0.4493 - val_acc: 0.8750 - val_auc: 0.7143 - val_sensitivity: 0.6667 - val_specificity: 0.8095\n",
      "Epoch 16/20\n",
      "19/19 [==============================] - 2s 100ms/step - loss: 0.3961 - acc: 0.8421 - auc: 0.9037 - sensitivity: 0.8947 - specificity: 1.0000 - val_loss: 0.5179 - val_acc: 0.8750 - val_auc: 0.4127 - val_sensitivity: 0.3333 - val_specificity: 0.1905\n",
      "Epoch 17/20\n",
      "19/19 [==============================] - 2s 100ms/step - loss: 0.3973 - acc: 0.8737 - auc: 0.8546 - sensitivity: 0.7895 - specificity: 0.9737 - val_loss: 0.5553 - val_acc: 0.8750 - val_auc: 0.4683 - val_sensitivity: 0.3333 - val_specificity: 0.3333\n",
      "Epoch 18/20\n",
      "19/19 [==============================] - 2s 100ms/step - loss: 0.3593 - acc: 0.9263 - auc: 0.9398 - sensitivity: 0.9474 - specificity: 1.0000 - val_loss: 0.5169 - val_acc: 0.8750 - val_auc: 0.4841 - val_sensitivity: 0.6667 - val_specificity: 0.5714\n",
      "Epoch 19/20\n",
      "19/19 [==============================] - 2s 100ms/step - loss: 0.3598 - acc: 0.8632 - auc: 0.9574 - sensitivity: 1.0000 - specificity: 1.0000 - val_loss: 0.4794 - val_acc: 0.8750 - val_auc: 0.4683 - val_sensitivity: 0.3333 - val_specificity: 0.2857\n",
      "Epoch 20/20\n",
      "19/19 [==============================] - 2s 101ms/step - loss: 0.3465 - acc: 0.8842 - auc: 0.9301 - sensitivity: 1.0000 - specificity: 0.9737 - val_loss: 0.4929 - val_acc: 0.8750 - val_auc: 0.4841 - val_sensitivity: 0.6667 - val_specificity: 0.5714\n",
      "val:\n",
      " [[21  3]\n",
      " [ 0  0]]\n",
      "t1a score: 0.9090909090909091\n",
      "Epoch 1/20\n",
      "19/19 [==============================] - 3s 117ms/step - loss: 0.6895 - acc: 0.5053 - auc: 0.6222 - sensitivity: 0.6875 - specificity: 0.7342 - val_loss: 0.6721 - val_acc: 0.7083 - val_auc: 0.3935 - val_sensitivity: 0.1667 - val_specificity: 0.3333\n",
      "Epoch 2/20\n",
      "19/19 [==============================] - 2s 100ms/step - loss: 0.6056 - acc: 0.7789 - auc: 0.5502 - sensitivity: 0.6250 - specificity: 0.5696 - val_loss: 0.6341 - val_acc: 0.7500 - val_auc: 0.4398 - val_sensitivity: 0.3333 - val_specificity: 0.3333\n",
      "Epoch 3/20\n",
      "19/19 [==============================] - 2s 100ms/step - loss: 0.5604 - acc: 0.8316 - auc: 0.5621 - sensitivity: 0.6250 - specificity: 0.6835 - val_loss: 0.6118 - val_acc: 0.7500 - val_auc: 0.4630 - val_sensitivity: 0.5000 - val_specificity: 0.5000\n",
      "Epoch 4/20\n",
      "19/19 [==============================] - 2s 101ms/step - loss: 0.5354 - acc: 0.8421 - auc: 0.5977 - sensitivity: 0.6875 - specificity: 0.7215 - val_loss: 0.5946 - val_acc: 0.7500 - val_auc: 0.3843 - val_sensitivity: 0.1667 - val_specificity: 0.4444\n",
      "Epoch 5/20\n",
      "19/19 [==============================] - 2s 100ms/step - loss: 0.5160 - acc: 0.8316 - auc: 0.6206 - sensitivity: 0.6250 - specificity: 0.7215 - val_loss: 0.5896 - val_acc: 0.7500 - val_auc: 0.3611 - val_sensitivity: 0.5000 - val_specificity: 0.5000\n",
      "Epoch 6/20\n",
      "19/19 [==============================] - 2s 100ms/step - loss: 0.5113 - acc: 0.8316 - auc: 0.5969 - sensitivity: 0.6250 - specificity: 0.6962 - val_loss: 0.5804 - val_acc: 0.7500 - val_auc: 0.3889 - val_sensitivity: 0.5000 - val_specificity: 0.5000\n",
      "Epoch 7/20\n",
      "19/19 [==============================] - 2s 100ms/step - loss: 0.5251 - acc: 0.8316 - auc: 0.5443 - sensitivity: 0.6875 - specificity: 0.6203 - val_loss: 0.5824 - val_acc: 0.7500 - val_auc: 0.3935 - val_sensitivity: 0.5000 - val_specificity: 0.5000\n",
      "Epoch 8/20\n",
      "19/19 [==============================] - 2s 100ms/step - loss: 0.4776 - acc: 0.8211 - auc: 0.7104 - sensitivity: 0.8125 - specificity: 0.8734 - val_loss: 0.5785 - val_acc: 0.7500 - val_auc: 0.3935 - val_sensitivity: 0.3333 - val_specificity: 0.3889\n",
      "Epoch 9/20\n",
      "19/19 [==============================] - 2s 100ms/step - loss: 0.5020 - acc: 0.8316 - auc: 0.5914 - sensitivity: 0.5625 - specificity: 0.7342 - val_loss: 0.5777 - val_acc: 0.7500 - val_auc: 0.3704 - val_sensitivity: 0.1667 - val_specificity: 0.3889\n",
      "Epoch 10/20\n",
      "19/19 [==============================] - 2s 102ms/step - loss: 0.4600 - acc: 0.8421 - auc: 0.7421 - sensitivity: 0.8125 - specificity: 0.8481 - val_loss: 0.5800 - val_acc: 0.7500 - val_auc: 0.3611 - val_sensitivity: 0.1667 - val_specificity: 0.4444\n",
      "Epoch 11/20\n",
      "19/19 [==============================] - 2s 100ms/step - loss: 0.4348 - acc: 0.8421 - auc: 0.8097 - sensitivity: 0.8750 - specificity: 0.8608 - val_loss: 0.5837 - val_acc: 0.7500 - val_auc: 0.3611 - val_sensitivity: 0.3333 - val_specificity: 0.3889\n",
      "Epoch 12/20\n",
      "19/19 [==============================] - 2s 100ms/step - loss: 0.4298 - acc: 0.8211 - auc: 0.8236 - sensitivity: 0.8750 - specificity: 0.8987 - val_loss: 0.5886 - val_acc: 0.7500 - val_auc: 0.3796 - val_sensitivity: 0.3333 - val_specificity: 0.4444\n",
      "Epoch 13/20\n",
      "19/19 [==============================] - 2s 100ms/step - loss: 0.4120 - acc: 0.8526 - auc: 0.8465 - sensitivity: 0.8750 - specificity: 0.9747 - val_loss: 0.5899 - val_acc: 0.7500 - val_auc: 0.3796 - val_sensitivity: 0.3333 - val_specificity: 0.4444\n",
      "Epoch 14/20\n",
      "19/19 [==============================] - 2s 100ms/step - loss: 0.3968 - acc: 0.8526 - auc: 0.8881 - sensitivity: 0.9375 - specificity: 0.9620 - val_loss: 0.5884 - val_acc: 0.7500 - val_auc: 0.3935 - val_sensitivity: 0.3333 - val_specificity: 0.4444\n",
      "Epoch 15/20\n",
      "19/19 [==============================] - 2s 100ms/step - loss: 0.3968 - acc: 0.8842 - auc: 0.8271 - sensitivity: 0.8125 - specificity: 1.0000 - val_loss: 0.5891 - val_acc: 0.7500 - val_auc: 0.3981 - val_sensitivity: 0.3333 - val_specificity: 0.4444\n",
      "Epoch 16/20\n",
      "19/19 [==============================] - 2s 101ms/step - loss: 0.3659 - acc: 0.8842 - auc: 0.9399 - sensitivity: 0.9375 - specificity: 0.9873 - val_loss: 0.5944 - val_acc: 0.7500 - val_auc: 0.3889 - val_sensitivity: 0.3333 - val_specificity: 0.3889\n",
      "Epoch 17/20\n",
      "19/19 [==============================] - 2s 100ms/step - loss: 0.3523 - acc: 0.8947 - auc: 0.9462 - sensitivity: 1.0000 - specificity: 0.9873 - val_loss: 0.5927 - val_acc: 0.7500 - val_auc: 0.4491 - val_sensitivity: 0.3333 - val_specificity: 0.4444\n",
      "Epoch 18/20\n",
      "19/19 [==============================] - 2s 100ms/step - loss: 0.3821 - acc: 0.9263 - auc: 0.8572 - sensitivity: 0.8750 - specificity: 1.0000 - val_loss: 0.5743 - val_acc: 0.7500 - val_auc: 0.5231 - val_sensitivity: 0.3333 - val_specificity: 0.4444\n",
      "Epoch 19/20\n",
      "19/19 [==============================] - 2s 100ms/step - loss: 0.3616 - acc: 0.8842 - auc: 0.9094 - sensitivity: 1.0000 - specificity: 0.9873 - val_loss: 0.5924 - val_acc: 0.7500 - val_auc: 0.5231 - val_sensitivity: 0.3333 - val_specificity: 0.4444\n",
      "Epoch 20/20\n",
      "19/19 [==============================] - 2s 100ms/step - loss: 0.3454 - acc: 0.9263 - auc: 0.9023 - sensitivity: 0.8750 - specificity: 1.0000 - val_loss: 0.6213 - val_acc: 0.7500 - val_auc: 0.5278 - val_sensitivity: 0.3333 - val_specificity: 0.4444\n",
      "val:\n",
      " [[18  6]\n",
      " [ 0  0]]\n",
      "t1a score: 0.7727272727272727\n",
      "Epoch 1/20\n",
      "19/19 [==============================] - 3s 120ms/step - loss: 0.6819 - acc: 0.5789 - auc: 0.5380 - sensitivity: 0.4286 - specificity: 0.4865 - val_loss: 0.6965 - val_acc: 0.2917 - val_auc: 0.0870 - val_sensitivity: 0.0000e+00 - val_specificity: 0.0000e+00\n",
      "Epoch 2/20\n",
      "19/19 [==============================] - 2s 103ms/step - loss: 0.6089 - acc: 0.7474 - auc: 0.6393 - sensitivity: 0.7143 - specificity: 0.7297 - val_loss: 0.6482 - val_acc: 0.9583 - val_auc: 0.1739 - val_sensitivity: 0.0000e+00 - val_specificity: 0.0870\n",
      "Epoch 3/20\n",
      "19/19 [==============================] - 2s 103ms/step - loss: 0.5789 - acc: 0.7895 - auc: 0.6670 - sensitivity: 0.7143 - specificity: 0.7027 - val_loss: 0.6160 - val_acc: 0.9583 - val_auc: 0.1739 - val_sensitivity: 0.0000e+00 - val_specificity: 0.0870\n",
      "Epoch 4/20\n",
      "19/19 [==============================] - 2s 111ms/step - loss: 0.5471 - acc: 0.8211 - auc: 0.7339 - sensitivity: 0.7619 - specificity: 0.8514 - val_loss: 0.5753 - val_acc: 0.9583 - val_auc: 0.1957 - val_sensitivity: 0.0000e+00 - val_specificity: 0.0870\n",
      "Epoch 5/20\n",
      "19/19 [==============================] - 2s 119ms/step - loss: 0.5321 - acc: 0.8000 - auc: 0.7625 - sensitivity: 0.8571 - specificity: 0.7973 - val_loss: 0.5258 - val_acc: 0.9583 - val_auc: 0.0652 - val_sensitivity: 0.0000e+00 - val_specificity: 0.0000e+00\n",
      "Epoch 6/20\n",
      "19/19 [==============================] - 2s 108ms/step - loss: 0.5202 - acc: 0.8105 - auc: 0.7680 - sensitivity: 0.9048 - specificity: 0.8784 - val_loss: 0.4737 - val_acc: 0.9583 - val_auc: 0.1739 - val_sensitivity: 0.0000e+00 - val_specificity: 0.0870\n",
      "Epoch 7/20\n",
      "19/19 [==============================] - 2s 103ms/step - loss: 0.5280 - acc: 0.8105 - auc: 0.7210 - sensitivity: 0.7619 - specificity: 0.9189 - val_loss: 0.4844 - val_acc: 0.9583 - val_auc: 0.0652 - val_sensitivity: 0.0000e+00 - val_specificity: 0.0000e+00\n",
      "Epoch 8/20\n",
      "19/19 [==============================] - 2s 106ms/step - loss: 0.4985 - acc: 0.8000 - auc: 0.7970 - sensitivity: 0.8095 - specificity: 0.9054 - val_loss: 0.5225 - val_acc: 0.9583 - val_auc: 0.0870 - val_sensitivity: 0.0000e+00 - val_specificity: 0.0435\n",
      "Epoch 9/20\n",
      "19/19 [==============================] - 2s 106ms/step - loss: 0.4732 - acc: 0.8316 - auc: 0.8488 - sensitivity: 0.9524 - specificity: 0.9459 - val_loss: 0.4731 - val_acc: 0.9583 - val_auc: 0.1304 - val_sensitivity: 0.0000e+00 - val_specificity: 0.1304\n",
      "Epoch 10/20\n",
      "19/19 [==============================] - 2s 103ms/step - loss: 0.4733 - acc: 0.8316 - auc: 0.8218 - sensitivity: 0.9048 - specificity: 0.8784 - val_loss: 0.4359 - val_acc: 0.9583 - val_auc: 0.0652 - val_sensitivity: 0.0000e+00 - val_specificity: 0.0000e+00\n",
      "Epoch 11/20\n",
      "19/19 [==============================] - 2s 104ms/step - loss: 0.4855 - acc: 0.8421 - auc: 0.7979 - sensitivity: 0.8571 - specificity: 0.9054 - val_loss: 0.5391 - val_acc: 0.9583 - val_auc: 0.1087 - val_sensitivity: 0.0000e+00 - val_specificity: 0.0870\n",
      "Epoch 12/20\n",
      "19/19 [==============================] - 2s 102ms/step - loss: 0.4396 - acc: 0.8737 - auc: 0.9141 - sensitivity: 0.9524 - specificity: 0.9865 - val_loss: 0.4087 - val_acc: 0.9583 - val_auc: 0.1957 - val_sensitivity: 0.0000e+00 - val_specificity: 0.1304\n",
      "Epoch 13/20\n",
      "19/19 [==============================] - 2s 104ms/step - loss: 0.4556 - acc: 0.8211 - auc: 0.8588 - sensitivity: 0.9524 - specificity: 0.9324 - val_loss: 0.4540 - val_acc: 0.9583 - val_auc: 0.1304 - val_sensitivity: 0.0000e+00 - val_specificity: 0.1304\n",
      "Epoch 14/20\n",
      "19/19 [==============================] - 2s 107ms/step - loss: 0.4266 - acc: 0.8632 - auc: 0.9115 - sensitivity: 0.9524 - specificity: 0.9865 - val_loss: 0.4274 - val_acc: 0.9583 - val_auc: 0.1522 - val_sensitivity: 0.0000e+00 - val_specificity: 0.1304\n",
      "Epoch 15/20\n",
      "19/19 [==============================] - 2s 102ms/step - loss: 0.3954 - acc: 0.8737 - auc: 0.9360 - sensitivity: 0.9524 - specificity: 0.9730 - val_loss: 0.4847 - val_acc: 0.9583 - val_auc: 0.1304 - val_sensitivity: 0.0000e+00 - val_specificity: 0.1304\n",
      "Epoch 16/20\n",
      "19/19 [==============================] - 2s 106ms/step - loss: 0.3839 - acc: 0.9053 - auc: 0.9681 - sensitivity: 1.0000 - specificity: 1.0000 - val_loss: 0.4663 - val_acc: 0.9583 - val_auc: 0.1739 - val_sensitivity: 0.0000e+00 - val_specificity: 0.1739\n",
      "Epoch 17/20\n",
      "19/19 [==============================] - 2s 103ms/step - loss: 0.3829 - acc: 0.9053 - auc: 0.9151 - sensitivity: 0.9524 - specificity: 1.0000 - val_loss: 0.4419 - val_acc: 0.9583 - val_auc: 0.1739 - val_sensitivity: 0.0000e+00 - val_specificity: 0.1304\n",
      "Epoch 18/20\n",
      "19/19 [==============================] - 2s 102ms/step - loss: 0.3643 - acc: 0.9368 - auc: 0.9640 - sensitivity: 1.0000 - specificity: 1.0000 - val_loss: 0.5606 - val_acc: 0.9167 - val_auc: 0.1957 - val_sensitivity: 0.0000e+00 - val_specificity: 0.1739\n",
      "Epoch 19/20\n",
      "19/19 [==============================] - 2s 105ms/step - loss: 0.3642 - acc: 0.9053 - auc: 0.9292 - sensitivity: 0.9524 - specificity: 1.0000 - val_loss: 0.5803 - val_acc: 0.8333 - val_auc: 0.1304 - val_sensitivity: 0.0000e+00 - val_specificity: 0.1304\n",
      "Epoch 20/20\n",
      "19/19 [==============================] - 2s 98ms/step - loss: 0.3490 - acc: 0.9368 - auc: 0.9672 - sensitivity: 1.0000 - specificity: 1.0000 - val_loss: 0.6189 - val_acc: 0.6250 - val_auc: 0.1304 - val_sensitivity: 0.0000e+00 - val_specificity: 0.1304\n",
      "val:\n",
      " [[15  1]\n",
      " [ 8  0]]\n",
      "t1a score: 0.6086956521739131\n",
      "Epoch 1/20\n",
      "19/19 [==============================] - 3s 121ms/step - loss: 0.6188 - acc: 0.7684 - auc: 0.3825 - sensitivity: 0.2500 - specificity: 0.3924 - val_loss: 0.6612 - val_acc: 0.7500 - val_auc: 0.4491 - val_sensitivity: 0.0000e+00 - val_specificity: 0.3889\n",
      "Epoch 2/20\n",
      "19/19 [==============================] - 2s 101ms/step - loss: 0.5551 - acc: 0.8316 - auc: 0.4676 - sensitivity: 0.3750 - specificity: 0.4810 - val_loss: 0.6144 - val_acc: 0.7500 - val_auc: 0.4028 - val_sensitivity: 0.1667 - val_specificity: 0.2222\n",
      "Epoch 3/20\n",
      "19/19 [==============================] - 2s 100ms/step - loss: 0.5223 - acc: 0.8316 - auc: 0.5487 - sensitivity: 0.6250 - specificity: 0.6203 - val_loss: 0.5854 - val_acc: 0.7500 - val_auc: 0.4213 - val_sensitivity: 0.0000e+00 - val_specificity: 0.3889\n",
      "Epoch 4/20\n",
      "19/19 [==============================] - 2s 103ms/step - loss: 0.5046 - acc: 0.8316 - auc: 0.6183 - sensitivity: 0.7500 - specificity: 0.7089 - val_loss: 0.5705 - val_acc: 0.7500 - val_auc: 0.4630 - val_sensitivity: 0.5000 - val_specificity: 0.6111\n",
      "Epoch 5/20\n",
      "19/19 [==============================] - 2s 101ms/step - loss: 0.4994 - acc: 0.8316 - auc: 0.5162 - sensitivity: 0.5625 - specificity: 0.5696 - val_loss: 0.5668 - val_acc: 0.7500 - val_auc: 0.3519 - val_sensitivity: 0.1667 - val_specificity: 0.1667\n",
      "Epoch 6/20\n",
      "19/19 [==============================] - 2s 99ms/step - loss: 0.4741 - acc: 0.8316 - auc: 0.6013 - sensitivity: 0.5625 - specificity: 0.6709 - val_loss: 0.5695 - val_acc: 0.7500 - val_auc: 0.3657 - val_sensitivity: 0.3333 - val_specificity: 0.1667\n",
      "Epoch 7/20\n",
      "19/19 [==============================] - 2s 102ms/step - loss: 0.4527 - acc: 0.8316 - auc: 0.7334 - sensitivity: 0.8750 - specificity: 0.7722 - val_loss: 0.5699 - val_acc: 0.7500 - val_auc: 0.4815 - val_sensitivity: 0.3333 - val_specificity: 0.4444\n",
      "Epoch 8/20\n",
      "19/19 [==============================] - 2s 102ms/step - loss: 0.4648 - acc: 0.8316 - auc: 0.6835 - sensitivity: 0.8125 - specificity: 0.8354 - val_loss: 0.5692 - val_acc: 0.7500 - val_auc: 0.4444 - val_sensitivity: 0.3333 - val_specificity: 0.3333\n",
      "Epoch 9/20\n",
      "19/19 [==============================] - 2s 100ms/step - loss: 0.4508 - acc: 0.8316 - auc: 0.6911 - sensitivity: 0.6875 - specificity: 0.7975 - val_loss: 0.5737 - val_acc: 0.7500 - val_auc: 0.4352 - val_sensitivity: 0.3333 - val_specificity: 0.3333\n",
      "Epoch 10/20\n",
      "19/19 [==============================] - 2s 100ms/step - loss: 0.4537 - acc: 0.8421 - auc: 0.6499 - sensitivity: 0.5625 - specificity: 0.8861 - val_loss: 0.5815 - val_acc: 0.7500 - val_auc: 0.3796 - val_sensitivity: 0.3333 - val_specificity: 0.2778\n",
      "Epoch 11/20\n",
      "19/19 [==============================] - 2s 101ms/step - loss: 0.4239 - acc: 0.8316 - auc: 0.7892 - sensitivity: 0.9375 - specificity: 0.8228 - val_loss: 0.5777 - val_acc: 0.7500 - val_auc: 0.4352 - val_sensitivity: 0.3333 - val_specificity: 0.3333\n",
      "Epoch 12/20\n",
      "19/19 [==============================] - 2s 100ms/step - loss: 0.4460 - acc: 0.8421 - auc: 0.6685 - sensitivity: 0.6250 - specificity: 0.8734 - val_loss: 0.5899 - val_acc: 0.7500 - val_auc: 0.4074 - val_sensitivity: 0.3333 - val_specificity: 0.3889\n",
      "Epoch 13/20\n",
      "19/19 [==============================] - 2s 100ms/step - loss: 0.4075 - acc: 0.8421 - auc: 0.8228 - sensitivity: 0.8750 - specificity: 1.0000 - val_loss: 0.6120 - val_acc: 0.7500 - val_auc: 0.3704 - val_sensitivity: 0.3333 - val_specificity: 0.2222\n",
      "Epoch 14/20\n",
      "19/19 [==============================] - 2s 102ms/step - loss: 0.3676 - acc: 0.8737 - auc: 0.9272 - sensitivity: 0.9375 - specificity: 1.0000 - val_loss: 0.5917 - val_acc: 0.7500 - val_auc: 0.3704 - val_sensitivity: 0.3333 - val_specificity: 0.3889\n",
      "Epoch 15/20\n",
      "19/19 [==============================] - 2s 102ms/step - loss: 0.3616 - acc: 0.8632 - auc: 0.9229 - sensitivity: 0.9375 - specificity: 0.9873 - val_loss: 0.6061 - val_acc: 0.7500 - val_auc: 0.3519 - val_sensitivity: 0.3333 - val_specificity: 0.2222\n",
      "Epoch 16/20\n",
      "19/19 [==============================] - 2s 102ms/step - loss: 0.3675 - acc: 0.8842 - auc: 0.8920 - sensitivity: 0.9375 - specificity: 1.0000 - val_loss: 0.6344 - val_acc: 0.7500 - val_auc: 0.3241 - val_sensitivity: 0.3333 - val_specificity: 0.2222\n",
      "Epoch 17/20\n",
      "19/19 [==============================] - 2s 100ms/step - loss: 0.3745 - acc: 0.8737 - auc: 0.8596 - sensitivity: 0.9375 - specificity: 0.9620 - val_loss: 0.6370 - val_acc: 0.7500 - val_auc: 0.3287 - val_sensitivity: 0.3333 - val_specificity: 0.2222\n",
      "Epoch 18/20\n",
      "19/19 [==============================] - 2s 102ms/step - loss: 0.3168 - acc: 0.8947 - auc: 0.9838 - sensitivity: 1.0000 - specificity: 1.0000 - val_loss: 0.6765 - val_acc: 0.7500 - val_auc: 0.3565 - val_sensitivity: 0.3333 - val_specificity: 0.2778\n",
      "Epoch 19/20\n",
      "19/19 [==============================] - 2s 104ms/step - loss: 0.2921 - acc: 0.9263 - auc: 0.9842 - sensitivity: 1.0000 - specificity: 1.0000 - val_loss: 0.6762 - val_acc: 0.7500 - val_auc: 0.3333 - val_sensitivity: 0.3333 - val_specificity: 0.2222\n",
      "Epoch 20/20\n",
      "19/19 [==============================] - 2s 106ms/step - loss: 0.3220 - acc: 0.8842 - auc: 0.9422 - sensitivity: 0.9375 - specificity: 1.0000 - val_loss: 0.6781 - val_acc: 0.7500 - val_auc: 0.1667 - val_sensitivity: 0.0000e+00 - val_specificity: 0.0556\n",
      "val:\n",
      " [[18  6]\n",
      " [ 0  0]]\n",
      "t1a score: 0.85\n",
      "Epoch 1/20\n",
      "20/20 [==============================] - 28s 118ms/step - loss: 0.6437 - acc: 0.7292 - auc: 0.4789 - sensitivity: 0.3750 - specificity: 0.4000 - val_loss: 0.6702 - val_acc: 0.7391 - val_auc: 0.5147 - val_sensitivity: 0.5000 - val_specificity: 0.7059\n",
      "Epoch 2/20\n",
      "20/20 [==============================] - 2s 99ms/step - loss: 0.5671 - acc: 0.8333 - auc: 0.5516 - sensitivity: 0.5000 - specificity: 0.5875 - val_loss: 0.6371 - val_acc: 0.7391 - val_auc: 0.5441 - val_sensitivity: 0.5000 - val_specificity: 0.5882\n",
      "Epoch 3/20\n",
      "20/20 [==============================] - 2s 98ms/step - loss: 0.5278 - acc: 0.8333 - auc: 0.5352 - sensitivity: 0.4375 - specificity: 0.4375 - val_loss: 0.6117 - val_acc: 0.7391 - val_auc: 0.5196 - val_sensitivity: 0.5000 - val_specificity: 0.5882\n",
      "Epoch 4/20\n",
      "20/20 [==============================] - 2s 99ms/step - loss: 0.5093 - acc: 0.8333 - auc: 0.6539 - sensitivity: 0.6250 - specificity: 0.6750 - val_loss: 0.5980 - val_acc: 0.7391 - val_auc: 0.4853 - val_sensitivity: 0.5000 - val_specificity: 0.5294\n",
      "Epoch 5/20\n",
      "20/20 [==============================] - 2s 97ms/step - loss: 0.4855 - acc: 0.8333 - auc: 0.6836 - sensitivity: 0.6250 - specificity: 0.8875 - val_loss: 0.5929 - val_acc: 0.7391 - val_auc: 0.5000 - val_sensitivity: 0.5000 - val_specificity: 0.6471\n",
      "Epoch 6/20\n",
      "20/20 [==============================] - 2s 97ms/step - loss: 0.4700 - acc: 0.8333 - auc: 0.7367 - sensitivity: 0.7500 - specificity: 0.8000 - val_loss: 0.5869 - val_acc: 0.7391 - val_auc: 0.5147 - val_sensitivity: 0.5000 - val_specificity: 0.5882\n",
      "Epoch 7/20\n",
      "20/20 [==============================] - 2s 95ms/step - loss: 0.4674 - acc: 0.8333 - auc: 0.7152 - sensitivity: 0.7500 - specificity: 0.8250 - val_loss: 0.5839 - val_acc: 0.7391 - val_auc: 0.5294 - val_sensitivity: 0.5000 - val_specificity: 0.5882\n",
      "Epoch 8/20\n",
      "20/20 [==============================] - 2s 96ms/step - loss: 0.4432 - acc: 0.8438 - auc: 0.8332 - sensitivity: 0.9375 - specificity: 0.8500 - val_loss: 0.5837 - val_acc: 0.7391 - val_auc: 0.4804 - val_sensitivity: 0.5000 - val_specificity: 0.6471\n",
      "Epoch 9/20\n",
      "20/20 [==============================] - 2s 98ms/step - loss: 0.4439 - acc: 0.8333 - auc: 0.7613 - sensitivity: 0.7500 - specificity: 0.9750 - val_loss: 0.5853 - val_acc: 0.7391 - val_auc: 0.4951 - val_sensitivity: 0.5000 - val_specificity: 0.6471\n",
      "Epoch 10/20\n",
      "20/20 [==============================] - 2s 96ms/step - loss: 0.4453 - acc: 0.8438 - auc: 0.7285 - sensitivity: 0.8125 - specificity: 0.8125 - val_loss: 0.5814 - val_acc: 0.7391 - val_auc: 0.5000 - val_sensitivity: 0.5000 - val_specificity: 0.5882\n",
      "Epoch 11/20\n",
      "20/20 [==============================] - 2s 99ms/step - loss: 0.4261 - acc: 0.8333 - auc: 0.7871 - sensitivity: 0.9375 - specificity: 0.8375 - val_loss: 0.5833 - val_acc: 0.7391 - val_auc: 0.4853 - val_sensitivity: 0.5000 - val_specificity: 0.5294\n",
      "Epoch 12/20\n",
      "20/20 [==============================] - 2s 100ms/step - loss: 0.4133 - acc: 0.8958 - auc: 0.7937 - sensitivity: 0.8750 - specificity: 0.8500 - val_loss: 0.5852 - val_acc: 0.7391 - val_auc: 0.4902 - val_sensitivity: 0.3333 - val_specificity: 0.4706\n",
      "Epoch 13/20\n",
      "20/20 [==============================] - 2s 96ms/step - loss: 0.3823 - acc: 0.8750 - auc: 0.8793 - sensitivity: 0.9375 - specificity: 0.9750 - val_loss: 0.5804 - val_acc: 0.7391 - val_auc: 0.4804 - val_sensitivity: 0.5000 - val_specificity: 0.5294\n",
      "Epoch 14/20\n",
      "20/20 [==============================] - 2s 95ms/step - loss: 0.4020 - acc: 0.8542 - auc: 0.7930 - sensitivity: 1.0000 - specificity: 0.8125 - val_loss: 0.6021 - val_acc: 0.7391 - val_auc: 0.4167 - val_sensitivity: 0.3333 - val_specificity: 0.4706\n",
      "Epoch 15/20\n",
      "20/20 [==============================] - 2s 96ms/step - loss: 0.3562 - acc: 0.8958 - auc: 0.9074 - sensitivity: 0.9375 - specificity: 1.0000 - val_loss: 0.5829 - val_acc: 0.7391 - val_auc: 0.4510 - val_sensitivity: 0.3333 - val_specificity: 0.2941\n",
      "Epoch 16/20\n",
      "20/20 [==============================] - 2s 100ms/step - loss: 0.3423 - acc: 0.8750 - auc: 0.9301 - sensitivity: 1.0000 - specificity: 0.9875 - val_loss: 0.5785 - val_acc: 0.7391 - val_auc: 0.4706 - val_sensitivity: 0.3333 - val_specificity: 0.2941\n",
      "Epoch 17/20\n",
      "20/20 [==============================] - 2s 99ms/step - loss: 0.3387 - acc: 0.9167 - auc: 0.9086 - sensitivity: 0.9375 - specificity: 1.0000 - val_loss: 0.5792 - val_acc: 0.7391 - val_auc: 0.4461 - val_sensitivity: 0.3333 - val_specificity: 0.2941\n",
      "Epoch 18/20\n",
      "20/20 [==============================] - 2s 98ms/step - loss: 0.3593 - acc: 0.8854 - auc: 0.9176 - sensitivity: 1.0000 - specificity: 0.9625 - val_loss: 0.5797 - val_acc: 0.7391 - val_auc: 0.4363 - val_sensitivity: 0.3333 - val_specificity: 0.4706\n",
      "Epoch 19/20\n",
      "20/20 [==============================] - 2s 100ms/step - loss: 0.3535 - acc: 0.9062 - auc: 0.8680 - sensitivity: 0.8750 - specificity: 1.0000 - val_loss: 0.5856 - val_acc: 0.7391 - val_auc: 0.4706 - val_sensitivity: 0.5000 - val_specificity: 0.5294\n",
      "Epoch 20/20\n",
      "20/20 [==============================] - 2s 99ms/step - loss: 0.3069 - acc: 0.8958 - auc: 0.9773 - sensitivity: 1.0000 - specificity: 1.0000 - val_loss: 0.5926 - val_acc: 0.7391 - val_auc: 0.4363 - val_sensitivity: 0.5000 - val_specificity: 0.6471\n",
      "val:\n",
      " [[17  6]\n",
      " [ 0  0]]\n",
      "t1a score: 0.7272727272727273\n"
     ]
    }
   ],
   "source": [
    "from sklearn.model_selection import KFold\n",
    "from sklearn.metrics import accuracy_score, auc, confusion_matrix, roc_curve\n",
    "\n",
    "n_split=5\n",
    "fold_history = []\n",
    "t1a_val_acc = []\n",
    "val_con = []\n",
    "t1a_val_con = []\n",
    "t1a_auc = []\n",
    "\n",
    "for train_index, test_index in KFold(n_split).split(ct_grade): # t1a_exp_data\n",
    "    x_train, x_val = ct_grade[train_index], ct_grade[test_index]\n",
    "    y_train, y_val = label_grade.loc[train_index], label_grade.loc[test_index]\n",
    "    # y_train, y_val = label_benign.loc[train_index], label_benign.loc[test_index]\n",
    "\n",
    "    y_val.index = range(len(y_val))\n",
    "    t1a_val_label = y_val[y_val['stage'] == '1a']\n",
    "    t1a_val_data = x_val[t1a_val_label.index]\n",
    "    y_train, y_val = y_train['grade'], y_val['grade']\n",
    "    # y_train, y_val = y_train['malignant'], y_val['malignant'] \n",
    "\n",
    "    # t1a v.s benign\n",
    "    # x_train, x_val = t1a_exp_data[train_index], t1a_exp_data[test_index]\n",
    "    # y_train, y_val = t1a_exp_label.loc[train_index, 'malignant'], t1a_exp_label.loc[test_index, 'malignant']\n",
    "\n",
    "    x_train = x_train.astype('float32')\n",
    "    x_val = x_val.astype('float32')\n",
    "    y_train = np.asarray(y_train).astype('float32')\n",
    "    y_val = np.asarray(y_val).astype('float32')\n",
    "\n",
    "    # Define data loaders.\n",
    "    train_loader = tf.data.Dataset.from_tensor_slices((x_train, y_train))\n",
    "    validation_loader = tf.data.Dataset.from_tensor_slices((x_val, y_val))\n",
    "\n",
    "    batch_size = 5\n",
    "    # Augment the on the fly during training.\n",
    "    train_dataset = (\n",
    "        train_loader.shuffle(len(x_train))\n",
    "        .batch(batch_size)\n",
    "        .prefetch(2)\n",
    "    )\n",
    "    # Only rescale.\n",
    "    validation_dataset = (\n",
    "        validation_loader.shuffle(len(x_val))\n",
    "        .batch(batch_size)\n",
    "        .prefetch(2)\n",
    "    )\n",
    "\n",
    "    # Compile model.\n",
    "    initial_learning_rate = 0.0001\n",
    "    lr_schedule = keras.optimizers.schedules.ExponentialDecay(\n",
    "        initial_learning_rate, decay_steps=100000, decay_rate=0.96, staircase=True\n",
    "    )\n",
    "\n",
    "    model=get_model()\n",
    "    model.compile(\n",
    "        loss=\"binary_crossentropy\",\n",
    "        optimizer=keras.optimizers.Adam(learning_rate=lr_schedule),\n",
    "        # tf.keras.metrics.TrueNegatives(), tf.keras.metrics.TruePositives(), tf.keras.metrics.FalseNegatives(), tf.keras.metrics.FalsePositives()\n",
    "        metrics=[ \"acc\", tf.keras.metrics.AUC(name='auc'), tf.keras.metrics.SensitivityAtSpecificity(0.5, name='sensitivity'),tf.keras.metrics.SpecificityAtSensitivity(0.5, name='specificity')],\n",
    "    )\n",
    "\n",
    "    model.fit(\n",
    "        train_dataset,\n",
    "        validation_data=validation_dataset,\n",
    "        epochs=20)\n",
    "\n",
    "    # print('Model evaluation ', model.evaluate(x_val, y_val))\n",
    "\n",
    "    fold_history.append(model.history.history)\n",
    "\n",
    "    # t1a acc\n",
    "    # result = model.predict(t1a_val_data, batch_size=5)\n",
    "    result = model.predict(x_val, batch_size=5)\n",
    "\n",
    "    result[result > 0.5] = 1\n",
    "    result[result < 0.5] = 0\n",
    "    \n",
    "    print('val:\\n', confusion_matrix(result, y_val))\n",
    "    val_con.append(confusion_matrix(result, y_val))\n",
    "\n",
    "    result = model.predict(t1a_val_data, batch_size=5)\n",
    "\n",
    "    result[result > 0.5] = 1\n",
    "    result[result < 0.5] = 0\n",
    "\n",
    "    # Grade\n",
    "    print('t1a score:', accuracy_score(t1a_val_label['grade'], result))\n",
    "    t1a_val_acc.append(accuracy_score(t1a_val_label['grade'], result))\n",
    "    t1a_val_con.append(confusion_matrix(t1a_val_label['grade'], result))\n",
    "\n",
    "    fpr, tpr, thresholds = roc_curve(t1a_val_label['grade'], result)\n",
    "    t1a_auc.append(auc(fpr, tpr))\n",
    "    \n",
    "    # Benign\n",
    "    # print('t1a score:', accuracy_score(t1a_val_label['malignant'], result))\n",
    "    # t1a_val_acc.append(accuracy_score(t1a_val_label['malignant'], result))\n",
    "    # t1a_val_con.append(confusion_matrix(t1a_val_label['malignant'], result))\n",
    "\n",
    "    # fpr, tpr, thresholds = roc_curve(t1a_val_label['malignant'], result)\n",
    "    # t1a_auc.append(auc(fpr, tpr))\n"
   ]
  },
  {
   "cell_type": "code",
   "execution_count": 83,
   "metadata": {},
   "outputs": [
    {
     "name": "stdout",
     "output_type": "stream",
     "text": [
      "acc: 0.7735573122529644\n",
      "auc: 0.4636363636363637\n"
     ]
    }
   ],
   "source": [
    "print('acc:', sum(t1a_val_acc) / 5)\n",
    "print('auc:', sum(t1a_auc) / 5)"
   ]
  },
  {
   "cell_type": "code",
   "execution_count": 84,
   "metadata": {},
   "outputs": [
    {
     "data": {
      "image/png": "[encoded data removed]",
      "text/plain": [
       "<Figure size 2000x300 with 3 Axes>"
      ]
     },
     "metadata": {},
     "output_type": "display_data"
    }
   ],
   "source": [
    "avg = {}\n",
    "for metric in [\"acc\", \"loss\", 'auc']:\n",
    "    avg[metric] = [sum(value) / 5 for value in zip(fold_history[0][metric], fold_history[1][metric], fold_history[2][metric], fold_history[3][metric], fold_history[4][metric])]\n",
    "    avg['val_' + metric] = [sum(value) / 5 for value in zip(fold_history[0]['val_' + metric], fold_history[1]['val_' + metric], fold_history[2]['val_' + metric], fold_history[3]['val_' + metric], fold_history[4]['val_' + metric])]\n",
    "\n",
    "fig, ax = plt.subplots(1, 3, figsize=(20, 3))\n",
    "ax = ax.ravel()\n",
    "\n",
    "for i, metric in enumerate([\"acc\", \"loss\", 'auc']):\n",
    "    ax[i].plot(avg[metric])\n",
    "    ax[i].plot(avg[\"val_\" + metric])\n",
    "    ax[i].set_title(\"Model {}\".format(metric))\n",
    "    ax[i].set_xlabel(\"epochs\")\n",
    "    ax[i].set_ylabel(metric)\n",
    "    ax[i].legend([\"train\", \"val\"])\n"
   ]
  },
  {
   "cell_type": "code",
   "execution_count": 85,
   "metadata": {},
   "outputs": [
    {
     "name": "stdout",
     "output_type": "stream",
     "text": [
      "acc: 0.8214035153388977\n",
      "loss: 0.545636510848999\n",
      "auc: 0.5994921922683716\n",
      "val_acc: 0.8144927501678467\n",
      "val_loss: 0.5976354360580445\n",
      "val_auc: 0.4393655717372894\n"
     ]
    }
   ],
   "source": [
    "max_auc_idx = np.argmax(avg['val_auc'])\n",
    "\n",
    "print('acc:', avg['acc'][max_auc_idx])\n",
    "print('loss:', avg['loss'][max_auc_idx])\n",
    "print('auc:', avg['auc'][max_auc_idx])\n",
    "print('val_acc:', avg['val_acc'][max_auc_idx])\n",
    "print('val_loss:', avg['val_loss'][max_auc_idx])\n",
    "print('val_auc:', avg['val_auc'][max_auc_idx])"
   ]
  },
  {
   "cell_type": "code",
   "execution_count": 86,
   "metadata": {},
   "outputs": [
    {
     "name": "stdout",
     "output_type": "stream",
     "text": [
      "Confusion Matric(val): \n",
      " [[89 22]\n",
      " [ 8  0]]\n",
      "--------------------\n",
      "Confusion Matric(t1a val): \n",
      " [[84  8]\n",
      " [17  0]]\n"
     ]
    }
   ],
   "source": [
    "val_con_result = val_con[0]\n",
    "for i in range(1, 5):\n",
    "    val_con_result[0][0] += val_con[i][0][0]\n",
    "    val_con_result[0][1] += val_con[i][0][1]\n",
    "    val_con_result[1][0] += val_con[i][1][0]\n",
    "    val_con_result[1][1] += val_con[i][1][1]\n",
    "\n",
    "print('Confusion Matric(val): \\n', val_con_result)\n",
    "print('-' * 20)\n",
    "t1a_val_result = t1a_val_con[0]\n",
    "for i in range(1, 5):\n",
    "    t1a_val_result[0][0] += t1a_val_con[i][0][0]\n",
    "    t1a_val_result[0][1] += t1a_val_con[i][0][1]\n",
    "    t1a_val_result[1][0] += t1a_val_con[i][1][0]\n",
    "    t1a_val_result[1][1] += t1a_val_con[i][1][1]\n",
    "\n",
    "print('Confusion Matric(t1a val): \\n', t1a_val_result)\n"
   ]
  },
  {
   "cell_type": "code",
   "execution_count": 87,
   "metadata": {},
   "outputs": [
    {
     "data": {
      "text/plain": [
       "[array([[84,  8],\n",
       "        [17,  0]], dtype=int64),\n",
       " array([[17,  0],\n",
       "        [ 5,  0]], dtype=int64),\n",
       " array([[14,  8],\n",
       "        [ 1,  0]], dtype=int64),\n",
       " array([[17,  0],\n",
       "        [ 3,  0]], dtype=int64),\n",
       " array([[16,  0],\n",
       "        [ 6,  0]], dtype=int64)]"
      ]
     },
     "execution_count": 87,
     "metadata": {},
     "output_type": "execute_result"
    }
   ],
   "source": [
    "t1a_val_con"
   ]
  },
  {
   "cell_type": "code",
   "execution_count": null,
   "metadata": {},
   "outputs": [],
   "source": []
  }
 ],
 "metadata": {
  "kernelspec": {
   "display_name": "Python 3.9.13 ('tf-gpu')",
   "language": "python",
   "name": "python3"
  },
  "language_info": {
   "codemirror_mode": {
    "name": "ipython",
    "version": 3
   },
   "file_extension": ".py",
   "mimetype": "text/x-python",
   "name": "python",
   "nbconvert_exporter": "python",
   "pygments_lexer": "ipython3",
   "version": "3.9.13"
  },
  "orig_nbformat": 4,
  "vscode": {
   "interpreter": {
    "hash": "ea397cec91cadfeba1f637b1e229fc5613e21e348c4b388b4145c8bc2692c566"
   }
  }
 },
 "nbformat": 4,
 "nbformat_minor": 2
}
