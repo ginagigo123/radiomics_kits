{
 "cells": [
  {
   "cell_type": "code",
   "execution_count": 2,
   "id": "98fd244c",
   "metadata": {},
   "outputs": [],
   "source": [
    "import json\n",
    "import pandas as pd\n",
    "from sklearn import ensemble, preprocessing, metrics\n",
    "from sklearn.model_selection  import train_test_split\n",
    "from sklearn.pipeline import make_pipeline\n",
    "from sklearn.preprocessing import StandardScaler\n",
    "from sklearn.svm import SVC\n",
    "from sklearn.metrics import confusion_matrix, roc_auc_score\n",
    "\n",
    "import matplotlib.pyplot as plt\n",
    "import seaborn as sns\n",
    "\n",
    "from sklearn.model_selection import GridSearchCV\n",
    "from sklearn.preprocessing import LabelEncoder"
   ]
  },
  {
   "cell_type": "code",
   "execution_count": 3,
   "id": "fb32f566",
   "metadata": {},
   "outputs": [
    {
     "name": "stdout",
     "output_type": "stream",
     "text": [
      "{'clear_cell_rcc': 204, 'urothelial': 3, 'mest': 3, 'other': 1, 'spindle_cell_neoplasm': 1, 'collecting_duct_undefined': 1, 'multilocular_cystic_rcc': 1, 'chromophobe': 27, 'oncocytoma': 16, 'rcc_unclassified': 2, 'papillary': 28, 'wilms': 1, 'angiomyolipoma': 5, 'clear_cell_papillary_rcc': 7}\n",
      "--------------------\n",
      "{'3': 70, '1b': 59, '4': 5, '2a': 15, '0': 25, '1a': 121, '2b': 5}\n",
      "--------------------\n",
      "{1: 33, 2: 119, 3: 66, 4: 26, None: 56}\n",
      "--------------------\n",
      "{False: 25, True: 275}\n"
     ]
    },
    {
     "data": {
      "text/plain": [
       "{False: 25, True: 275}"
      ]
     },
     "execution_count": 3,
     "metadata": {},
     "output_type": "execute_result"
    }
   ],
   "source": [
    "# import label data\n",
    "with open('C:\\\\Users\\\\Gina\\\\Lab\\\\kidney\\\\kits21\\\\kits21\\\\data\\\\kits.json') as f:\n",
    "    data = json.load(f)\n",
    "\n",
    "def print_count(data, col_name):\n",
    "    _type = [ case[col_name] for case in data ]\n",
    "    _count = {}\n",
    "    for label in set(_type):\n",
    "        _count[label] = _type.count(label)\n",
    "        \n",
    "    print(_count)\n",
    "    return _count\n",
    "\n",
    "tumor_count = print_count(data, 'tumor_histologic_subtype')\n",
    "print('-' * 20)\n",
    "print_count(data, 'pathology_t_stage')\n",
    "print('-' * 20)\n",
    "print_count(data, 'tumor_isup_grade')\n",
    "print('-' * 20)\n",
    "print_count(data, 'malignant')"
   ]
  },
  {
   "cell_type": "code",
   "execution_count": 4,
   "id": "678ef369",
   "metadata": {},
   "outputs": [],
   "source": [
    "kits_data = pd.DataFrame(data)"
   ]
  },
  {
   "cell_type": "code",
   "execution_count": 5,
   "id": "81505129",
   "metadata": {},
   "outputs": [
    {
     "data": {
      "text/plain": [
       "malignant  tumor_histologic_subtype \n",
       "False      angiomyolipoma                 5\n",
       "           mest                           3\n",
       "           oncocytoma                    16\n",
       "           spindle_cell_neoplasm          1\n",
       "True       chromophobe                   27\n",
       "           clear_cell_papillary_rcc       7\n",
       "           clear_cell_rcc               204\n",
       "           collecting_duct_undefined      1\n",
       "           multilocular_cystic_rcc        1\n",
       "           other                          1\n",
       "           papillary                     28\n",
       "           rcc_unclassified               2\n",
       "           urothelial                     3\n",
       "           wilms                          1\n",
       "dtype: int64"
      ]
     },
     "execution_count": 5,
     "metadata": {},
     "output_type": "execute_result"
    }
   ],
   "source": [
    "kits_data.groupby(['malignant', 'tumor_histologic_subtype']).size()"
   ]
  },
  {
   "cell_type": "code",
   "execution_count": 6,
   "id": "894c8288",
   "metadata": {},
   "outputs": [
    {
     "data": {
      "text/plain": [
       "malignant  pathology_t_stage\n",
       "False      0                     25\n",
       "True       1a                   121\n",
       "           1b                    59\n",
       "           2a                    15\n",
       "           2b                     5\n",
       "           3                     70\n",
       "           4                      5\n",
       "dtype: int64"
      ]
     },
     "execution_count": 6,
     "metadata": {},
     "output_type": "execute_result"
    }
   ],
   "source": [
    "kits_data.groupby(['malignant', 'pathology_t_stage']).size()"
   ]
  },
  {
   "cell_type": "code",
   "execution_count": 7,
   "id": "710847fc",
   "metadata": {},
   "outputs": [
    {
     "data": {
      "text/plain": [
       "tumor_isup_grade  pathology_t_stage\n",
       "1.0               1a                   24\n",
       "                  1b                    7\n",
       "                  2a                    1\n",
       "                  3                     1\n",
       "2.0               1a                   71\n",
       "                  1b                   28\n",
       "                  2a                    4\n",
       "                  2b                    2\n",
       "                  3                    14\n",
       "3.0               1a                   16\n",
       "                  1b                   14\n",
       "                  2a                    2\n",
       "                  2b                    1\n",
       "                  3                    33\n",
       "4.0               1a                    1\n",
       "                  1b                    4\n",
       "                  2a                    4\n",
       "                  3                    13\n",
       "                  4                     4\n",
       "dtype: int64"
      ]
     },
     "execution_count": 7,
     "metadata": {},
     "output_type": "execute_result"
    }
   ],
   "source": [
    "kits_data.groupby(['tumor_isup_grade', 'pathology_t_stage']).size()"
   ]
  },
  {
   "cell_type": "code",
   "execution_count": 6,
   "id": "fde8cccd",
   "metadata": {},
   "outputs": [
    {
     "data": {
      "text/plain": [
       "dict_keys(['clear_cell_papillary_rcc', 'collecting_duct_undefined', 'oncocytoma', 'papillary', 'urothelial', 'angiomyolipoma', 'clear_cell_rcc', 'other', 'rcc_unclassified', 'multilocular_cystic_rcc', 'chromophobe', 'spindle_cell_neoplasm', 'mest', 'wilms'])"
      ]
     },
     "execution_count": 6,
     "metadata": {},
     "output_type": "execute_result"
    }
   ],
   "source": [
    "tumor_count.keys()"
   ]
  },
  {
   "cell_type": "code",
   "execution_count": 7,
   "id": "1cf72b89",
   "metadata": {},
   "outputs": [
    {
     "data": {
      "text/plain": [
       "Text(0, 0.5, 'Count')"
      ]
     },
     "execution_count": 7,
     "metadata": {},
     "output_type": "execute_result"
    },
    {
     "data": {
      "image/png": "[encoded data removed]",
      "text/plain": [
       "<Figure size 1008x576 with 1 Axes>"
      ]
     },
     "metadata": {
      "needs_background": "light"
     },
     "output_type": "display_data"
    }
   ],
   "source": [
    "# Print the label distribution\n",
    "ax = kits_data['tumor_histologic_subtype'].value_counts().plot(kind='bar',\n",
    "                                           figsize=(14,8),\n",
    "                                           title=\"Number of Label\")\n",
    "ax.set_xlabel(\"Label\")\n",
    "ax.set_ylabel(\"Count\")"
   ]
  },
  {
   "cell_type": "code",
   "execution_count": 8,
   "id": "22012c09",
   "metadata": {},
   "outputs": [],
   "source": [
    "df = pd.read_csv(\"C:\\\\Users\\\\Gina\\\\Lab\\\\kidney\\\\radiomics\\\\result\\\\299_radiomics_feature.csv\", index_col=0)\n",
    "\n",
    "# drop useless columns\n",
    "df = df.iloc[:, 37:]"
   ]
  },
  {
   "cell_type": "code",
   "execution_count": 9,
   "id": "4e77439a",
   "metadata": {},
   "outputs": [],
   "source": [
    "# drop uesless type data\n",
    "df['tumor_type'] = kits_data['tumor_histologic_subtype']\n",
    "df['malignant'] = kits_data['malignant']\n",
    "\n",
    "useless_type = ['rcc_unclassified',\n",
    "                'urothelial',\n",
    "                'mest',\n",
    "                'collecting_duct_undefined',\n",
    "                'oncocytoma',\n",
    "                'clear_cell_papillary_rcc', \n",
    "                'multilocular_cystic_rcc', \n",
    "                'other', 'wilms', \n",
    "                'angiomyolipoma', 'spindle_cell_neoplasm']\n",
    "\n",
    "for _type in useless_type:\n",
    "    df_remove = df.drop(df.loc[df['tumor_type'] == _type].index)"
   ]
  },
  {
   "cell_type": "code",
   "execution_count": 10,
   "id": "d34dc4d5",
   "metadata": {},
   "outputs": [
    {
     "name": "stdout",
     "output_type": "stream",
     "text": [
      "left data: 300\n"
     ]
    },
    {
     "data": {
      "image/png": "[encoded data removed]",
      "text/plain": [
       "<Figure size 1008x576 with 1 Axes>"
      ]
     },
     "metadata": {
      "needs_background": "light"
     },
     "output_type": "display_data"
    }
   ],
   "source": [
    "ax = df['malignant'].value_counts().plot(kind='bar',\n",
    "                                    figsize=(14,8),\n",
    "                                    title=\"Number of Label\")\n",
    "\n",
    "print('left data:', len(df))"
   ]
  },
  {
   "cell_type": "code",
   "execution_count": 11,
   "id": "8f7f3bd7",
   "metadata": {},
   "outputs": [],
   "source": [
    "label = df['malignant']\n",
    "df = df.drop(columns='malignant')\n",
    "df = df.drop(columns='tumor_type')\n",
    "\n",
    "train_X, test_X, train_y, test_y = train_test_split(df, label, test_size = 0.2)"
   ]
  },
  {
   "cell_type": "code",
   "execution_count": 12,
   "id": "bdb52748",
   "metadata": {},
   "outputs": [
    {
     "data": {
      "text/html": [
       "<div>\n",
       "<style scoped>\n",
       "    .dataframe tbody tr th:only-of-type {\n",
       "        vertical-align: middle;\n",
       "    }\n",
       "\n",
       "    .dataframe tbody tr th {\n",
       "        vertical-align: top;\n",
       "    }\n",
       "\n",
       "    .dataframe thead th {\n",
       "        text-align: right;\n",
       "    }\n",
       "</style>\n",
       "<table border=\"1\" class=\"dataframe\">\n",
       "  <thead>\n",
       "    <tr style=\"text-align: right;\">\n",
       "      <th></th>\n",
       "      <th>original_shape_Elongation</th>\n",
       "      <th>original_shape_Flatness</th>\n",
       "      <th>original_shape_LeastAxisLength</th>\n",
       "      <th>original_shape_MajorAxisLength</th>\n",
       "      <th>original_shape_Maximum2DDiameterColumn</th>\n",
       "      <th>original_shape_Maximum2DDiameterRow</th>\n",
       "      <th>original_shape_Maximum2DDiameterSlice</th>\n",
       "      <th>original_shape_Maximum3DDiameter</th>\n",
       "      <th>original_shape_MeshVolume</th>\n",
       "      <th>original_shape_MinorAxisLength</th>\n",
       "      <th>...</th>\n",
       "      <th>wavelet-LLL_gldm_LargeDependenceLowGrayLevelEmphasis</th>\n",
       "      <th>wavelet-LLL_gldm_LowGrayLevelEmphasis</th>\n",
       "      <th>wavelet-LLL_gldm_SmallDependenceEmphasis</th>\n",
       "      <th>wavelet-LLL_gldm_SmallDependenceHighGrayLevelEmphasis</th>\n",
       "      <th>wavelet-LLL_gldm_SmallDependenceLowGrayLevelEmphasis</th>\n",
       "      <th>wavelet-LLL_ngtdm_Busyness</th>\n",
       "      <th>wavelet-LLL_ngtdm_Coarseness</th>\n",
       "      <th>wavelet-LLL_ngtdm_Complexity</th>\n",
       "      <th>wavelet-LLL_ngtdm_Contrast</th>\n",
       "      <th>wavelet-LLL_ngtdm_Strength</th>\n",
       "    </tr>\n",
       "  </thead>\n",
       "  <tbody>\n",
       "    <tr>\n",
       "      <th>0</th>\n",
       "      <td>0.862742</td>\n",
       "      <td>0.760160</td>\n",
       "      <td>20.154583</td>\n",
       "      <td>26.513595</td>\n",
       "      <td>28.844410</td>\n",
       "      <td>28.017851</td>\n",
       "      <td>30.479501</td>\n",
       "      <td>31.511903</td>\n",
       "      <td>8412.125000</td>\n",
       "      <td>22.874397</td>\n",
       "      <td>...</td>\n",
       "      <td>0.056744</td>\n",
       "      <td>0.003653</td>\n",
       "      <td>0.243141</td>\n",
       "      <td>138.872941</td>\n",
       "      <td>0.001281</td>\n",
       "      <td>0.492637</td>\n",
       "      <td>0.002118</td>\n",
       "      <td>1332.393121</td>\n",
       "      <td>0.141763</td>\n",
       "      <td>1.236767</td>\n",
       "    </tr>\n",
       "    <tr>\n",
       "      <th>1</th>\n",
       "      <td>0.195262</td>\n",
       "      <td>0.155003</td>\n",
       "      <td>14.697807</td>\n",
       "      <td>94.822870</td>\n",
       "      <td>21.470911</td>\n",
       "      <td>25.942244</td>\n",
       "      <td>55.605755</td>\n",
       "      <td>67.253253</td>\n",
       "      <td>4448.916667</td>\n",
       "      <td>18.515323</td>\n",
       "      <td>...</td>\n",
       "      <td>0.178399</td>\n",
       "      <td>0.006561</td>\n",
       "      <td>0.147414</td>\n",
       "      <td>35.903653</td>\n",
       "      <td>0.001559</td>\n",
       "      <td>0.774044</td>\n",
       "      <td>0.002574</td>\n",
       "      <td>373.181512</td>\n",
       "      <td>0.041588</td>\n",
       "      <td>0.853819</td>\n",
       "    </tr>\n",
       "    <tr>\n",
       "      <th>2</th>\n",
       "      <td>0.891811</td>\n",
       "      <td>0.743956</td>\n",
       "      <td>31.774654</td>\n",
       "      <td>42.710380</td>\n",
       "      <td>47.169906</td>\n",
       "      <td>47.801674</td>\n",
       "      <td>47.127487</td>\n",
       "      <td>49.739320</td>\n",
       "      <td>36899.333333</td>\n",
       "      <td>38.089603</td>\n",
       "      <td>...</td>\n",
       "      <td>0.447999</td>\n",
       "      <td>0.008529</td>\n",
       "      <td>0.071891</td>\n",
       "      <td>14.242139</td>\n",
       "      <td>0.001250</td>\n",
       "      <td>4.385980</td>\n",
       "      <td>0.000390</td>\n",
       "      <td>405.355626</td>\n",
       "      <td>0.018624</td>\n",
       "      <td>0.224885</td>\n",
       "    </tr>\n",
       "    <tr>\n",
       "      <th>3</th>\n",
       "      <td>0.915818</td>\n",
       "      <td>0.870112</td>\n",
       "      <td>23.776610</td>\n",
       "      <td>27.325904</td>\n",
       "      <td>32.015621</td>\n",
       "      <td>30.364453</td>\n",
       "      <td>32.893768</td>\n",
       "      <td>33.615473</td>\n",
       "      <td>11405.458333</td>\n",
       "      <td>25.025563</td>\n",
       "      <td>...</td>\n",
       "      <td>0.078068</td>\n",
       "      <td>0.003506</td>\n",
       "      <td>0.154113</td>\n",
       "      <td>62.725981</td>\n",
       "      <td>0.000871</td>\n",
       "      <td>0.904840</td>\n",
       "      <td>0.001255</td>\n",
       "      <td>765.979214</td>\n",
       "      <td>0.049422</td>\n",
       "      <td>0.660940</td>\n",
       "    </tr>\n",
       "    <tr>\n",
       "      <th>4</th>\n",
       "      <td>0.749441</td>\n",
       "      <td>0.696361</td>\n",
       "      <td>26.762209</td>\n",
       "      <td>38.431538</td>\n",
       "      <td>44.721360</td>\n",
       "      <td>33.615473</td>\n",
       "      <td>44.283180</td>\n",
       "      <td>46.303348</td>\n",
       "      <td>20924.958333</td>\n",
       "      <td>28.802174</td>\n",
       "      <td>...</td>\n",
       "      <td>0.121453</td>\n",
       "      <td>0.003647</td>\n",
       "      <td>0.098878</td>\n",
       "      <td>30.431140</td>\n",
       "      <td>0.000734</td>\n",
       "      <td>1.587414</td>\n",
       "      <td>0.000810</td>\n",
       "      <td>467.936095</td>\n",
       "      <td>0.036467</td>\n",
       "      <td>0.355561</td>\n",
       "    </tr>\n",
       "  </tbody>\n",
       "</table>\n",
       "<p>5 rows × 1316 columns</p>\n",
       "</div>"
      ],
      "text/plain": [
       "   original_shape_Elongation  original_shape_Flatness  \\\n",
       "0                   0.862742                 0.760160   \n",
       "1                   0.195262                 0.155003   \n",
       "2                   0.891811                 0.743956   \n",
       "3                   0.915818                 0.870112   \n",
       "4                   0.749441                 0.696361   \n",
       "\n",
       "   original_shape_LeastAxisLength  original_shape_MajorAxisLength  \\\n",
       "0                       20.154583                       26.513595   \n",
       "1                       14.697807                       94.822870   \n",
       "2                       31.774654                       42.710380   \n",
       "3                       23.776610                       27.325904   \n",
       "4                       26.762209                       38.431538   \n",
       "\n",
       "   original_shape_Maximum2DDiameterColumn  \\\n",
       "0                               28.844410   \n",
       "1                               21.470911   \n",
       "2                               47.169906   \n",
       "3                               32.015621   \n",
       "4                               44.721360   \n",
       "\n",
       "   original_shape_Maximum2DDiameterRow  original_shape_Maximum2DDiameterSlice  \\\n",
       "0                            28.017851                              30.479501   \n",
       "1                            25.942244                              55.605755   \n",
       "2                            47.801674                              47.127487   \n",
       "3                            30.364453                              32.893768   \n",
       "4                            33.615473                              44.283180   \n",
       "\n",
       "   original_shape_Maximum3DDiameter  original_shape_MeshVolume  \\\n",
       "0                         31.511903                8412.125000   \n",
       "1                         67.253253                4448.916667   \n",
       "2                         49.739320               36899.333333   \n",
       "3                         33.615473               11405.458333   \n",
       "4                         46.303348               20924.958333   \n",
       "\n",
       "   original_shape_MinorAxisLength  ...  \\\n",
       "0                       22.874397  ...   \n",
       "1                       18.515323  ...   \n",
       "2                       38.089603  ...   \n",
       "3                       25.025563  ...   \n",
       "4                       28.802174  ...   \n",
       "\n",
       "   wavelet-LLL_gldm_LargeDependenceLowGrayLevelEmphasis  \\\n",
       "0                                           0.056744      \n",
       "1                                           0.178399      \n",
       "2                                           0.447999      \n",
       "3                                           0.078068      \n",
       "4                                           0.121453      \n",
       "\n",
       "   wavelet-LLL_gldm_LowGrayLevelEmphasis  \\\n",
       "0                               0.003653   \n",
       "1                               0.006561   \n",
       "2                               0.008529   \n",
       "3                               0.003506   \n",
       "4                               0.003647   \n",
       "\n",
       "   wavelet-LLL_gldm_SmallDependenceEmphasis  \\\n",
       "0                                  0.243141   \n",
       "1                                  0.147414   \n",
       "2                                  0.071891   \n",
       "3                                  0.154113   \n",
       "4                                  0.098878   \n",
       "\n",
       "   wavelet-LLL_gldm_SmallDependenceHighGrayLevelEmphasis  \\\n",
       "0                                         138.872941       \n",
       "1                                          35.903653       \n",
       "2                                          14.242139       \n",
       "3                                          62.725981       \n",
       "4                                          30.431140       \n",
       "\n",
       "   wavelet-LLL_gldm_SmallDependenceLowGrayLevelEmphasis  \\\n",
       "0                                           0.001281      \n",
       "1                                           0.001559      \n",
       "2                                           0.001250      \n",
       "3                                           0.000871      \n",
       "4                                           0.000734      \n",
       "\n",
       "   wavelet-LLL_ngtdm_Busyness  wavelet-LLL_ngtdm_Coarseness  \\\n",
       "0                    0.492637                      0.002118   \n",
       "1                    0.774044                      0.002574   \n",
       "2                    4.385980                      0.000390   \n",
       "3                    0.904840                      0.001255   \n",
       "4                    1.587414                      0.000810   \n",
       "\n",
       "   wavelet-LLL_ngtdm_Complexity  wavelet-LLL_ngtdm_Contrast  \\\n",
       "0                   1332.393121                    0.141763   \n",
       "1                    373.181512                    0.041588   \n",
       "2                    405.355626                    0.018624   \n",
       "3                    765.979214                    0.049422   \n",
       "4                    467.936095                    0.036467   \n",
       "\n",
       "   wavelet-LLL_ngtdm_Strength  \n",
       "0                    1.236767  \n",
       "1                    0.853819  \n",
       "2                    0.224885  \n",
       "3                    0.660940  \n",
       "4                    0.355561  \n",
       "\n",
       "[5 rows x 1316 columns]"
      ]
     },
     "execution_count": 12,
     "metadata": {},
     "output_type": "execute_result"
    }
   ],
   "source": [
    "df.head(5)"
   ]
  },
  {
   "cell_type": "code",
   "execution_count": 17,
   "id": "331a3319",
   "metadata": {},
   "outputs": [
    {
     "name": "stdout",
     "output_type": "stream",
     "text": [
      "training data: 240\n",
      "testing data: 60\n",
      "--------------------\n",
      "train: True     218\n",
      "False     22\n",
      "Name: malignant, dtype: int64\n",
      "test: True     57\n",
      "False     3\n",
      "Name: malignant, dtype: int64\n"
     ]
    }
   ],
   "source": [
    "print('training data:', len(train_X))\n",
    "print('testing data:', len(test_X))\n",
    "print('-' * 20)\n",
    "print('train:', train_y.value_counts())\n",
    "print('test:', test_y.value_counts())\n",
    "\n",
    "ori_train_X = train_X\n",
    "ori_train_y = train_y"
   ]
  },
  {
   "cell_type": "markdown",
   "id": "4b5e3e4e",
   "metadata": {},
   "source": [
    "## Oversampling for malignant data\n",
    "\n",
    "using the package imblearn"
   ]
  },
  {
   "cell_type": "code",
   "execution_count": 56,
   "id": "d683fbc0",
   "metadata": {},
   "outputs": [
    {
     "name": "stdout",
     "output_type": "stream",
     "text": [
      "train: True     130\n",
      "False     65\n",
      "Name: malignant, dtype: int64\n"
     ]
    }
   ],
   "source": [
    "from imblearn.over_sampling import SMOTE\n",
    "from imblearn.under_sampling import RandomUnderSampler\n",
    "from imblearn.pipeline import Pipeline\n",
    "\n",
    "over = SMOTE(sampling_strategy=0.3, random_state=0)\n",
    "under = RandomUnderSampler(sampling_strategy=0.5)\n",
    "\n",
    "steps = [('o', over), ('u', under)]\n",
    "pipeline = Pipeline(steps=steps)\n",
    "\n",
    "train_X, train_y = pipeline.fit_resample(ori_train_X, ori_train_y)\n",
    "\n",
    "print('train:', train_y.value_counts())"
   ]
  },
  {
   "cell_type": "markdown",
   "id": "b271930d",
   "metadata": {},
   "source": [
    "## SVC"
   ]
  },
  {
   "cell_type": "code",
   "execution_count": 86,
   "id": "50512095",
   "metadata": {},
   "outputs": [
    {
     "name": "stdout",
     "output_type": "stream",
     "text": [
      "0.95\n",
      "auc: 0.5\n",
      "[[57  0]\n",
      " [ 3  0]]\n",
      "[True, False]\n"
     ]
    }
   ],
   "source": [
    "clf = make_pipeline(SVC(gamma='auto')) # StandardScaler()\n",
    "clf.fit(train_X, train_y)\n",
    "\n",
    "clf_predict_y = clf.predict(test_X)\n",
    "\n",
    "labels=[True, False]\n",
    "\n",
    "cf_matrix = confusion_matrix(test_y, clf_predict_y, labels=labels)\n",
    "accuracy = metrics.accuracy_score(test_y, clf_predict_y)\n",
    "print(accuracy)\n",
    "\n",
    "auc = roc_auc_score(test_y, clf_predict_y)\n",
    "print('auc:', auc)\n",
    "\n",
    "print(cf_matrix)\n",
    "print(labels)"
   ]
  },
  {
   "cell_type": "code",
   "execution_count": 87,
   "id": "86717ff1",
   "metadata": {},
   "outputs": [
    {
     "data": {
      "text/plain": [
       "GridSearchCV(cv=5, estimator=SVC(),\n",
       "             param_grid=[{'coef0': [0, 1], 'degree': [3, 4, 5],\n",
       "                          'gamma': ['scale', 'auto'], 'kernel': ['poly']},\n",
       "                         {'C': [0.5, 1, 1.5], 'gamma': ['scale', 'auto']}],\n",
       "             scoring='accuracy')"
      ]
     },
     "execution_count": 87,
     "metadata": {},
     "output_type": "execute_result"
    }
   ],
   "source": [
    "# default kernal is rbf\n",
    "parameters = {'kernel':('linear', 'rbf'), 'C':[1, 10]}\n",
    "\n",
    "param_grid = [\n",
    "    { 'kernel': ['poly'], 'degree': [3, 4, 5], 'coef0': [0, 1], 'gamma': ['scale', 'auto'] },\n",
    "    { 'C': [0.5, 1, 1.5], 'gamma': ['scale', 'auto'] }\n",
    "]\n",
    "\n",
    "svc_clf = SVC()\n",
    "grid_search = GridSearchCV(svc_clf, param_grid, cv=5,\n",
    "                          scoring='accuracy')\n",
    "\n",
    "grid_search.fit(train_X, train_y)"
   ]
  },
  {
   "cell_type": "code",
   "execution_count": 89,
   "id": "bc944a92",
   "metadata": {},
   "outputs": [
    {
     "name": "stdout",
     "output_type": "stream",
     "text": [
      "best params: {'coef0': 0, 'degree': 3, 'gamma': 'scale', 'kernel': 'poly'}\n",
      "acc: 0.95\n",
      "auc: 0.5\n",
      "confusion_matrix:\n",
      " [[57  0]\n",
      " [ 3  0]]\n",
      "[True, False]\n"
     ]
    }
   ],
   "source": [
    "print('best params:', grid_search.best_params_)\n",
    "\n",
    "best_svc_clf = grid_search.best_estimator_\n",
    "best_predict_y = best_svc_clf.predict(test_X)\n",
    "\n",
    "# evaluation\n",
    "accuracy = metrics.accuracy_score(test_y, best_predict_y)\n",
    "print('acc:', accuracy)\n",
    "\n",
    "auc = roc_auc_score(test_y, clf_predict_y)\n",
    "print('auc:', auc)\n",
    "\n",
    "print('confusion_matrix:\\n', confusion_matrix(test_y, best_predict_y, labels=labels))\n",
    "print(labels)"
   ]
  },
  {
   "cell_type": "code",
   "execution_count": 62,
   "id": "069c9d4d",
   "metadata": {},
   "outputs": [
    {
     "data": {
      "image/png": "[encoded data removed]",
      "text/plain": [
       "<Figure size 864x864 with 2 Axes>"
      ]
     },
     "metadata": {},
     "output_type": "display_data"
    }
   ],
   "source": [
    "def plot_confusion(cf_matrix, labels):\n",
    "    ax = sns.heatmap(cf_matrix, annot=True, cmap='Blues')\n",
    "    sns.set(rc={'figure.figsize':(12, 12)})\n",
    "\n",
    "    ax.set_title('Seaborn Confusion Matrix with labels\\n\\n');\n",
    "    ax.set_xlabel('\\nPredicted')\n",
    "    ax.set_ylabel('Actual');\n",
    "\n",
    "    ## Ticket labels - List must be in alphabetical order\n",
    "    # ax.xaxis.set_ticklabels(labels)\n",
    "    # ax.yaxis.set_ticklabels(labels)\n",
    "\n",
    "    ## Display the visualization of the Confusion Matrix.\n",
    "    plt.show()\n",
    "\n",
    "plot_confusion(cf_matrix, labels)"
   ]
  },
  {
   "cell_type": "markdown",
   "id": "10bb96be",
   "metadata": {},
   "source": [
    "## Random Forest"
   ]
  },
  {
   "cell_type": "code",
   "execution_count": 63,
   "id": "2eb15fcb",
   "metadata": {},
   "outputs": [
    {
     "name": "stdout",
     "output_type": "stream",
     "text": [
      "0.95\n",
      "confusion_matrix:\n",
      " [[57  0]\n",
      " [ 3  0]]\n",
      "[True, False]\n"
     ]
    }
   ],
   "source": [
    "forest = ensemble.RandomForestClassifier(n_estimators = 100)\n",
    "forest_fit = forest.fit(train_X, train_y)\n",
    "\n",
    "# predict\n",
    "rf_predict_y = forest.predict(test_X)\n",
    "\n",
    "# evaluation\n",
    "accuracy = metrics.accuracy_score(test_y, clf_predict_y)\n",
    "print(accuracy)\n",
    "\n",
    "print('confusion_matrix:\\n', confusion_matrix(test_y, clf_predict_y, labels=labels))\n",
    "print(labels)"
   ]
  },
  {
   "cell_type": "markdown",
   "id": "bfae491e",
   "metadata": {},
   "source": [
    "## Grid Search for params"
   ]
  },
  {
   "cell_type": "code",
   "execution_count": 64,
   "id": "d624eaa3",
   "metadata": {},
   "outputs": [
    {
     "data": {
      "text/plain": [
       "GridSearchCV(cv=5, estimator=RandomForestClassifier(),\n",
       "             param_grid=[{'max_depth': [5, 10, 20, None],\n",
       "                          'n_estimators': [10, 30, 100]}],\n",
       "             scoring='accuracy')"
      ]
     },
     "execution_count": 64,
     "metadata": {},
     "output_type": "execute_result"
    }
   ],
   "source": [
    "param_grid = [\n",
    "    {'n_estimators': [10, 30, 100], 'max_depth': [5, 10, 20, None]}\n",
    "]\n",
    "\n",
    "forest_clf = ensemble.RandomForestClassifier()\n",
    "grid_search = GridSearchCV(forest_clf, param_grid, cv=5,\n",
    "                          scoring='accuracy')\n",
    "\n",
    "grid_search.fit(train_X, train_y)"
   ]
  },
  {
   "cell_type": "code",
   "execution_count": 65,
   "id": "f64aa5ae",
   "metadata": {},
   "outputs": [
    {
     "name": "stdout",
     "output_type": "stream",
     "text": [
      "best params: {'max_depth': None, 'n_estimators': 100}\n",
      "test acc: 0.9166666666666666\n",
      "train acc: 1.0\n",
      "confusion_matrix:\n",
      " [[54  3]\n",
      " [ 2  1]]\n",
      "[True, False]\n"
     ]
    }
   ],
   "source": [
    "print('best params:', grid_search.best_params_)\n",
    "\n",
    "best_rf = grid_search.best_estimator_\n",
    "best_rf_predict_y = best_rf.predict(test_X)\n",
    "\n",
    "# evaluation\n",
    "accuracy = metrics.accuracy_score(test_y, best_rf_predict_y)\n",
    "print('test acc:', accuracy)\n",
    "print('train acc:', metrics.accuracy_score(train_y, best_rf.predict(train_X)))\n",
    "\n",
    "print('confusion_matrix:\\n', confusion_matrix(test_y, rf_predict_y, labels=labels))\n",
    "print(labels)"
   ]
  },
  {
   "cell_type": "code",
   "execution_count": 49,
   "id": "e68138e9",
   "metadata": {},
   "outputs": [],
   "source": [
    "# le = LabelEncoder()\n",
    "# le.fit(train_y)\n",
    "# print(le.classes_)\n",
    "# encoded_train_y = le.transform(train_y)"
   ]
  },
  {
   "cell_type": "code",
   "execution_count": 50,
   "id": "b6c8b12c",
   "metadata": {},
   "outputs": [],
   "source": [
    "from sklearn.metrics import roc_curve, roc_auc_score, auc\n",
    "\n",
    "# print(roc_auc_score(test_y_mapping, forest.predict_proba(test_X), multi_class='ovr'))\n",
    "# fpr, tpr, threshold = roc_auc_score(test_y, rf_predict_y, multiclass='ovo')\n",
    "# print(fpr, tpr, threshold)\n",
    "\n",
    "# auc1 = auc(fpr, tpr)\n",
    "# ## Plot the result\n",
    "# plt.title('Receiver Operating Characteristic')\n",
    "# plt.plot(fpr, tpr, color = 'orange', label = 'AUC = %0.2f' % auc1)\n",
    "# plt.legend(loc = 'lower right')\n",
    "# plt.plot([0, 1], [0, 1],'r--')\n",
    "# plt.xlim([0, 1])\n",
    "# plt.ylim([0, 1])\n",
    "# plt.ylabel('True Positive Rate')\n",
    "# plt.xlabel('False Positive Rate')\n",
    "# plt.show()    \n"
   ]
  },
  {
   "cell_type": "markdown",
   "id": "c2f6c0b0",
   "metadata": {},
   "source": [
    "## Feature Selection for Random Forest"
   ]
  },
  {
   "cell_type": "code",
   "execution_count": 66,
   "id": "a16bb0b2",
   "metadata": {},
   "outputs": [
    {
     "ename": "TypeError",
     "evalue": "can only concatenate str (not \"numpy.bool_\") to str",
     "output_type": "error",
     "traceback": [
      "\u001b[1;31m---------------------------------------------------------------------------\u001b[0m",
      "\u001b[1;31mTypeError\u001b[0m                                 Traceback (most recent call last)",
      "\u001b[1;32m~\\AppData\\Local\\Temp\\ipykernel_9560\\944197398.py\u001b[0m in \u001b[0;36m<module>\u001b[1;34m\u001b[0m\n\u001b[0;32m     10\u001b[0m                    \u001b[0mclass_names\u001b[0m\u001b[1;33m=\u001b[0m\u001b[0mcn\u001b[0m\u001b[1;33m,\u001b[0m\u001b[1;33m\u001b[0m\u001b[1;33m\u001b[0m\u001b[0m\n\u001b[0;32m     11\u001b[0m                    \u001b[0mfilled\u001b[0m \u001b[1;33m=\u001b[0m \u001b[1;32mTrue\u001b[0m\u001b[1;33m,\u001b[0m\u001b[1;33m\u001b[0m\u001b[1;33m\u001b[0m\u001b[0m\n\u001b[1;32m---> 12\u001b[1;33m                    ax = axes[index]);\n\u001b[0m\u001b[0;32m     13\u001b[0m \u001b[1;33m\u001b[0m\u001b[0m\n\u001b[0;32m     14\u001b[0m     \u001b[0maxes\u001b[0m\u001b[1;33m[\u001b[0m\u001b[0mindex\u001b[0m\u001b[1;33m]\u001b[0m\u001b[1;33m.\u001b[0m\u001b[0mset_title\u001b[0m\u001b[1;33m(\u001b[0m\u001b[1;34m'Estimator: '\u001b[0m \u001b[1;33m+\u001b[0m \u001b[0mstr\u001b[0m\u001b[1;33m(\u001b[0m\u001b[0mindex\u001b[0m\u001b[1;33m)\u001b[0m\u001b[1;33m,\u001b[0m \u001b[0mfontsize\u001b[0m \u001b[1;33m=\u001b[0m \u001b[1;36m11\u001b[0m\u001b[1;33m)\u001b[0m\u001b[1;33m\u001b[0m\u001b[1;33m\u001b[0m\u001b[0m\n",
      "\u001b[1;32mc:\\Users\\Gina\\anaconda3\\envs\\radiomics\\lib\\site-packages\\sklearn\\tree\\_export.py\u001b[0m in \u001b[0;36mplot_tree\u001b[1;34m(decision_tree, max_depth, feature_names, class_names, label, filled, impurity, node_ids, proportion, rounded, precision, ax, fontsize)\u001b[0m\n\u001b[0;32m    193\u001b[0m         \u001b[0mfontsize\u001b[0m\u001b[1;33m=\u001b[0m\u001b[0mfontsize\u001b[0m\u001b[1;33m,\u001b[0m\u001b[1;33m\u001b[0m\u001b[1;33m\u001b[0m\u001b[0m\n\u001b[0;32m    194\u001b[0m     )\n\u001b[1;32m--> 195\u001b[1;33m     \u001b[1;32mreturn\u001b[0m \u001b[0mexporter\u001b[0m\u001b[1;33m.\u001b[0m\u001b[0mexport\u001b[0m\u001b[1;33m(\u001b[0m\u001b[0mdecision_tree\u001b[0m\u001b[1;33m,\u001b[0m \u001b[0max\u001b[0m\u001b[1;33m=\u001b[0m\u001b[0max\u001b[0m\u001b[1;33m)\u001b[0m\u001b[1;33m\u001b[0m\u001b[1;33m\u001b[0m\u001b[0m\n\u001b[0m\u001b[0;32m    196\u001b[0m \u001b[1;33m\u001b[0m\u001b[0m\n\u001b[0;32m    197\u001b[0m \u001b[1;33m\u001b[0m\u001b[0m\n",
      "\u001b[1;32mc:\\Users\\Gina\\anaconda3\\envs\\radiomics\\lib\\site-packages\\sklearn\\tree\\_export.py\u001b[0m in \u001b[0;36mexport\u001b[1;34m(self, decision_tree, ax)\u001b[0m\n\u001b[0;32m    654\u001b[0m         \u001b[0max\u001b[0m\u001b[1;33m.\u001b[0m\u001b[0mclear\u001b[0m\u001b[1;33m(\u001b[0m\u001b[1;33m)\u001b[0m\u001b[1;33m\u001b[0m\u001b[1;33m\u001b[0m\u001b[0m\n\u001b[0;32m    655\u001b[0m         \u001b[0max\u001b[0m\u001b[1;33m.\u001b[0m\u001b[0mset_axis_off\u001b[0m\u001b[1;33m(\u001b[0m\u001b[1;33m)\u001b[0m\u001b[1;33m\u001b[0m\u001b[1;33m\u001b[0m\u001b[0m\n\u001b[1;32m--> 656\u001b[1;33m         \u001b[0mmy_tree\u001b[0m \u001b[1;33m=\u001b[0m \u001b[0mself\u001b[0m\u001b[1;33m.\u001b[0m\u001b[0m_make_tree\u001b[0m\u001b[1;33m(\u001b[0m\u001b[1;36m0\u001b[0m\u001b[1;33m,\u001b[0m \u001b[0mdecision_tree\u001b[0m\u001b[1;33m.\u001b[0m\u001b[0mtree_\u001b[0m\u001b[1;33m,\u001b[0m \u001b[0mdecision_tree\u001b[0m\u001b[1;33m.\u001b[0m\u001b[0mcriterion\u001b[0m\u001b[1;33m)\u001b[0m\u001b[1;33m\u001b[0m\u001b[1;33m\u001b[0m\u001b[0m\n\u001b[0m\u001b[0;32m    657\u001b[0m         \u001b[0mdraw_tree\u001b[0m \u001b[1;33m=\u001b[0m \u001b[0mbuchheim\u001b[0m\u001b[1;33m(\u001b[0m\u001b[0mmy_tree\u001b[0m\u001b[1;33m)\u001b[0m\u001b[1;33m\u001b[0m\u001b[1;33m\u001b[0m\u001b[0m\n\u001b[0;32m    658\u001b[0m \u001b[1;33m\u001b[0m\u001b[0m\n",
      "\u001b[1;32mc:\\Users\\Gina\\anaconda3\\envs\\radiomics\\lib\\site-packages\\sklearn\\tree\\_export.py\u001b[0m in \u001b[0;36m_make_tree\u001b[1;34m(self, node_id, et, criterion, depth)\u001b[0m\n\u001b[0;32m    630\u001b[0m         \u001b[1;31m# traverses _tree.Tree recursively, builds intermediate\u001b[0m\u001b[1;33m\u001b[0m\u001b[1;33m\u001b[0m\u001b[1;33m\u001b[0m\u001b[0m\n\u001b[0;32m    631\u001b[0m         \u001b[1;31m# \"_reingold_tilford.Tree\" object\u001b[0m\u001b[1;33m\u001b[0m\u001b[1;33m\u001b[0m\u001b[1;33m\u001b[0m\u001b[0m\n\u001b[1;32m--> 632\u001b[1;33m         \u001b[0mname\u001b[0m \u001b[1;33m=\u001b[0m \u001b[0mself\u001b[0m\u001b[1;33m.\u001b[0m\u001b[0mnode_to_str\u001b[0m\u001b[1;33m(\u001b[0m\u001b[0met\u001b[0m\u001b[1;33m,\u001b[0m \u001b[0mnode_id\u001b[0m\u001b[1;33m,\u001b[0m \u001b[0mcriterion\u001b[0m\u001b[1;33m=\u001b[0m\u001b[0mcriterion\u001b[0m\u001b[1;33m)\u001b[0m\u001b[1;33m\u001b[0m\u001b[1;33m\u001b[0m\u001b[0m\n\u001b[0m\u001b[0;32m    633\u001b[0m         if et.children_left[node_id] != _tree.TREE_LEAF and (\n\u001b[0;32m    634\u001b[0m             \u001b[0mself\u001b[0m\u001b[1;33m.\u001b[0m\u001b[0mmax_depth\u001b[0m \u001b[1;32mis\u001b[0m \u001b[1;32mNone\u001b[0m \u001b[1;32mor\u001b[0m \u001b[0mdepth\u001b[0m \u001b[1;33m<=\u001b[0m \u001b[0mself\u001b[0m\u001b[1;33m.\u001b[0m\u001b[0mmax_depth\u001b[0m\u001b[1;33m\u001b[0m\u001b[1;33m\u001b[0m\u001b[0m\n",
      "\u001b[1;32mc:\\Users\\Gina\\anaconda3\\envs\\radiomics\\lib\\site-packages\\sklearn\\tree\\_export.py\u001b[0m in \u001b[0;36mnode_to_str\u001b[1;34m(self, tree, node_id, criterion)\u001b[0m\n\u001b[0;32m    372\u001b[0m                     \u001b[0mcharacters\u001b[0m\u001b[1;33m[\u001b[0m\u001b[1;36m2\u001b[0m\u001b[1;33m]\u001b[0m\u001b[1;33m,\u001b[0m\u001b[1;33m\u001b[0m\u001b[1;33m\u001b[0m\u001b[0m\n\u001b[0;32m    373\u001b[0m                 )\n\u001b[1;32m--> 374\u001b[1;33m             \u001b[0mnode_string\u001b[0m \u001b[1;33m+=\u001b[0m \u001b[0mclass_name\u001b[0m\u001b[1;33m\u001b[0m\u001b[1;33m\u001b[0m\u001b[0m\n\u001b[0m\u001b[0;32m    375\u001b[0m \u001b[1;33m\u001b[0m\u001b[0m\n\u001b[0;32m    376\u001b[0m         \u001b[1;31m# Clean up any trailing newlines\u001b[0m\u001b[1;33m\u001b[0m\u001b[1;33m\u001b[0m\u001b[1;33m\u001b[0m\u001b[0m\n",
      "\u001b[1;31mTypeError\u001b[0m: can only concatenate str (not \"numpy.bool_\") to str"
     ]
    },
    {
     "data": {
      "image/png": "[encoded data removed]",
      "text/plain": [
       "<Figure size 9000x1800 with 5 Axes>"
      ]
     },
     "metadata": {},
     "output_type": "display_data"
    }
   ],
   "source": [
    "from sklearn import tree\n",
    "\n",
    "# This may not the best way to view each estimator as it is small\n",
    "fn=df.columns\n",
    "cn=label\n",
    "fig, axes = plt.subplots(nrows = 1,ncols = 5,figsize = (10,2), dpi=900)\n",
    "for index in range(0, 5):\n",
    "    tree.plot_tree(forest.estimators_[index],\n",
    "                   feature_names = fn, \n",
    "                   class_names=cn,\n",
    "                   filled = True,\n",
    "                   ax = axes[index]);\n",
    "\n",
    "    axes[index].set_title('Estimator: ' + str(index), fontsize = 11)\n",
    "fig.savefig('rf_individualtree.png')"
   ]
  },
  {
   "cell_type": "code",
   "execution_count": 53,
   "id": "a733f045",
   "metadata": {},
   "outputs": [],
   "source": [
    "import xgboost as xgb\n",
    "import numpy as np\n",
    "\n",
    "# clf1 = xgb.XGBClassifier()\n",
    "\n",
    "# param_dist = {\n",
    "#     'n_estimators': [80, 100, 150],\n",
    "#     'max_depth': [5, 10, 15],\n",
    "#     'learning_rate' : [0.01, 0.1, 0.5, 1],\n",
    "#     'subsample' : [0.7, 0.8, 0.9],\n",
    "#     'colsample_bytree' : [0.5, 0.7, 0.9],\n",
    "#     'min_child_weight' : [3, 5, 7]\n",
    "# }\n",
    "\n",
    "# grid_search = GridSearchCV(clf1, param_dist, cv = 5, scoring = 'accuracy')\n",
    "\n",
    "# grid_search.fit(train_X, train_y)\n",
    "\n",
    "# best_estimator = grid_search.best_estimator_\n",
    "\n",
    "# print(best_estimator)\n",
    "\n",
    "# print('best params:', grid_search.best_params_)\n",
    "\n",
    "# best_rf = grid_search.best_estimator_\n",
    "# best_rf_predict_y = best_rf.predict(test_X)\n",
    "\n",
    "# # evaluation\n",
    "# accuracy = metrics.accuracy_score(test_y, best_rf_predict_y)\n",
    "# print('acc:', accuracy)\n",
    "\n",
    "# print('confusion_matrix:\\n', confusion_matrix(test_y, rf_predict_y, labels=labels))\n",
    "# print(labels)"
   ]
  },
  {
   "cell_type": "markdown",
   "id": "a4896b46",
   "metadata": {},
   "source": [
    "### Original Data"
   ]
  },
  {
   "cell_type": "code",
   "execution_count": 67,
   "id": "c5ace3e2",
   "metadata": {},
   "outputs": [
    {
     "name": "stdout",
     "output_type": "stream",
     "text": [
      "wavelet including 8 filter: 744\n",
      "log including 5 params: 465\n"
     ]
    }
   ],
   "source": [
    "wavelet_column = []\n",
    "log_column = []\n",
    "\n",
    "for item in df.columns:\n",
    "    if 'wavelet' in item:\n",
    "        wavelet_column.append(item)\n",
    "    elif 'log' in item:\n",
    "        log_column.append(item)\n",
    "\n",
    "print('wavelet including 8 filter:', len(wavelet_column))\n",
    "print('log including 5 params:', len(log_column))"
   ]
  },
  {
   "cell_type": "code",
   "execution_count": 68,
   "id": "be11972a",
   "metadata": {},
   "outputs": [
    {
     "name": "stdout",
     "output_type": "stream",
     "text": [
      "['wavelet-LLH_firstorder_10Percentile', 'wavelet-LLH_firstorder_90Percentile', 'wavelet-LLH_firstorder_Energy', 'wavelet-LLH_firstorder_Entropy', 'wavelet-LLH_firstorder_InterquartileRange']\n",
      "['log-sigma-1-0-mm-3D_firstorder_10Percentile', 'log-sigma-1-0-mm-3D_firstorder_90Percentile', 'log-sigma-1-0-mm-3D_firstorder_Energy', 'log-sigma-1-0-mm-3D_firstorder_Entropy', 'log-sigma-1-0-mm-3D_firstorder_InterquartileRange']\n"
     ]
    }
   ],
   "source": [
    "print(wavelet_column[:5])\n",
    "print(log_column[:5])"
   ]
  },
  {
   "cell_type": "code",
   "execution_count": 69,
   "id": "e099456d",
   "metadata": {},
   "outputs": [
    {
     "name": "stdout",
     "output_type": "stream",
     "text": [
      "(300, 107)\n"
     ]
    }
   ],
   "source": [
    "# original image and features\n",
    "df_original = df.drop(wavelet_column, axis=1)\n",
    "df_original = df_original.drop(log_column, axis=1)\n",
    "\n",
    "# log\n",
    "print(df_original.shape)"
   ]
  },
  {
   "cell_type": "code",
   "execution_count": 70,
   "id": "0e448f1b",
   "metadata": {},
   "outputs": [
    {
     "name": "stdout",
     "output_type": "stream",
     "text": [
      "(300, 744)\n",
      "(300, 465)\n"
     ]
    }
   ],
   "source": [
    "df_wavelet = df[wavelet_column]\n",
    "df_log = df[log_column]\n",
    "\n",
    "print(df_wavelet.shape)\n",
    "print(df_log.shape)"
   ]
  },
  {
   "cell_type": "code",
   "execution_count": 71,
   "id": "382e03f7",
   "metadata": {},
   "outputs": [
    {
     "name": "stdout",
     "output_type": "stream",
     "text": [
      "LLH: 93\n",
      "LHL: 93\n",
      "HLL: 93\n",
      "LHH: 93\n",
      "HLH: 93\n",
      "HHL: 93\n",
      "HHH: 93\n"
     ]
    }
   ],
   "source": [
    "wavelet_LLH = [ col for col in wavelet_column if 'LLH' in col]\n",
    "wavelet_LHL = [ col for col in wavelet_column if 'LHL' in col]\n",
    "wavelet_HLL = [ col for col in wavelet_column if 'HLL' in col]\n",
    "\n",
    "wavelet_LHH = [ col for col in wavelet_column if 'LHH' in col]\n",
    "wavelet_HLH = [ col for col in wavelet_column if 'HLH' in col]\n",
    "wavelet_HHL = [ col for col in wavelet_column if 'HHL' in col]\n",
    "\n",
    "wavelet_HHH = [ col for col in wavelet_column if 'HHH' in col]\n",
    "\n",
    "print('LLH:', len(wavelet_LLH))\n",
    "print('LHL:', len(wavelet_LHL))\n",
    "print('HLL:', len(wavelet_HLL))\n",
    "\n",
    "print('LHH:', len(wavelet_LHH))\n",
    "print('HLH:', len(wavelet_HLH))\n",
    "print('HHL:', len(wavelet_HHL))\n",
    "\n",
    "print('HHH:', len(wavelet_HHH))\n",
    "\n",
    "df_wavelet_LLH = df[wavelet_LLH]\n",
    "df_wavelet_LHL = df[wavelet_LHL]\n",
    "df_wavelet_HLL = df[wavelet_HLL]\n",
    "\n",
    "df_wavelet_LHH = df[wavelet_LHH]\n",
    "df_wavelet_HLH = df[wavelet_HLH]\n",
    "df_wavelet_HHL = df[wavelet_HHL]\n",
    "\n",
    "df_wavelet_HHH = df[wavelet_HHH]\n"
   ]
  },
  {
   "cell_type": "code",
   "execution_count": 72,
   "id": "5547e437",
   "metadata": {},
   "outputs": [
    {
     "name": "stdout",
     "output_type": "stream",
     "text": [
      "df log 1 : (300, 93)\n",
      "df log 2 : (300, 93)\n",
      "df log 3 : (300, 93)\n",
      "df log 4 : (300, 93)\n",
      "df log 5 : (300, 93)\n"
     ]
    }
   ],
   "source": [
    "log_filter = []\n",
    "df_log_list = []\n",
    "\n",
    "for idx in range(1, 6):\n",
    "    matched_col = [ col for col in log_column if f\"log-sigma-{idx}-0\" in col]\n",
    "    log_filter.append(matched_col)\n",
    "\n",
    "    df_log_list.append(df[matched_col])\n",
    "    print('df log', idx, ':', df_log_list[idx - 1].shape)"
   ]
  },
  {
   "cell_type": "code",
   "execution_count": 101,
   "id": "456ea641",
   "metadata": {},
   "outputs": [],
   "source": [
    "records = []\n",
    "record = { 'data': 'none', 'method': 'none', 'train acc': 0, 'test acc': 0, 'auc': 0 }\n",
    "\n",
    "\n",
    "def grid_search_evaluate(train_X, train_y, test_X, test_y, grid_search, method_name, data_type):\n",
    "    print('best params:', grid_search.best_params_)\n",
    "\n",
    "    best_clf = grid_search.best_estimator_\n",
    "    best_clf_predict_y = best_clf.predict(test_X)\n",
    "\n",
    "    # evaluation\n",
    "    train_accuracy = metrics.accuracy_score(train_y, best_clf.predict(train_X))\n",
    "    accuracy = metrics.accuracy_score(test_y, best_clf_predict_y)\n",
    "    print('train acc:', train_accuracy)\n",
    "    print('test acc:', accuracy)\n",
    "\n",
    "    auc = roc_auc_score(test_y, best_clf_predict_y)\n",
    "    print('auc:', auc)\n",
    "\n",
    "    print('confusion_matrix:\\n', confusion_matrix(test_y, best_clf_predict_y, labels=labels))\n",
    "\n",
    "    record['data'] = data_type\n",
    "    record['method'] = method_name\n",
    "    record['train acc'] = train_accuracy\n",
    "    record['test acc'] = accuracy\n",
    "    record['auc'] = auc\n",
    "    records.append(record.copy())\n",
    "\n",
    "def SVC_grid_search(train_X, train_y, test_X, test_y, type_name):\n",
    "    parameters = {'kernel':('linear', 'rbf'), 'C':[1, 10]}\n",
    "\n",
    "    param_grid = [\n",
    "        { 'kernel': ['poly'], 'degree': [3, 4, 5], 'coef0': [0, 1], 'gamma': ['scale', 'auto'] },\n",
    "        { 'C': [0.5, 1, 1.5], 'gamma': ['scale', 'auto'] }\n",
    "    ]\n",
    "\n",
    "    svc_clf = SVC()\n",
    "    grid_search = GridSearchCV(svc_clf, param_grid, cv=5,\n",
    "                            scoring='accuracy')\n",
    "\n",
    "    grid_search.fit(train_X, train_y)\n",
    "    # Evaluation\n",
    "    grid_search_evaluate(train_X, train_y, test_X, test_y, grid_search, 'SVM', type_name)\n",
    "\n",
    "\n",
    "def RF_grid_search(train_X, train_y, test_X, test_y, type_name):\n",
    "    param_grid = [\n",
    "        {'n_estimators': [10, 30, 100], 'max_depth': [5, 10, 20, None]}\n",
    "    ]\n",
    "\n",
    "    forest_clf = ensemble.RandomForestClassifier()\n",
    "    grid_search = GridSearchCV(forest_clf, param_grid, cv=5,\n",
    "                            scoring='accuracy')\n",
    "\n",
    "    grid_search.fit(train_X, train_y)\n",
    "    # Evaluation\n",
    "    grid_search_evaluate(train_X, train_y, test_X, test_y, grid_search, 'Random Forest', type_name)\n",
    "\n",
    "\n",
    "def run_predict(df_type, type_name):\n",
    "    train_X, test_X, train_y, test_y = train_test_split(df_type, label, test_size = 0.2)\n",
    "\n",
    "    # oversampling\n",
    "    train_X, train_y = pipeline.fit_resample(train_X, train_y)\n",
    "\n",
    "    # SVC\n",
    "    SVC_grid_search(train_X, train_y, test_X, test_y, type_name)\n",
    "\n",
    "    # Random Forest\n",
    "    RF_grid_search(train_X, train_y, test_X, test_y, type_name)"
   ]
  },
  {
   "cell_type": "code",
   "execution_count": 102,
   "id": "a8c023b9",
   "metadata": {},
   "outputs": [
    {
     "name": "stdout",
     "output_type": "stream",
     "text": [
      "best params: {'coef0': 0, 'degree': 3, 'gamma': 'scale', 'kernel': 'poly'}\n",
      "train acc: 0.6666666666666666\n",
      "test acc: 0.9\n",
      "auc: 0.5\n",
      "confusion_matrix:\n",
      " [[54  0]\n",
      " [ 6  0]]\n",
      "best params: {'max_depth': 20, 'n_estimators': 30}\n",
      "train acc: 1.0\n",
      "test acc: 0.9\n",
      "auc: 0.6481481481481481\n",
      "confusion_matrix:\n",
      " [[52  2]\n",
      " [ 4  2]]\n"
     ]
    }
   ],
   "source": [
    "run_predict(df_original, 'original')"
   ]
  },
  {
   "cell_type": "code",
   "execution_count": 103,
   "id": "cc0f4053",
   "metadata": {},
   "outputs": [
    {
     "name": "stdout",
     "output_type": "stream",
     "text": [
      "best params: {'coef0': 0, 'degree': 3, 'gamma': 'scale', 'kernel': 'poly'}\n",
      "train acc: 0.696969696969697\n",
      "test acc: 0.8666666666666667\n",
      "auc: 0.48148148148148145\n",
      "confusion_matrix:\n",
      " [[52  2]\n",
      " [ 6  0]]\n",
      "best params: {'max_depth': 20, 'n_estimators': 100}\n",
      "train acc: 1.0\n",
      "test acc: 0.9166666666666666\n",
      "auc: 0.6574074074074074\n",
      "confusion_matrix:\n",
      " [[53  1]\n",
      " [ 4  2]]\n"
     ]
    }
   ],
   "source": [
    "run_predict(df_wavelet, 'wavelet')"
   ]
  },
  {
   "cell_type": "code",
   "execution_count": 104,
   "id": "af1b50c1",
   "metadata": {},
   "outputs": [
    {
     "name": "stdout",
     "output_type": "stream",
     "text": [
      "best params: {'coef0': 0, 'degree': 3, 'gamma': 'scale', 'kernel': 'poly'}\n",
      "train acc: 0.6666666666666666\n",
      "test acc: 0.9333333333333333\n",
      "auc: 0.6160714285714286\n",
      "confusion_matrix:\n",
      " [[55  1]\n",
      " [ 3  1]]\n",
      "best params: {'max_depth': 10, 'n_estimators': 100}\n",
      "train acc: 1.0\n",
      "test acc: 0.9166666666666666\n",
      "auc: 0.49107142857142855\n",
      "confusion_matrix:\n",
      " [[55  1]\n",
      " [ 4  0]]\n"
     ]
    }
   ],
   "source": [
    "run_predict(df_log, 'log')"
   ]
  },
  {
   "cell_type": "code",
   "execution_count": 105,
   "id": "9c185fa5",
   "metadata": {},
   "outputs": [
    {
     "name": "stdout",
     "output_type": "stream",
     "text": [
      "LLH :\n",
      "best params: {'coef0': 0, 'degree': 3, 'gamma': 'scale', 'kernel': 'poly'}\n",
      "train acc: 0.6666666666666666\n",
      "test acc: 0.9166666666666666\n",
      "auc: 0.5\n",
      "confusion_matrix:\n",
      " [[55  0]\n",
      " [ 5  0]]\n",
      "best params: {'max_depth': None, 'n_estimators': 30}\n",
      "train acc: 1.0\n",
      "test acc: 0.8833333333333333\n",
      "auc: 0.5727272727272726\n",
      "confusion_matrix:\n",
      " [[52  3]\n",
      " [ 4  1]]\n",
      "------------------------------\n",
      "LHL :\n",
      "best params: {'coef0': 0, 'degree': 5, 'gamma': 'scale', 'kernel': 'poly'}\n",
      "train acc: 0.6717948717948717\n",
      "test acc: 0.9166666666666666\n",
      "auc: 0.49107142857142855\n",
      "confusion_matrix:\n",
      " [[55  1]\n",
      " [ 4  0]]\n",
      "best params: {'max_depth': 5, 'n_estimators': 10}\n",
      "train acc: 0.958974358974359\n",
      "test acc: 0.7333333333333333\n",
      "auc: 0.39285714285714285\n",
      "confusion_matrix:\n",
      " [[44 12]\n",
      " [ 4  0]]\n",
      "------------------------------\n",
      "HLL :\n",
      "best params: {'coef0': 0, 'degree': 5, 'gamma': 'scale', 'kernel': 'poly'}\n",
      "train acc: 0.6865671641791045\n",
      "test acc: 0.85\n",
      "auc: 0.5\n",
      "confusion_matrix:\n",
      " [[51  0]\n",
      " [ 9  0]]\n",
      "best params: {'max_depth': 10, 'n_estimators': 100}\n",
      "train acc: 1.0\n",
      "test acc: 0.85\n",
      "auc: 0.5457516339869282\n",
      "confusion_matrix:\n",
      " [[50  1]\n",
      " [ 8  1]]\n",
      "------------------------------\n",
      "LHH :\n",
      "best params: {'coef0': 1, 'degree': 5, 'gamma': 'scale', 'kernel': 'poly'}\n",
      "train acc: 0.6767676767676768\n",
      "test acc: 0.85\n",
      "auc: 0.4811320754716981\n",
      "confusion_matrix:\n",
      " [[51  2]\n",
      " [ 7  0]]\n",
      "best params: {'max_depth': None, 'n_estimators': 100}\n",
      "train acc: 1.0\n",
      "test acc: 0.8333333333333334\n",
      "auc: 0.5336927223719676\n",
      "confusion_matrix:\n",
      " [[49  4]\n",
      " [ 6  1]]\n",
      "------------------------------\n",
      "HLH :\n",
      "best params: {'coef0': 1, 'degree': 4, 'gamma': 'scale', 'kernel': 'poly'}\n",
      "train acc: 0.702020202020202\n",
      "test acc: 0.8833333333333333\n",
      "auc: 0.4818181818181818\n",
      "confusion_matrix:\n",
      " [[53  2]\n",
      " [ 5  0]]\n",
      "best params: {'max_depth': None, 'n_estimators': 100}\n",
      "train acc: 1.0\n",
      "test acc: 0.85\n",
      "auc: 0.4636363636363636\n",
      "confusion_matrix:\n",
      " [[51  4]\n",
      " [ 5  0]]\n",
      "------------------------------\n",
      "HHL :\n",
      "best params: {'coef0': 0, 'degree': 3, 'gamma': 'scale', 'kernel': 'poly'}\n",
      "train acc: 0.6666666666666666\n",
      "test acc: 0.8833333333333333\n",
      "auc: 0.5\n",
      "confusion_matrix:\n",
      " [[53  0]\n",
      " [ 7  0]]\n",
      "best params: {'max_depth': None, 'n_estimators': 100}\n",
      "train acc: 1.0\n",
      "test acc: 0.8333333333333334\n",
      "auc: 0.4716981132075472\n",
      "confusion_matrix:\n",
      " [[50  3]\n",
      " [ 7  0]]\n",
      "------------------------------\n",
      "HHH :\n",
      "best params: {'coef0': 0, 'degree': 3, 'gamma': 'scale', 'kernel': 'poly'}\n",
      "train acc: 0.6717171717171717\n",
      "test acc: 0.9\n",
      "auc: 0.5\n",
      "confusion_matrix:\n",
      " [[54  0]\n",
      " [ 6  0]]\n",
      "best params: {'max_depth': None, 'n_estimators': 30}\n",
      "train acc: 1.0\n",
      "test acc: 0.85\n",
      "auc: 0.5462962962962963\n",
      "confusion_matrix:\n",
      " [[50  4]\n",
      " [ 5  1]]\n",
      "------------------------------\n"
     ]
    }
   ],
   "source": [
    "wavelet_filters = [ df_wavelet_LLH, \n",
    "                    df_wavelet_LHL,\n",
    "                    df_wavelet_HLL,\n",
    "                    df_wavelet_LHH,\n",
    "                    df_wavelet_HLH,\n",
    "                    df_wavelet_HHL,\n",
    "                    df_wavelet_HHH\n",
    "                  ]\n",
    "col_name = ['LLH',\n",
    "            'LHL',\n",
    "            'HLL',\n",
    "            'LHH',\n",
    "            'HLH',\n",
    "            'HHL',\n",
    "            'HHH']\n",
    "\n",
    "for idx, wav_col in enumerate(wavelet_filters):\n",
    "  print(col_name[idx], \":\")\n",
    "  run_predict(wav_col, 'wavelet_' + col_name[idx])\n",
    "  print('-' * 30)"
   ]
  },
  {
   "cell_type": "code",
   "execution_count": 106,
   "id": "67e9ee5d",
   "metadata": {},
   "outputs": [
    {
     "name": "stdout",
     "output_type": "stream",
     "text": [
      "---------- log 1 : ----------\n",
      "best params: {'coef0': 0, 'degree': 3, 'gamma': 'auto', 'kernel': 'poly'}\n",
      "train acc: 0.6666666666666666\n",
      "test acc: 0.9166666666666666\n",
      "auc: 0.5\n",
      "confusion_matrix:\n",
      " [[55  0]\n",
      " [ 5  0]]\n",
      "best params: {'max_depth': None, 'n_estimators': 100}\n",
      "train acc: 1.0\n",
      "test acc: 0.8666666666666667\n",
      "auc: 0.5636363636363636\n",
      "confusion_matrix:\n",
      " [[51  4]\n",
      " [ 4  1]]\n",
      "---------- log 2 : ----------\n",
      "best params: {'coef0': 0, 'degree': 3, 'gamma': 'scale', 'kernel': 'poly'}\n",
      "train acc: 0.6666666666666666\n",
      "test acc: 0.8833333333333333\n",
      "auc: 0.5\n",
      "confusion_matrix:\n",
      " [[53  0]\n",
      " [ 7  0]]\n",
      "best params: {'max_depth': 10, 'n_estimators': 100}\n",
      "train acc: 1.0\n",
      "test acc: 0.8333333333333334\n",
      "auc: 0.4716981132075472\n",
      "confusion_matrix:\n",
      " [[50  3]\n",
      " [ 7  0]]\n",
      "---------- log 3 : ----------\n",
      "best params: {'coef0': 0, 'degree': 5, 'gamma': 'scale', 'kernel': 'poly'}\n",
      "train acc: 0.6820512820512821\n",
      "test acc: 0.95\n",
      "auc: 0.5\n",
      "confusion_matrix:\n",
      " [[57  0]\n",
      " [ 3  0]]\n",
      "best params: {'max_depth': 10, 'n_estimators': 100}\n",
      "train acc: 1.0\n",
      "test acc: 0.8833333333333333\n",
      "auc: 0.6228070175438596\n",
      "confusion_matrix:\n",
      " [[52  5]\n",
      " [ 2  1]]\n",
      "---------- log 4 : ----------\n",
      "best params: {'coef0': 0, 'degree': 5, 'gamma': 'scale', 'kernel': 'poly'}\n",
      "train acc: 0.6820512820512821\n",
      "test acc: 0.9166666666666666\n",
      "auc: 0.4824561403508772\n",
      "confusion_matrix:\n",
      " [[55  2]\n",
      " [ 3  0]]\n",
      "best params: {'max_depth': None, 'n_estimators': 30}\n",
      "train acc: 1.0\n",
      "test acc: 0.7833333333333333\n",
      "auc: 0.41228070175438597\n",
      "confusion_matrix:\n",
      " [[47 10]\n",
      " [ 3  0]]\n",
      "---------- log 5 : ----------\n",
      "best params: {'coef0': 0, 'degree': 3, 'gamma': 'scale', 'kernel': 'poly'}\n",
      "train acc: 0.6666666666666666\n",
      "test acc: 0.9\n",
      "auc: 0.5\n",
      "confusion_matrix:\n",
      " [[54  0]\n",
      " [ 6  0]]\n",
      "best params: {'max_depth': 10, 'n_estimators': 100}\n",
      "train acc: 1.0\n",
      "test acc: 0.8166666666666667\n",
      "auc: 0.4537037037037037\n",
      "confusion_matrix:\n",
      " [[49  5]\n",
      " [ 6  0]]\n"
     ]
    }
   ],
   "source": [
    "for idx, log_level in enumerate(df_log_list):\n",
    "    print('-' * 10, 'log', idx+1, \":\", '-' * 10)\n",
    "    run_predict(log_level, 'log_' + str(idx + 1))"
   ]
  },
  {
   "cell_type": "code",
   "execution_count": 109,
   "id": "c4f1c0c3",
   "metadata": {},
   "outputs": [],
   "source": [
    "result = pd.DataFrame(records)\n",
    "result.to_csv('predict_malignant.csv')"
   ]
  },
  {
   "cell_type": "markdown",
   "id": "b00a2497",
   "metadata": {},
   "source": [
    "# Conclusion\n",
    "* Over-sampling for **oncocytoma**: 16', **chromophobe**: 27, **papillary**: 28 => Double these data\n",
    "* Model:\n",
    "    1. SVC\n",
    "        * best params: {'C': 1, 'gamma': 'auto'}\n",
    "        <!-- * acc: 0.9805825242718447 -->\n",
    "    2. Random Forest\n",
    "        * best params: {'max_depth': None, 'n_estimators': 100}\n",
    "        <!-- * acc: 0.9514563106796117 -->"
   ]
  },
  {
   "cell_type": "markdown",
   "id": "228cec17",
   "metadata": {},
   "source": []
  }
 ],
 "metadata": {
  "kernelspec": {
   "display_name": "Python 3.7.13 ('radiomics')",
   "language": "python",
   "name": "python3"
  },
  "language_info": {
   "codemirror_mode": {
    "name": "ipython",
    "version": 3
   },
   "file_extension": ".py",
   "mimetype": "text/x-python",
   "name": "python",
   "nbconvert_exporter": "python",
   "pygments_lexer": "ipython3",
   "version": "3.7.13"
  },
  "vscode": {
   "interpreter": {
    "hash": "271bdf5b2366a7a5c4a2bc2655b6227eaf786fec7ecc5258e6500122fd98954b"
   }
  }
 },
 "nbformat": 4,
 "nbformat_minor": 5
}
